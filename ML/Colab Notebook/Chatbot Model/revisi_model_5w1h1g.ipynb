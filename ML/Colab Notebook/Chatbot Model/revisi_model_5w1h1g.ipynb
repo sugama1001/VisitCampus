{
  "nbformat": 4,
  "nbformat_minor": 0,
  "metadata": {
    "colab": {
      "provenance": []
    },
    "kernelspec": {
      "name": "python3",
      "display_name": "Python 3"
    },
    "language_info": {
      "name": "python"
    }
  },
  "cells": [
    {
      "cell_type": "code",
      "execution_count": 1,
      "metadata": {
        "id": "yQJcdL2AcDYk"
      },
      "outputs": [],
      "source": [
        "import pandas as pd\n",
        "import tensorflow as tf\n",
        "import numpy as np\n",
        "from tensorflow.keras.preprocessing.text import Tokenizer\n",
        "from tensorflow.keras.preprocessing.sequence import pad_sequences\n",
        "from sklearn.model_selection import train_test_split\n",
        "from tensorflow.keras.utils import to_categorical\n",
        "from sklearn.preprocessing import LabelEncoder\n",
        "from tensorflow.keras.layers import Dense, Lambda, Embedding, Bidirectional, LSTM, TextVectorization"
      ]
    },
    {
      "cell_type": "code",
      "source": [
        "vocab_size = 1000\n",
        "embedding_dim = 16\n",
        "max_length = 120\n",
        "trunc_type = 'post'\n",
        "padding_type = 'post'\n",
        "oov_tok = \"<OOV>\""
      ],
      "metadata": {
        "id": "GUtXeQ7HjlpO"
      },
      "execution_count": 2,
      "outputs": []
    },
    {
      "cell_type": "code",
      "source": [
        "data = pd.read_csv('/content/model_5W1H1G_dataset_more.csv')\n",
        "\n",
        "sentences = data['feature']\n",
        "labels = data['label']\n",
        "\n",
        "training_sentences, testing_sentences, train_label, test_label = train_test_split(sentences, labels, test_size = 0.2, stratify = labels)"
      ],
      "metadata": {
        "id": "hj4AJd-7gW9r"
      },
      "execution_count": 13,
      "outputs": []
    },
    {
      "cell_type": "code",
      "source": [
        "# tokenizer = Tokenizer(num_words = vocab_size, oov_token = oov_tok)\n",
        "# tokenizer.fit_on_texts(training_sentences)\n",
        "\n",
        "# train_sequences = tokenizer.texts_to_sequences(training_sentences)\n",
        "# train_padded = pad_sequences(train_sequences, maxlen = max_length, padding = padding_type, truncating = trunc_type)\n",
        "\n",
        "# validation_sequences = tokenizer.texts_to_sequences(testing_sentences)\n",
        "# valid_padded = pad_sequences(validation_sequences, maxlen = max_length, padding = padding_type, truncating = trunc_type)\n",
        "\n"
      ],
      "metadata": {
        "id": "1X7x3kqJiuGo"
      },
      "execution_count": 41,
      "outputs": []
    },
    {
      "cell_type": "code",
      "source": [
        "# label_tokenizer = Tokenizer()\n",
        "# label_tokenizer.fit_on_texts(labels)\n",
        "\n",
        "# train_label_final = np.array(label_tokenizer.texts_to_sequences(train_label))\n",
        "# test_label_final = np.array(label_tokenizer.texts_to_sequences(test_label))\n",
        "\n",
        "# train_label_final = to_categorical(train_label_final - 1)\n",
        "# test_label_final = to_categorical(test_label_final - 1)\n",
        "\n",
        "label_encoder = LabelEncoder()\n",
        "train_label_final = label_encoder.fit_transform(train_label)\n",
        "test_label_final = label_encoder.transform(test_label)\n",
        "train_label_final = to_categorical(train_label_final, num_classes=8)\n",
        "test_label_final = to_categorical(test_label_final, num_classes=8)\n"
      ],
      "metadata": {
        "id": "_WMocdcsmAaa"
      },
      "execution_count": 14,
      "outputs": []
    },
    {
      "cell_type": "code",
      "source": [
        "class MyCallback(tf.keras.callbacks.Callback):\n",
        "  def on_epoch_end(self, epoch, logs = None):\n",
        "    if logs.get('val_loss') < 0.12 and logs.get('accuracy') >= 0.98:\n",
        "      self.model.stop_training = True"
      ],
      "metadata": {
        "id": "YoK8C0HAhodJ"
      },
      "execution_count": 22,
      "outputs": []
    },
    {
      "cell_type": "code",
      "source": [
        "vectorize_layer = TextVectorization(\n",
        "    max_tokens=vocab_size,\n",
        "    output_mode='int',\n",
        "    output_sequence_length=max_length,\n",
        "    pad_to_max_tokens=True\n",
        ")"
      ],
      "metadata": {
        "id": "nPX1F_Gcxu9X"
      },
      "execution_count": 23,
      "outputs": []
    },
    {
      "cell_type": "code",
      "source": [
        "model = tf.keras.Sequential([\n",
        "    vectorize_layer,\n",
        "    Embedding(input_dim=vocab_size, output_dim=embedding_dim, input_length=max_length),\n",
        "    Bidirectional(LSTM(64, return_sequences=True)),\n",
        "    Bidirectional(LSTM(32)),\n",
        "    Dense(512, activation='relu'),\n",
        "    Dense(256, activation='relu'),\n",
        "    Dense(8, activation='softmax')\n",
        "])\n",
        "\n",
        "vectorize_layer.adapt(training_sentences.to_numpy())"
      ],
      "metadata": {
        "id": "IFrklJxPmc6M"
      },
      "execution_count": 24,
      "outputs": []
    },
    {
      "cell_type": "code",
      "source": [
        "model.compile(\n",
        "    loss = tf.keras.losses.CategoricalCrossentropy(),\n",
        "    optimizer = tf.keras.optimizers.Adam(learning_rate = 0.001),\n",
        "    metrics = ['accuracy']\n",
        ")"
      ],
      "metadata": {
        "id": "IuJE3cAPmhC1"
      },
      "execution_count": 25,
      "outputs": []
    },
    {
      "cell_type": "code",
      "source": [
        "model.fit(\n",
        "    training_sentences,\n",
        "    train_label_final,\n",
        "    validation_data = (testing_sentences, test_label_final),\n",
        "    epochs = 150,\n",
        "    callbacks = [MyCallback()]\n",
        ")"
      ],
      "metadata": {
        "colab": {
          "base_uri": "https://localhost:8080/"
        },
        "id": "eOqC7tl0mhV4",
        "outputId": "4fb4a1dc-47d3-462c-b6f9-2457e2dad537"
      },
      "execution_count": 26,
      "outputs": [
        {
          "output_type": "stream",
          "name": "stdout",
          "text": [
            "Epoch 1/150\n",
            "17/17 [==============================] - 59s 408ms/step - loss: 2.0778 - accuracy: 0.1379 - val_loss: 2.0648 - val_accuracy: 0.1473\n",
            "Epoch 2/150\n",
            "17/17 [==============================] - 4s 238ms/step - loss: 2.0145 - accuracy: 0.2117 - val_loss: 1.8196 - val_accuracy: 0.2791\n",
            "Epoch 3/150\n",
            "17/17 [==============================] - 6s 350ms/step - loss: 1.6152 - accuracy: 0.3398 - val_loss: 1.4465 - val_accuracy: 0.4031\n",
            "Epoch 4/150\n",
            "17/17 [==============================] - 4s 243ms/step - loss: 1.2679 - accuracy: 0.4990 - val_loss: 1.0680 - val_accuracy: 0.5504\n",
            "Epoch 5/150\n",
            "17/17 [==============================] - 4s 235ms/step - loss: 0.9233 - accuracy: 0.6233 - val_loss: 0.6949 - val_accuracy: 0.7054\n",
            "Epoch 6/150\n",
            "17/17 [==============================] - 6s 363ms/step - loss: 0.5157 - accuracy: 0.8194 - val_loss: 0.3161 - val_accuracy: 0.9457\n",
            "Epoch 7/150\n",
            "17/17 [==============================] - 4s 239ms/step - loss: 0.1600 - accuracy: 0.9748 - val_loss: 0.1193 - val_accuracy: 0.9612\n",
            "Epoch 8/150\n",
            "17/17 [==============================] - 4s 241ms/step - loss: 0.0575 - accuracy: 0.9903 - val_loss: 0.0560 - val_accuracy: 0.9922\n"
          ]
        },
        {
          "output_type": "execute_result",
          "data": {
            "text/plain": [
              "<keras.src.callbacks.History at 0x7bd27584abf0>"
            ]
          },
          "metadata": {},
          "execution_count": 26
        }
      ]
    },
    {
      "cell_type": "code",
      "source": [
        "model.save('/content/drive/MyDrive/Colab Notebooks/MODEL 5W1H1G/revisi_model_5w1h1g')"
      ],
      "metadata": {
        "id": "KMcPW7ui5DQ-"
      },
      "execution_count": 30,
      "outputs": []
    },
    {
      "cell_type": "code",
      "source": [
        "from google.colab import drive\n",
        "drive.mount('/content/drive')"
      ],
      "metadata": {
        "colab": {
          "base_uri": "https://localhost:8080/"
        },
        "id": "T4BE7b_36FYx",
        "outputId": "dfacaa27-bc9b-46c6-f74b-649473689ee9"
      },
      "execution_count": 29,
      "outputs": [
        {
          "output_type": "stream",
          "name": "stdout",
          "text": [
            "Mounted at /content/drive\n"
          ]
        }
      ]
    },
    {
      "cell_type": "code",
      "source": [
        "import joblib\n",
        "joblib.dump(label_encoder, '/content/drive/MyDrive/Colab Notebooks/MODEL 5W1H1G/label_encoder.joblib')"
      ],
      "metadata": {
        "colab": {
          "base_uri": "https://localhost:8080/"
        },
        "id": "VUbbJ2vh5TcF",
        "outputId": "dd5ee5d6-bb68-477b-f386-a5ab3e3e2cca"
      },
      "execution_count": 31,
      "outputs": [
        {
          "output_type": "execute_result",
          "data": {
            "text/plain": [
              "['/content/drive/MyDrive/Colab Notebooks/MODEL 5W1H1G/label_encoder.joblib']"
            ]
          },
          "metadata": {},
          "execution_count": 31
        }
      ]
    },
    {
      "cell_type": "code",
      "source": [
        "import joblib\n",
        "\n",
        "# Load label encoder\n",
        "label_encoder = joblib.load('/content/label_encoder.joblib')\n",
        "model = tf.keras.models.load_model('/content/revisi_model_5w1h1g')\n"
      ],
      "metadata": {
        "id": "-VNJAcB76_d8"
      },
      "execution_count": 6,
      "outputs": []
    },
    {
      "cell_type": "code",
      "source": [
        "\n",
        "# Melakukan prediksi\n",
        "predictions = model.predict(['kenapa kamu melakukan hal itu?'])\n",
        "\n",
        "# Mengambil indeks kelas dengan probabilitas tertinggi\n",
        "predicted_class_index = tf.argmax(predictions, axis=1).numpy()[0]\n",
        "\n",
        "# Menggunakan label encoder untuk mendapatkan nama kelas\n",
        "predicted_class_name = label_encoder.classes_[predicted_class_index]\n",
        "\n",
        "print(f'Predicted Class: {predicted_class_name}')"
      ],
      "metadata": {
        "colab": {
          "base_uri": "https://localhost:8080/"
        },
        "id": "x33Np_9S-tYy",
        "outputId": "ab0b8d43-ca63-455f-d3b5-e7284ece0ae3"
      },
      "execution_count": 9,
      "outputs": [
        {
          "output_type": "stream",
          "name": "stdout",
          "text": [
            "1/1 [==============================] - 0s 117ms/step\n",
            "Predicted Class: kenapa\n"
          ]
        }
      ]
    }
  ]
}