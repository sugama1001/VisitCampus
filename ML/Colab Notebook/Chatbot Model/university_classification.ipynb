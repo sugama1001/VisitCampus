{
  "nbformat": 4,
  "nbformat_minor": 0,
  "metadata": {
    "colab": {
      "provenance": []
    },
    "kernelspec": {
      "name": "python3",
      "display_name": "Python 3"
    },
    "language_info": {
      "name": "python"
    }
  },
  "cells": [
    {
      "cell_type": "code",
      "execution_count": null,
      "metadata": {
        "id": "UyoZOEuWJ20k"
      },
      "outputs": [],
      "source": [
        "import pandas as pd\n",
        "import tensorflow as tf\n",
        "import numpy as np\n",
        "from tensorflow.keras.preprocessing.text import Tokenizer\n",
        "from tensorflow.keras.preprocessing.sequence import pad_sequences\n",
        "from sklearn.model_selection import train_test_split\n",
        "from tensorflow.keras.utils import to_categorical\n",
        "from sklearn.preprocessing import LabelEncoder"
      ]
    },
    {
      "cell_type": "code",
      "source": [
        "from google.colab import drive\n",
        "drive.mount('/content/drive')"
      ],
      "metadata": {
        "id": "uJTm9KTY4HRC",
        "colab": {
          "base_uri": "https://localhost:8080/"
        },
        "outputId": "9e52a3cb-256a-4c7b-c7e5-dec33f4aac7c"
      },
      "execution_count": null,
      "outputs": [
        {
          "output_type": "stream",
          "name": "stdout",
          "text": [
            "Drive already mounted at /content/drive; to attempt to forcibly remount, call drive.mount(\"/content/drive\", force_remount=True).\n"
          ]
        }
      ]
    },
    {
      "cell_type": "code",
      "source": [
        "vocab_size = 1000\n",
        "embedding_dim = 16\n",
        "max_length = 120\n",
        "trunc_type = 'post'\n",
        "padding_type = 'post'\n",
        "oov_tok = \"<OOV>\""
      ],
      "metadata": {
        "id": "9ozsN0pJKTBs"
      },
      "execution_count": null,
      "outputs": []
    },
    {
      "cell_type": "code",
      "source": [
        "data = pd.read_csv('/content/university_classification.csv')\n",
        "\n",
        "sentences = data['pertanyaan']\n",
        "university = data['universitas']\n",
        "\n",
        "# Membersihkan data dari nilai NaN\n",
        "university = university.dropna()\n",
        "\n",
        "training_sentences, testing_sentences, train_university, test_university = train_test_split(sentences, university, test_size = 0.1, stratify = university)"
      ],
      "metadata": {
        "id": "dlhtn_M-KUtV"
      },
      "execution_count": null,
      "outputs": []
    },
    {
      "cell_type": "code",
      "source": [
        "tokenizer = Tokenizer(num_words = vocab_size, oov_token = oov_tok)\n",
        "tokenizer.fit_on_texts(training_sentences)\n",
        "\n",
        "train_sequences = tokenizer.texts_to_sequences(training_sentences)\n",
        "train_padded = pad_sequences(train_sequences, maxlen = max_length, padding = padding_type, truncating = trunc_type)\n",
        "\n",
        "validation_sequences = tokenizer.texts_to_sequences(testing_sentences)\n",
        "valid_padded = pad_sequences(validation_sequences, maxlen = max_length, padding = padding_type, truncating = trunc_type)"
      ],
      "metadata": {
        "id": "P3mt1f-2KeZ1"
      },
      "execution_count": null,
      "outputs": []
    },
    {
      "cell_type": "code",
      "source": [
        "label_encoder = LabelEncoder()\n",
        "label_encoder.fit(university)\n",
        "\n",
        "train_label_encoded = label_encoder.transform(train_university)\n",
        "test_label_encoded = label_encoder.transform(test_university)\n",
        "\n",
        "num_classes = len(label_encoder.classes_)\n",
        "\n",
        "train_label_final = to_categorical(train_label_encoded, num_classes=num_classes)\n",
        "test_label_final = to_categorical(test_label_encoded, num_classes=num_classes)"
      ],
      "metadata": {
        "id": "ChZXUaPeKiP5"
      },
      "execution_count": null,
      "outputs": []
    },
    {
      "cell_type": "code",
      "source": [
        "# encoder_url = 'https://www.kaggle.com/models/tensorflow/bert/frameworks/TensorFlow2/variations/multi-cased-l-12-h-768-a-12/versions/4'\n",
        "# preprocess_url = \"https://www.kaggle.com/models/tensorflow/bert/frameworks/TensorFlow2/variations/multi-cased-preprocess/versions/3\"\n",
        "# embedding_model1 = hub.KerasLayer('encoder_url', trainable=True)\n",
        "# preprocess_model1 = hub.KerasLayer(preprocess_url)"
      ],
      "metadata": {
        "id": "gPcmoJQjKlT6"
      },
      "execution_count": null,
      "outputs": []
    },
    {
      "cell_type": "code",
      "source": [
        "class MyCallback(tf.keras.callbacks.Callback):\n",
        "  def on_epoch_end(self, epoch, logs = None):\n",
        "    if logs.get('val_loss') < 0.60 and logs.get('val_accuracy') >= 0.85:\n",
        "      self.model.stop_training = True"
      ],
      "metadata": {
        "id": "XnpfoK1NKnsu"
      },
      "execution_count": null,
      "outputs": []
    },
    {
      "cell_type": "code",
      "source": [
        "model = tf.keras.Sequential([\n",
        "    tf.keras.layers.Embedding(input_dim=vocab_size, output_dim=embedding_dim, input_length=max_length),\n",
        "    tf.keras.layers.Bidirectional(tf.keras.layers.LSTM(64, return_sequences=True)),\n",
        "    tf.keras.layers.Dropout(0.5),\n",
        "    tf.keras.layers.Bidirectional(tf.keras.layers.LSTM(32)),\n",
        "    tf.keras.layers.Dropout(0.5),\n",
        "    tf.keras.layers.Dense(512, activation='relu'),\n",
        "    tf.keras.layers.Dropout(0.5),\n",
        "    tf.keras.layers.Dense(256, activation='relu'),\n",
        "    tf.keras.layers.Dense(20, activation='softmax')\n",
        "])"
      ],
      "metadata": {
        "id": "Kj39uYnQKpp7"
      },
      "execution_count": null,
      "outputs": []
    },
    {
      "cell_type": "code",
      "source": [
        "model.compile(\n",
        "    loss = tf.keras.losses.CategoricalCrossentropy(),\n",
        "    optimizer = tf.keras.optimizers.Adam(learning_rate = 0.001),\n",
        "    metrics = ['accuracy']\n",
        ")"
      ],
      "metadata": {
        "id": "UHtCrejIKzRk"
      },
      "execution_count": null,
      "outputs": []
    },
    {
      "cell_type": "code",
      "source": [
        "model.fit(\n",
        "    train_padded,\n",
        "    train_label_final,\n",
        "    validation_data=(valid_padded, test_label_final),\n",
        "    epochs=100,\n",
        "    batch_size=16,\n",
        "    callbacks=[MyCallback()]\n",
        ")"
      ],
      "metadata": {
        "colab": {
          "base_uri": "https://localhost:8080/"
        },
        "id": "i2KoWEmEK0xE",
        "outputId": "dc565fc0-e003-4e3b-e195-1a23b00b9505"
      },
      "execution_count": null,
      "outputs": [
        {
          "output_type": "stream",
          "name": "stdout",
          "text": [
            "Epoch 1/100\n",
            "27/27 [==============================] - 20s 211ms/step - loss: 2.9988 - accuracy: 0.0509 - val_loss: 2.9975 - val_accuracy: 0.0417\n",
            "Epoch 2/100\n",
            "27/27 [==============================] - 5s 174ms/step - loss: 2.9990 - accuracy: 0.0231 - val_loss: 2.9961 - val_accuracy: 0.0625\n",
            "Epoch 3/100\n",
            "27/27 [==============================] - 6s 210ms/step - loss: 2.9977 - accuracy: 0.0509 - val_loss: 2.9975 - val_accuracy: 0.0417\n",
            "Epoch 4/100\n",
            "27/27 [==============================] - 4s 144ms/step - loss: 2.9972 - accuracy: 0.0556 - val_loss: 2.9984 - val_accuracy: 0.0625\n",
            "Epoch 5/100\n",
            "27/27 [==============================] - 4s 143ms/step - loss: 2.9921 - accuracy: 0.0625 - val_loss: 2.9828 - val_accuracy: 0.0833\n",
            "Epoch 6/100\n",
            "27/27 [==============================] - 6s 218ms/step - loss: 2.8367 - accuracy: 0.0995 - val_loss: 2.6602 - val_accuracy: 0.0833\n",
            "Epoch 7/100\n",
            "27/27 [==============================] - 4s 162ms/step - loss: 2.5223 - accuracy: 0.1181 - val_loss: 2.4222 - val_accuracy: 0.2500\n",
            "Epoch 8/100\n",
            "27/27 [==============================] - 4s 141ms/step - loss: 2.3692 - accuracy: 0.1250 - val_loss: 2.3434 - val_accuracy: 0.1042\n",
            "Epoch 9/100\n",
            "27/27 [==============================] - 4s 163ms/step - loss: 2.1787 - accuracy: 0.1806 - val_loss: 2.1091 - val_accuracy: 0.2083\n",
            "Epoch 10/100\n",
            "27/27 [==============================] - 6s 220ms/step - loss: 2.0799 - accuracy: 0.2106 - val_loss: 1.9891 - val_accuracy: 0.2292\n",
            "Epoch 11/100\n",
            "27/27 [==============================] - 4s 143ms/step - loss: 1.8922 - accuracy: 0.2731 - val_loss: 1.9363 - val_accuracy: 0.3125\n",
            "Epoch 12/100\n",
            "27/27 [==============================] - 4s 143ms/step - loss: 1.8612 - accuracy: 0.2338 - val_loss: 1.9269 - val_accuracy: 0.3125\n",
            "Epoch 13/100\n",
            "27/27 [==============================] - 5s 205ms/step - loss: 1.7788 - accuracy: 0.2431 - val_loss: 1.7817 - val_accuracy: 0.2500\n",
            "Epoch 14/100\n",
            "27/27 [==============================] - 5s 175ms/step - loss: 1.6752 - accuracy: 0.2986 - val_loss: 1.8652 - val_accuracy: 0.2708\n",
            "Epoch 15/100\n",
            "27/27 [==============================] - 4s 141ms/step - loss: 1.6454 - accuracy: 0.3032 - val_loss: 1.8572 - val_accuracy: 0.2708\n",
            "Epoch 16/100\n",
            "27/27 [==============================] - 4s 150ms/step - loss: 1.6049 - accuracy: 0.3171 - val_loss: 1.6971 - val_accuracy: 0.3333\n",
            "Epoch 17/100\n",
            "27/27 [==============================] - 6s 233ms/step - loss: 1.4998 - accuracy: 0.3380 - val_loss: 1.6590 - val_accuracy: 0.4375\n",
            "Epoch 18/100\n",
            "27/27 [==============================] - 4s 144ms/step - loss: 1.4769 - accuracy: 0.3981 - val_loss: 1.6329 - val_accuracy: 0.3542\n",
            "Epoch 19/100\n",
            "27/27 [==============================] - 4s 143ms/step - loss: 1.4867 - accuracy: 0.3935 - val_loss: 1.4740 - val_accuracy: 0.4375\n",
            "Epoch 20/100\n",
            "27/27 [==============================] - 6s 207ms/step - loss: 1.3918 - accuracy: 0.4468 - val_loss: 1.5328 - val_accuracy: 0.3542\n",
            "Epoch 21/100\n",
            "27/27 [==============================] - 6s 220ms/step - loss: 1.2594 - accuracy: 0.4977 - val_loss: 1.3312 - val_accuracy: 0.5208\n",
            "Epoch 22/100\n",
            "27/27 [==============================] - 4s 147ms/step - loss: 1.1792 - accuracy: 0.5116 - val_loss: 1.2553 - val_accuracy: 0.5000\n",
            "Epoch 23/100\n",
            "27/27 [==============================] - 5s 178ms/step - loss: 1.1893 - accuracy: 0.4815 - val_loss: 1.3039 - val_accuracy: 0.5833\n",
            "Epoch 24/100\n",
            "27/27 [==============================] - 6s 207ms/step - loss: 1.0453 - accuracy: 0.5833 - val_loss: 1.1490 - val_accuracy: 0.4375\n",
            "Epoch 25/100\n",
            "27/27 [==============================] - 4s 147ms/step - loss: 0.9947 - accuracy: 0.5880 - val_loss: 1.1493 - val_accuracy: 0.5000\n",
            "Epoch 26/100\n",
            "27/27 [==============================] - 4s 144ms/step - loss: 0.8746 - accuracy: 0.6505 - val_loss: 1.0102 - val_accuracy: 0.6042\n",
            "Epoch 27/100\n",
            "27/27 [==============================] - 6s 231ms/step - loss: 0.8454 - accuracy: 0.6690 - val_loss: 1.0538 - val_accuracy: 0.5833\n",
            "Epoch 28/100\n",
            "27/27 [==============================] - 4s 155ms/step - loss: 0.8206 - accuracy: 0.6898 - val_loss: 1.0247 - val_accuracy: 0.6458\n",
            "Epoch 29/100\n",
            "27/27 [==============================] - 4s 146ms/step - loss: 0.7680 - accuracy: 0.6944 - val_loss: 0.9336 - val_accuracy: 0.6250\n",
            "Epoch 30/100\n",
            "27/27 [==============================] - 5s 182ms/step - loss: 0.6726 - accuracy: 0.7222 - val_loss: 0.7434 - val_accuracy: 0.7083\n",
            "Epoch 31/100\n",
            "27/27 [==============================] - 6s 204ms/step - loss: 0.5948 - accuracy: 0.7755 - val_loss: 0.9419 - val_accuracy: 0.6458\n",
            "Epoch 32/100\n",
            "27/27 [==============================] - 4s 143ms/step - loss: 0.5615 - accuracy: 0.7731 - val_loss: 1.0039 - val_accuracy: 0.6042\n",
            "Epoch 33/100\n",
            "27/27 [==============================] - 4s 142ms/step - loss: 0.6570 - accuracy: 0.7454 - val_loss: 0.8890 - val_accuracy: 0.7292\n",
            "Epoch 34/100\n",
            "27/27 [==============================] - 6s 228ms/step - loss: 0.6654 - accuracy: 0.7407 - val_loss: 0.8481 - val_accuracy: 0.7083\n",
            "Epoch 35/100\n",
            "27/27 [==============================] - 4s 158ms/step - loss: 0.6133 - accuracy: 0.7755 - val_loss: 0.6889 - val_accuracy: 0.6875\n",
            "Epoch 36/100\n",
            "27/27 [==============================] - 4s 144ms/step - loss: 0.4790 - accuracy: 0.8241 - val_loss: 0.7285 - val_accuracy: 0.7917\n",
            "Epoch 37/100\n",
            "27/27 [==============================] - 5s 175ms/step - loss: 0.3814 - accuracy: 0.8634 - val_loss: 0.6695 - val_accuracy: 0.7500\n",
            "Epoch 38/100\n",
            "27/27 [==============================] - 6s 207ms/step - loss: 0.4280 - accuracy: 0.8449 - val_loss: 0.7400 - val_accuracy: 0.6875\n",
            "Epoch 39/100\n",
            "27/27 [==============================] - 4s 142ms/step - loss: 0.4783 - accuracy: 0.8079 - val_loss: 0.7201 - val_accuracy: 0.8125\n",
            "Epoch 40/100\n",
            "27/27 [==============================] - 4s 144ms/step - loss: 0.4886 - accuracy: 0.8264 - val_loss: 0.6835 - val_accuracy: 0.8125\n",
            "Epoch 41/100\n",
            "27/27 [==============================] - 6s 226ms/step - loss: 0.4781 - accuracy: 0.8426 - val_loss: 0.8820 - val_accuracy: 0.7083\n",
            "Epoch 42/100\n",
            "27/27 [==============================] - 4s 158ms/step - loss: 0.4371 - accuracy: 0.8310 - val_loss: 0.6638 - val_accuracy: 0.7917\n",
            "Epoch 43/100\n",
            "27/27 [==============================] - 4s 146ms/step - loss: 0.5638 - accuracy: 0.7824 - val_loss: 0.7525 - val_accuracy: 0.8125\n",
            "Epoch 44/100\n",
            "27/27 [==============================] - 5s 175ms/step - loss: 0.4540 - accuracy: 0.8310 - val_loss: 0.6197 - val_accuracy: 0.7708\n",
            "Epoch 45/100\n",
            "27/27 [==============================] - 6s 211ms/step - loss: 0.4051 - accuracy: 0.8657 - val_loss: 0.7913 - val_accuracy: 0.7292\n",
            "Epoch 46/100\n",
            "27/27 [==============================] - 4s 144ms/step - loss: 0.3565 - accuracy: 0.8634 - val_loss: 0.6948 - val_accuracy: 0.7917\n",
            "Epoch 47/100\n",
            "27/27 [==============================] - 4s 147ms/step - loss: 0.3582 - accuracy: 0.8773 - val_loss: 0.7440 - val_accuracy: 0.7083\n",
            "Epoch 48/100\n",
            "27/27 [==============================] - 6s 227ms/step - loss: 0.3096 - accuracy: 0.8819 - val_loss: 0.6778 - val_accuracy: 0.7708\n",
            "Epoch 49/100\n",
            "27/27 [==============================] - 4s 158ms/step - loss: 0.3207 - accuracy: 0.8634 - val_loss: 0.7294 - val_accuracy: 0.7708\n",
            "Epoch 50/100\n",
            "27/27 [==============================] - 4s 145ms/step - loss: 0.3580 - accuracy: 0.8704 - val_loss: 0.7737 - val_accuracy: 0.7500\n",
            "Epoch 51/100\n",
            "27/27 [==============================] - 5s 174ms/step - loss: 0.3918 - accuracy: 0.8773 - val_loss: 0.8392 - val_accuracy: 0.6875\n",
            "Epoch 52/100\n",
            "27/27 [==============================] - 6s 213ms/step - loss: 0.3650 - accuracy: 0.8634 - val_loss: 0.8001 - val_accuracy: 0.7917\n",
            "Epoch 53/100\n",
            "27/27 [==============================] - 4s 145ms/step - loss: 0.2536 - accuracy: 0.9097 - val_loss: 0.7198 - val_accuracy: 0.7917\n",
            "Epoch 54/100\n",
            "27/27 [==============================] - 4s 146ms/step - loss: 0.3054 - accuracy: 0.8981 - val_loss: 0.8169 - val_accuracy: 0.7083\n",
            "Epoch 55/100\n",
            "27/27 [==============================] - 6s 223ms/step - loss: 0.2720 - accuracy: 0.9120 - val_loss: 0.8328 - val_accuracy: 0.7708\n",
            "Epoch 56/100\n",
            "27/27 [==============================] - 4s 161ms/step - loss: 0.3285 - accuracy: 0.9005 - val_loss: 0.7167 - val_accuracy: 0.7500\n",
            "Epoch 57/100\n",
            "27/27 [==============================] - 4s 145ms/step - loss: 0.3280 - accuracy: 0.8843 - val_loss: 0.7763 - val_accuracy: 0.7292\n",
            "Epoch 58/100\n",
            "27/27 [==============================] - 5s 178ms/step - loss: 0.2899 - accuracy: 0.9074 - val_loss: 0.7490 - val_accuracy: 0.7708\n",
            "Epoch 59/100\n",
            "27/27 [==============================] - 6s 213ms/step - loss: 0.2384 - accuracy: 0.9236 - val_loss: 0.8166 - val_accuracy: 0.6458\n",
            "Epoch 60/100\n",
            "27/27 [==============================] - 4s 147ms/step - loss: 0.2624 - accuracy: 0.9028 - val_loss: 1.0456 - val_accuracy: 0.7083\n",
            "Epoch 61/100\n",
            "27/27 [==============================] - 4s 147ms/step - loss: 0.2374 - accuracy: 0.9236 - val_loss: 0.6114 - val_accuracy: 0.8333\n",
            "Epoch 62/100\n",
            "27/27 [==============================] - 6s 228ms/step - loss: 0.2536 - accuracy: 0.9120 - val_loss: 0.6529 - val_accuracy: 0.7917\n",
            "Epoch 63/100\n",
            "27/27 [==============================] - 4s 164ms/step - loss: 0.1968 - accuracy: 0.9282 - val_loss: 0.6704 - val_accuracy: 0.8333\n",
            "Epoch 64/100\n",
            "27/27 [==============================] - 4s 145ms/step - loss: 0.2209 - accuracy: 0.9306 - val_loss: 0.7500 - val_accuracy: 0.8125\n",
            "Epoch 65/100\n",
            "27/27 [==============================] - 5s 177ms/step - loss: 0.1790 - accuracy: 0.9259 - val_loss: 0.7605 - val_accuracy: 0.7708\n",
            "Epoch 66/100\n",
            "27/27 [==============================] - 6s 210ms/step - loss: 0.2049 - accuracy: 0.9236 - val_loss: 0.7778 - val_accuracy: 0.7917\n",
            "Epoch 67/100\n",
            "27/27 [==============================] - 4s 147ms/step - loss: 0.2962 - accuracy: 0.8796 - val_loss: 0.7840 - val_accuracy: 0.7917\n",
            "Epoch 68/100\n",
            "27/27 [==============================] - 4s 147ms/step - loss: 0.2247 - accuracy: 0.9190 - val_loss: 0.6664 - val_accuracy: 0.8125\n",
            "Epoch 69/100\n",
            "27/27 [==============================] - 6s 231ms/step - loss: 0.2150 - accuracy: 0.9213 - val_loss: 0.5932 - val_accuracy: 0.7917\n",
            "Epoch 70/100\n",
            "27/27 [==============================] - 4s 161ms/step - loss: 0.2385 - accuracy: 0.9167 - val_loss: 0.5295 - val_accuracy: 0.8125\n",
            "Epoch 71/100\n",
            "27/27 [==============================] - 4s 146ms/step - loss: 0.1905 - accuracy: 0.9352 - val_loss: 0.6232 - val_accuracy: 0.8125\n",
            "Epoch 72/100\n",
            "27/27 [==============================] - 5s 183ms/step - loss: 0.2121 - accuracy: 0.9236 - val_loss: 0.5254 - val_accuracy: 0.8125\n",
            "Epoch 73/100\n",
            "27/27 [==============================] - 6s 209ms/step - loss: 0.1723 - accuracy: 0.9329 - val_loss: 0.4905 - val_accuracy: 0.8125\n",
            "Epoch 74/100\n",
            "27/27 [==============================] - 4s 147ms/step - loss: 0.1884 - accuracy: 0.9352 - val_loss: 0.7012 - val_accuracy: 0.8125\n",
            "Epoch 75/100\n",
            "27/27 [==============================] - 4s 145ms/step - loss: 0.2074 - accuracy: 0.9421 - val_loss: 0.6254 - val_accuracy: 0.8125\n",
            "Epoch 76/100\n",
            "27/27 [==============================] - 6s 239ms/step - loss: 0.2293 - accuracy: 0.9144 - val_loss: 0.5565 - val_accuracy: 0.8333\n",
            "Epoch 77/100\n",
            "27/27 [==============================] - 4s 148ms/step - loss: 0.1743 - accuracy: 0.9444 - val_loss: 0.6529 - val_accuracy: 0.8333\n",
            "Epoch 78/100\n",
            "27/27 [==============================] - 4s 145ms/step - loss: 0.1237 - accuracy: 0.9537 - val_loss: 0.7449 - val_accuracy: 0.7708\n",
            "Epoch 79/100\n",
            "27/27 [==============================] - 5s 181ms/step - loss: 0.1241 - accuracy: 0.9606 - val_loss: 0.6509 - val_accuracy: 0.8333\n",
            "Epoch 80/100\n",
            "27/27 [==============================] - 6s 204ms/step - loss: 0.1468 - accuracy: 0.9421 - val_loss: 0.5961 - val_accuracy: 0.8125\n",
            "Epoch 81/100\n",
            "27/27 [==============================] - 4s 145ms/step - loss: 0.1788 - accuracy: 0.9352 - val_loss: 0.7703 - val_accuracy: 0.7917\n",
            "Epoch 82/100\n",
            "27/27 [==============================] - 4s 147ms/step - loss: 0.2038 - accuracy: 0.9444 - val_loss: 0.8446 - val_accuracy: 0.7708\n",
            "Epoch 83/100\n",
            "27/27 [==============================] - 6s 228ms/step - loss: 0.2587 - accuracy: 0.9213 - val_loss: 0.6798 - val_accuracy: 0.7917\n",
            "Epoch 84/100\n",
            "27/27 [==============================] - 4s 158ms/step - loss: 0.3145 - accuracy: 0.8843 - val_loss: 0.6556 - val_accuracy: 0.8125\n",
            "Epoch 85/100\n",
            "27/27 [==============================] - 4s 144ms/step - loss: 0.2420 - accuracy: 0.9236 - val_loss: 0.7333 - val_accuracy: 0.7500\n",
            "Epoch 86/100\n",
            "27/27 [==============================] - 5s 170ms/step - loss: 0.2543 - accuracy: 0.8958 - val_loss: 0.6786 - val_accuracy: 0.7500\n",
            "Epoch 87/100\n",
            "27/27 [==============================] - 6s 217ms/step - loss: 0.2055 - accuracy: 0.9282 - val_loss: 0.2898 - val_accuracy: 0.8542\n"
          ]
        },
        {
          "output_type": "execute_result",
          "data": {
            "text/plain": [
              "<keras.src.callbacks.History at 0x7ea3a2c78d00>"
            ]
          },
          "metadata": {},
          "execution_count": 43
        }
      ]
    },
    {
      "cell_type": "code",
      "source": [
        "# Evaluasi model menggunakan classification report\n",
        "from sklearn.metrics import classification_report\n",
        "\n",
        "predictions = model.predict(valid_padded)\n",
        "predicted_classes = np.argmax(predictions, axis=1)\n",
        "true_classes = np.argmax(test_label_final, axis=1)\n",
        "class_labels = label_encoder.classes_\n",
        "\n",
        "print(classification_report(true_classes, predicted_classes, target_names=class_labels))"
      ],
      "metadata": {
        "colab": {
          "base_uri": "https://localhost:8080/"
        },
        "id": "YIgbQC-hK2jM",
        "outputId": "7857426a-9abf-4209-8a91-3c106d33af6a"
      },
      "execution_count": null,
      "outputs": [
        {
          "output_type": "stream",
          "name": "stdout",
          "text": [
            "2/2 [==============================] - 2s 40ms/step\n",
            "                                     precision    recall  f1-score   support\n",
            "\n",
            "           Institut Pertanian Bogor       1.00      1.00      1.00         2\n",
            "         Institut Teknologi Bandung       1.00      1.00      1.00         3\n",
            "Institut Teknologi Sepuluh Nopember       1.00      0.33      0.50         3\n",
            "              Universitas Airlangga       0.50      0.67      0.57         3\n",
            "               Universitas Atmajaya       1.00      0.67      0.80         3\n",
            "         Universitas Bina Nusantara       1.00      1.00      1.00         3\n",
            "              Universitas Brawijaya       0.50      1.00      0.67         2\n",
            "             Universitas Diponegoro       1.00      1.00      1.00         2\n",
            "            Universitas Gadjah Mada       1.00      1.00      1.00         2\n",
            "             Universitas Hasanuddin       0.00      0.00      0.00         2\n",
            "              Universitas Indonesia       1.00      1.00      1.00         3\n",
            "        Universitas Islam Indonesia       1.00      1.00      1.00         2\n",
            "Universitas Muhammadiyah Yogyakarta       1.00      1.00      1.00         3\n",
            "          Universitas Negeri Malang       0.50      1.00      0.67         2\n",
            "      Universitas Negeri Yogyakarta       1.00      1.00      1.00         2\n",
            "            Universitas Padjadjaran       1.00      1.00      1.00         2\n",
            "   Universitas Pendidikan Indonesia       1.00      1.00      1.00         2\n",
            "         Universitas Sumatera Utara       1.00      1.00      1.00         2\n",
            "                 Universitas Telkom       1.00      1.00      1.00         2\n",
            "                Universitas Udayana       1.00      0.67      0.80         3\n",
            "\n",
            "                           accuracy                           0.85        48\n",
            "                          macro avg       0.88      0.87      0.85        48\n",
            "                       weighted avg       0.89      0.85      0.85        48\n",
            "\n"
          ]
        }
      ]
    },
    {
      "cell_type": "code",
      "source": [
        "model.save('/content/drive/MyDrive/Colab Notebooks/model_university_classification')"
      ],
      "metadata": {
        "id": "449MX3kMK4Zn"
      },
      "execution_count": null,
      "outputs": []
    },
    {
      "cell_type": "code",
      "source": [
        "model = tf.keras.models.load_model('/content/drive/MyDrive/Colab Notebooks/model_university_classification')"
      ],
      "metadata": {
        "id": "frabr5xdMKQR"
      },
      "execution_count": null,
      "outputs": []
    },
    {
      "cell_type": "code",
      "source": [
        "import numpy as np\n",
        "\n",
        "# Input teks yang ingin Anda uji\n",
        "input_text = ['Kapan Universitas Udayana didirikan?']\n",
        "\n",
        "# Tokenisasi dan padding input\n",
        "input_sequences = tokenizer.texts_to_sequences(input_text)\n",
        "padded_input = pad_sequences(input_sequences, maxlen=max_length, padding=padding_type, truncating=trunc_type)\n",
        "\n",
        "# Prediksi dengan model\n",
        "predictions = model.predict(np.array(padded_input))  # Konversi list menjadi array NumPy\n",
        "\n",
        "# Temukan indeks dengan nilai tertinggi\n",
        "predicted_class_index = np.argmax(predictions)\n",
        "\n",
        "# Dapatkan daftar kelas yang telah diencode\n",
        "classes = label_encoder.classes_\n",
        "\n",
        "# Konversi indeks ke label kelas\n",
        "predicted_class_label = classes[predicted_class_index]\n",
        "\n",
        "# Tampilkan hasil prediksi\n",
        "print(f\"Predicted class: {predicted_class_label}\")"
      ],
      "metadata": {
        "colab": {
          "base_uri": "https://localhost:8080/"
        },
        "id": "EfkvVNJ6MK_k",
        "outputId": "503d3687-6ace-4867-992a-95335f64c279"
      },
      "execution_count": null,
      "outputs": [
        {
          "output_type": "stream",
          "name": "stdout",
          "text": [
            "1/1 [==============================] - 0s 85ms/step\n",
            "Predicted class: Universitas Udayana\n"
          ]
        }
      ]
    },
    {
      "cell_type": "code",
      "source": [
        "model.save_weights('/content/drive/MyDrive/Colab Notebooks/university_classification.h5')"
      ],
      "metadata": {
        "id": "TKFQ9KxOMPhA"
      },
      "execution_count": null,
      "outputs": []
    }
  ]
}