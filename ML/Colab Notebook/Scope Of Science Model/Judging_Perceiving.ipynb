{
  "metadata": {
    "accelerator": "GPU",
    "colab": {
      "provenance": [],
      "gpuType": "T4"
    },
    "kernelspec": {
      "name": "python3",
      "display_name": "Python 3",
      "language": "python"
    },
    "language_info": {
      "name": "python",
      "version": "3.10.12",
      "mimetype": "text/x-python",
      "codemirror_mode": {
        "name": "ipython",
        "version": 3
      },
      "pygments_lexer": "ipython3",
      "nbconvert_exporter": "python",
      "file_extension": ".py"
    },
    "kaggle": {
      "accelerator": "none",
      "dataSources": [
        {
          "sourceId": 7101861,
          "sourceType": "datasetVersion",
          "datasetId": 4093957
        },
        {
          "sourceId": 2568,
          "sourceType": "modelInstanceVersion",
          "modelInstanceId": 1879
        },
        {
          "sourceId": 2588,
          "sourceType": "modelInstanceVersion",
          "modelInstanceId": 1884
        },
        {
          "sourceId": 3123,
          "sourceType": "modelInstanceVersion",
          "modelInstanceId": 2334
        }
      ],
      "dockerImageVersionId": 30588,
      "isInternetEnabled": true,
      "language": "python",
      "sourceType": "notebook",
      "isGpuEnabled": false
    }
  },
  "nbformat_minor": 0,
  "nbformat": 4,
  "cells": [
    {
      "cell_type": "code",
      "source": [
        "!pip install tensorflow\n",
        "!pip install tensorflow_hub\n",
        "!pip install -q -U \"tensorflow-text==2.13.*\"\n",
        "!pip install \"tf-models-official==2.13.*\""
      ],
      "metadata": {
        "id": "zZNQCvgpnIg_",
        "outputId": "c982787e-c2f0-49f3-eb16-5fb043b221ad",
        "execution": {
          "iopub.status.busy": "2023-12-02T00:39:47.894922Z",
          "iopub.execute_input": "2023-12-02T00:39:47.895402Z",
          "iopub.status.idle": "2023-12-02T00:40:36.059880Z",
          "shell.execute_reply.started": "2023-12-02T00:39:47.895368Z",
          "shell.execute_reply": "2023-12-02T00:40:36.058445Z"
        },
        "trusted": true,
        "colab": {
          "base_uri": "https://localhost:8080/"
        }
      },
      "execution_count": 6,
      "outputs": [
        {
          "output_type": "stream",
          "name": "stdout",
          "text": [
            "Requirement already satisfied: tensorflow in /usr/local/lib/python3.10/dist-packages (2.13.1)\n",
            "Requirement already satisfied: absl-py>=1.0.0 in /usr/local/lib/python3.10/dist-packages (from tensorflow) (1.4.0)\n",
            "Requirement already satisfied: astunparse>=1.6.0 in /usr/local/lib/python3.10/dist-packages (from tensorflow) (1.6.3)\n",
            "Requirement already satisfied: flatbuffers>=23.1.21 in /usr/local/lib/python3.10/dist-packages (from tensorflow) (23.5.26)\n",
            "Requirement already satisfied: gast<=0.4.0,>=0.2.1 in /usr/local/lib/python3.10/dist-packages (from tensorflow) (0.4.0)\n",
            "Requirement already satisfied: google-pasta>=0.1.1 in /usr/local/lib/python3.10/dist-packages (from tensorflow) (0.2.0)\n",
            "Requirement already satisfied: grpcio<2.0,>=1.24.3 in /usr/local/lib/python3.10/dist-packages (from tensorflow) (1.59.3)\n",
            "Requirement already satisfied: h5py>=2.9.0 in /usr/local/lib/python3.10/dist-packages (from tensorflow) (3.9.0)\n",
            "Requirement already satisfied: keras<2.14,>=2.13.1 in /usr/local/lib/python3.10/dist-packages (from tensorflow) (2.13.1)\n",
            "Requirement already satisfied: libclang>=13.0.0 in /usr/local/lib/python3.10/dist-packages (from tensorflow) (16.0.6)\n",
            "Requirement already satisfied: numpy<=1.24.3,>=1.22 in /usr/local/lib/python3.10/dist-packages (from tensorflow) (1.23.5)\n",
            "Requirement already satisfied: opt-einsum>=2.3.2 in /usr/local/lib/python3.10/dist-packages (from tensorflow) (3.3.0)\n",
            "Requirement already satisfied: packaging in /usr/local/lib/python3.10/dist-packages (from tensorflow) (23.2)\n",
            "Requirement already satisfied: protobuf!=4.21.0,!=4.21.1,!=4.21.2,!=4.21.3,!=4.21.4,!=4.21.5,<5.0.0dev,>=3.20.3 in /usr/local/lib/python3.10/dist-packages (from tensorflow) (3.20.3)\n",
            "Requirement already satisfied: setuptools in /usr/local/lib/python3.10/dist-packages (from tensorflow) (67.7.2)\n",
            "Requirement already satisfied: six>=1.12.0 in /usr/local/lib/python3.10/dist-packages (from tensorflow) (1.16.0)\n",
            "Requirement already satisfied: tensorboard<2.14,>=2.13 in /usr/local/lib/python3.10/dist-packages (from tensorflow) (2.13.0)\n",
            "Requirement already satisfied: tensorflow-estimator<2.14,>=2.13.0 in /usr/local/lib/python3.10/dist-packages (from tensorflow) (2.13.0)\n",
            "Requirement already satisfied: termcolor>=1.1.0 in /usr/local/lib/python3.10/dist-packages (from tensorflow) (2.3.0)\n",
            "Requirement already satisfied: typing-extensions<4.6.0,>=3.6.6 in /usr/local/lib/python3.10/dist-packages (from tensorflow) (4.5.0)\n",
            "Requirement already satisfied: wrapt>=1.11.0 in /usr/local/lib/python3.10/dist-packages (from tensorflow) (1.14.1)\n",
            "Requirement already satisfied: tensorflow-io-gcs-filesystem>=0.23.1 in /usr/local/lib/python3.10/dist-packages (from tensorflow) (0.34.0)\n",
            "Requirement already satisfied: wheel<1.0,>=0.23.0 in /usr/local/lib/python3.10/dist-packages (from astunparse>=1.6.0->tensorflow) (0.42.0)\n",
            "Requirement already satisfied: google-auth<3,>=1.6.3 in /usr/local/lib/python3.10/dist-packages (from tensorboard<2.14,>=2.13->tensorflow) (2.17.3)\n",
            "Requirement already satisfied: google-auth-oauthlib<1.1,>=0.5 in /usr/local/lib/python3.10/dist-packages (from tensorboard<2.14,>=2.13->tensorflow) (1.0.0)\n",
            "Requirement already satisfied: markdown>=2.6.8 in /usr/local/lib/python3.10/dist-packages (from tensorboard<2.14,>=2.13->tensorflow) (3.5.1)\n",
            "Requirement already satisfied: requests<3,>=2.21.0 in /usr/local/lib/python3.10/dist-packages (from tensorboard<2.14,>=2.13->tensorflow) (2.31.0)\n",
            "Requirement already satisfied: tensorboard-data-server<0.8.0,>=0.7.0 in /usr/local/lib/python3.10/dist-packages (from tensorboard<2.14,>=2.13->tensorflow) (0.7.2)\n",
            "Requirement already satisfied: werkzeug>=1.0.1 in /usr/local/lib/python3.10/dist-packages (from tensorboard<2.14,>=2.13->tensorflow) (3.0.1)\n",
            "Requirement already satisfied: cachetools<6.0,>=2.0.0 in /usr/local/lib/python3.10/dist-packages (from google-auth<3,>=1.6.3->tensorboard<2.14,>=2.13->tensorflow) (5.3.2)\n",
            "Requirement already satisfied: pyasn1-modules>=0.2.1 in /usr/local/lib/python3.10/dist-packages (from google-auth<3,>=1.6.3->tensorboard<2.14,>=2.13->tensorflow) (0.3.0)\n",
            "Requirement already satisfied: rsa<5,>=3.1.4 in /usr/local/lib/python3.10/dist-packages (from google-auth<3,>=1.6.3->tensorboard<2.14,>=2.13->tensorflow) (4.9)\n",
            "Requirement already satisfied: requests-oauthlib>=0.7.0 in /usr/local/lib/python3.10/dist-packages (from google-auth-oauthlib<1.1,>=0.5->tensorboard<2.14,>=2.13->tensorflow) (1.3.1)\n",
            "Requirement already satisfied: charset-normalizer<4,>=2 in /usr/local/lib/python3.10/dist-packages (from requests<3,>=2.21.0->tensorboard<2.14,>=2.13->tensorflow) (3.3.2)\n",
            "Requirement already satisfied: idna<4,>=2.5 in /usr/local/lib/python3.10/dist-packages (from requests<3,>=2.21.0->tensorboard<2.14,>=2.13->tensorflow) (3.6)\n",
            "Requirement already satisfied: urllib3<3,>=1.21.1 in /usr/local/lib/python3.10/dist-packages (from requests<3,>=2.21.0->tensorboard<2.14,>=2.13->tensorflow) (2.0.7)\n",
            "Requirement already satisfied: certifi>=2017.4.17 in /usr/local/lib/python3.10/dist-packages (from requests<3,>=2.21.0->tensorboard<2.14,>=2.13->tensorflow) (2023.11.17)\n",
            "Requirement already satisfied: MarkupSafe>=2.1.1 in /usr/local/lib/python3.10/dist-packages (from werkzeug>=1.0.1->tensorboard<2.14,>=2.13->tensorflow) (2.1.3)\n",
            "Requirement already satisfied: pyasn1<0.6.0,>=0.4.6 in /usr/local/lib/python3.10/dist-packages (from pyasn1-modules>=0.2.1->google-auth<3,>=1.6.3->tensorboard<2.14,>=2.13->tensorflow) (0.5.1)\n",
            "Requirement already satisfied: oauthlib>=3.0.0 in /usr/local/lib/python3.10/dist-packages (from requests-oauthlib>=0.7.0->google-auth-oauthlib<1.1,>=0.5->tensorboard<2.14,>=2.13->tensorflow) (3.2.2)\n",
            "Requirement already satisfied: tensorflow_hub in /usr/local/lib/python3.10/dist-packages (0.15.0)\n",
            "Requirement already satisfied: numpy>=1.12.0 in /usr/local/lib/python3.10/dist-packages (from tensorflow_hub) (1.23.5)\n",
            "Requirement already satisfied: protobuf>=3.19.6 in /usr/local/lib/python3.10/dist-packages (from tensorflow_hub) (3.20.3)\n",
            "Requirement already satisfied: tf-models-official==2.13.* in /usr/local/lib/python3.10/dist-packages (2.13.2)\n",
            "Requirement already satisfied: Cython in /usr/local/lib/python3.10/dist-packages (from tf-models-official==2.13.*) (3.0.6)\n",
            "Requirement already satisfied: Pillow in /usr/local/lib/python3.10/dist-packages (from tf-models-official==2.13.*) (9.4.0)\n",
            "Requirement already satisfied: gin-config in /usr/local/lib/python3.10/dist-packages (from tf-models-official==2.13.*) (0.5.0)\n",
            "Requirement already satisfied: google-api-python-client>=1.6.7 in /usr/local/lib/python3.10/dist-packages (from tf-models-official==2.13.*) (2.84.0)\n",
            "Requirement already satisfied: immutabledict in /usr/local/lib/python3.10/dist-packages (from tf-models-official==2.13.*) (4.0.0)\n",
            "Requirement already satisfied: kaggle>=1.3.9 in /usr/local/lib/python3.10/dist-packages (from tf-models-official==2.13.*) (1.5.16)\n",
            "Requirement already satisfied: matplotlib in /usr/local/lib/python3.10/dist-packages (from tf-models-official==2.13.*) (3.7.1)\n",
            "Requirement already satisfied: numpy>=1.20 in /usr/local/lib/python3.10/dist-packages (from tf-models-official==2.13.*) (1.23.5)\n",
            "Requirement already satisfied: oauth2client in /usr/local/lib/python3.10/dist-packages (from tf-models-official==2.13.*) (4.1.3)\n",
            "Requirement already satisfied: opencv-python-headless in /usr/local/lib/python3.10/dist-packages (from tf-models-official==2.13.*) (4.8.1.78)\n",
            "Requirement already satisfied: pandas>=0.22.0 in /usr/local/lib/python3.10/dist-packages (from tf-models-official==2.13.*) (1.5.3)\n",
            "Requirement already satisfied: psutil>=5.4.3 in /usr/local/lib/python3.10/dist-packages (from tf-models-official==2.13.*) (5.9.5)\n",
            "Requirement already satisfied: py-cpuinfo>=3.3.0 in /usr/local/lib/python3.10/dist-packages (from tf-models-official==2.13.*) (9.0.0)\n",
            "Requirement already satisfied: pycocotools in /usr/local/lib/python3.10/dist-packages (from tf-models-official==2.13.*) (2.0.7)\n",
            "Requirement already satisfied: pyyaml>=6.0.0 in /usr/local/lib/python3.10/dist-packages (from tf-models-official==2.13.*) (6.0.1)\n",
            "Requirement already satisfied: sacrebleu in /usr/local/lib/python3.10/dist-packages (from tf-models-official==2.13.*) (2.3.3)\n",
            "Requirement already satisfied: scipy>=0.19.1 in /usr/local/lib/python3.10/dist-packages (from tf-models-official==2.13.*) (1.11.4)\n",
            "Requirement already satisfied: sentencepiece in /usr/local/lib/python3.10/dist-packages (from tf-models-official==2.13.*) (0.1.99)\n",
            "Requirement already satisfied: seqeval in /usr/local/lib/python3.10/dist-packages (from tf-models-official==2.13.*) (1.2.2)\n",
            "Requirement already satisfied: six in /usr/local/lib/python3.10/dist-packages (from tf-models-official==2.13.*) (1.16.0)\n",
            "Requirement already satisfied: tensorflow-datasets in /usr/local/lib/python3.10/dist-packages (from tf-models-official==2.13.*) (4.9.3)\n",
            "Requirement already satisfied: tensorflow-hub>=0.6.0 in /usr/local/lib/python3.10/dist-packages (from tf-models-official==2.13.*) (0.15.0)\n",
            "Requirement already satisfied: tensorflow-model-optimization>=0.4.1 in /usr/local/lib/python3.10/dist-packages (from tf-models-official==2.13.*) (0.7.5)\n",
            "Requirement already satisfied: tensorflow-text~=2.13.0 in /usr/local/lib/python3.10/dist-packages (from tf-models-official==2.13.*) (2.13.0)\n",
            "Requirement already satisfied: tensorflow~=2.13.0 in /usr/local/lib/python3.10/dist-packages (from tf-models-official==2.13.*) (2.13.1)\n",
            "Requirement already satisfied: tf-slim>=1.1.0 in /usr/local/lib/python3.10/dist-packages (from tf-models-official==2.13.*) (1.1.0)\n",
            "Requirement already satisfied: httplib2<1dev,>=0.15.0 in /usr/local/lib/python3.10/dist-packages (from google-api-python-client>=1.6.7->tf-models-official==2.13.*) (0.22.0)\n",
            "Requirement already satisfied: google-auth<3.0.0dev,>=1.19.0 in /usr/local/lib/python3.10/dist-packages (from google-api-python-client>=1.6.7->tf-models-official==2.13.*) (2.17.3)\n",
            "Requirement already satisfied: google-auth-httplib2>=0.1.0 in /usr/local/lib/python3.10/dist-packages (from google-api-python-client>=1.6.7->tf-models-official==2.13.*) (0.1.1)\n",
            "Requirement already satisfied: google-api-core!=2.0.*,!=2.1.*,!=2.2.*,!=2.3.0,<3.0.0dev,>=1.31.5 in /usr/local/lib/python3.10/dist-packages (from google-api-python-client>=1.6.7->tf-models-official==2.13.*) (2.11.1)\n",
            "Requirement already satisfied: uritemplate<5,>=3.0.1 in /usr/local/lib/python3.10/dist-packages (from google-api-python-client>=1.6.7->tf-models-official==2.13.*) (4.1.1)\n",
            "Requirement already satisfied: certifi in /usr/local/lib/python3.10/dist-packages (from kaggle>=1.3.9->tf-models-official==2.13.*) (2023.11.17)\n",
            "Requirement already satisfied: python-dateutil in /usr/local/lib/python3.10/dist-packages (from kaggle>=1.3.9->tf-models-official==2.13.*) (2.8.2)\n",
            "Requirement already satisfied: requests in /usr/local/lib/python3.10/dist-packages (from kaggle>=1.3.9->tf-models-official==2.13.*) (2.31.0)\n",
            "Requirement already satisfied: tqdm in /usr/local/lib/python3.10/dist-packages (from kaggle>=1.3.9->tf-models-official==2.13.*) (4.66.1)\n",
            "Requirement already satisfied: python-slugify in /usr/local/lib/python3.10/dist-packages (from kaggle>=1.3.9->tf-models-official==2.13.*) (8.0.1)\n",
            "Requirement already satisfied: urllib3 in /usr/local/lib/python3.10/dist-packages (from kaggle>=1.3.9->tf-models-official==2.13.*) (2.0.7)\n",
            "Requirement already satisfied: bleach in /usr/local/lib/python3.10/dist-packages (from kaggle>=1.3.9->tf-models-official==2.13.*) (6.1.0)\n",
            "Requirement already satisfied: pytz>=2020.1 in /usr/local/lib/python3.10/dist-packages (from pandas>=0.22.0->tf-models-official==2.13.*) (2023.3.post1)\n",
            "Requirement already satisfied: absl-py>=1.0.0 in /usr/local/lib/python3.10/dist-packages (from tensorflow~=2.13.0->tf-models-official==2.13.*) (1.4.0)\n",
            "Requirement already satisfied: astunparse>=1.6.0 in /usr/local/lib/python3.10/dist-packages (from tensorflow~=2.13.0->tf-models-official==2.13.*) (1.6.3)\n",
            "Requirement already satisfied: flatbuffers>=23.1.21 in /usr/local/lib/python3.10/dist-packages (from tensorflow~=2.13.0->tf-models-official==2.13.*) (23.5.26)\n",
            "Requirement already satisfied: gast<=0.4.0,>=0.2.1 in /usr/local/lib/python3.10/dist-packages (from tensorflow~=2.13.0->tf-models-official==2.13.*) (0.4.0)\n",
            "Requirement already satisfied: google-pasta>=0.1.1 in /usr/local/lib/python3.10/dist-packages (from tensorflow~=2.13.0->tf-models-official==2.13.*) (0.2.0)\n",
            "Requirement already satisfied: grpcio<2.0,>=1.24.3 in /usr/local/lib/python3.10/dist-packages (from tensorflow~=2.13.0->tf-models-official==2.13.*) (1.59.3)\n",
            "Requirement already satisfied: h5py>=2.9.0 in /usr/local/lib/python3.10/dist-packages (from tensorflow~=2.13.0->tf-models-official==2.13.*) (3.9.0)\n",
            "Requirement already satisfied: keras<2.14,>=2.13.1 in /usr/local/lib/python3.10/dist-packages (from tensorflow~=2.13.0->tf-models-official==2.13.*) (2.13.1)\n",
            "Requirement already satisfied: libclang>=13.0.0 in /usr/local/lib/python3.10/dist-packages (from tensorflow~=2.13.0->tf-models-official==2.13.*) (16.0.6)\n",
            "Requirement already satisfied: opt-einsum>=2.3.2 in /usr/local/lib/python3.10/dist-packages (from tensorflow~=2.13.0->tf-models-official==2.13.*) (3.3.0)\n",
            "Requirement already satisfied: packaging in /usr/local/lib/python3.10/dist-packages (from tensorflow~=2.13.0->tf-models-official==2.13.*) (23.2)\n",
            "Requirement already satisfied: protobuf!=4.21.0,!=4.21.1,!=4.21.2,!=4.21.3,!=4.21.4,!=4.21.5,<5.0.0dev,>=3.20.3 in /usr/local/lib/python3.10/dist-packages (from tensorflow~=2.13.0->tf-models-official==2.13.*) (3.20.3)\n",
            "Requirement already satisfied: setuptools in /usr/local/lib/python3.10/dist-packages (from tensorflow~=2.13.0->tf-models-official==2.13.*) (67.7.2)\n",
            "Requirement already satisfied: tensorboard<2.14,>=2.13 in /usr/local/lib/python3.10/dist-packages (from tensorflow~=2.13.0->tf-models-official==2.13.*) (2.13.0)\n",
            "Requirement already satisfied: tensorflow-estimator<2.14,>=2.13.0 in /usr/local/lib/python3.10/dist-packages (from tensorflow~=2.13.0->tf-models-official==2.13.*) (2.13.0)\n",
            "Requirement already satisfied: termcolor>=1.1.0 in /usr/local/lib/python3.10/dist-packages (from tensorflow~=2.13.0->tf-models-official==2.13.*) (2.3.0)\n",
            "Requirement already satisfied: typing-extensions<4.6.0,>=3.6.6 in /usr/local/lib/python3.10/dist-packages (from tensorflow~=2.13.0->tf-models-official==2.13.*) (4.5.0)\n",
            "Requirement already satisfied: wrapt>=1.11.0 in /usr/local/lib/python3.10/dist-packages (from tensorflow~=2.13.0->tf-models-official==2.13.*) (1.14.1)\n",
            "Requirement already satisfied: tensorflow-io-gcs-filesystem>=0.23.1 in /usr/local/lib/python3.10/dist-packages (from tensorflow~=2.13.0->tf-models-official==2.13.*) (0.34.0)\n",
            "Requirement already satisfied: dm-tree~=0.1.1 in /usr/local/lib/python3.10/dist-packages (from tensorflow-model-optimization>=0.4.1->tf-models-official==2.13.*) (0.1.8)\n",
            "Requirement already satisfied: contourpy>=1.0.1 in /usr/local/lib/python3.10/dist-packages (from matplotlib->tf-models-official==2.13.*) (1.2.0)\n",
            "Requirement already satisfied: cycler>=0.10 in /usr/local/lib/python3.10/dist-packages (from matplotlib->tf-models-official==2.13.*) (0.12.1)\n",
            "Requirement already satisfied: fonttools>=4.22.0 in /usr/local/lib/python3.10/dist-packages (from matplotlib->tf-models-official==2.13.*) (4.45.1)\n",
            "Requirement already satisfied: kiwisolver>=1.0.1 in /usr/local/lib/python3.10/dist-packages (from matplotlib->tf-models-official==2.13.*) (1.4.5)\n",
            "Requirement already satisfied: pyparsing>=2.3.1 in /usr/local/lib/python3.10/dist-packages (from matplotlib->tf-models-official==2.13.*) (3.1.1)\n",
            "Requirement already satisfied: pyasn1>=0.1.7 in /usr/local/lib/python3.10/dist-packages (from oauth2client->tf-models-official==2.13.*) (0.5.1)\n",
            "Requirement already satisfied: pyasn1-modules>=0.0.5 in /usr/local/lib/python3.10/dist-packages (from oauth2client->tf-models-official==2.13.*) (0.3.0)\n",
            "Requirement already satisfied: rsa>=3.1.4 in /usr/local/lib/python3.10/dist-packages (from oauth2client->tf-models-official==2.13.*) (4.9)\n",
            "Requirement already satisfied: portalocker in /usr/local/lib/python3.10/dist-packages (from sacrebleu->tf-models-official==2.13.*) (2.8.2)\n",
            "Requirement already satisfied: regex in /usr/local/lib/python3.10/dist-packages (from sacrebleu->tf-models-official==2.13.*) (2023.6.3)\n",
            "Requirement already satisfied: tabulate>=0.8.9 in /usr/local/lib/python3.10/dist-packages (from sacrebleu->tf-models-official==2.13.*) (0.9.0)\n",
            "Requirement already satisfied: colorama in /usr/local/lib/python3.10/dist-packages (from sacrebleu->tf-models-official==2.13.*) (0.4.6)\n",
            "Requirement already satisfied: lxml in /usr/local/lib/python3.10/dist-packages (from sacrebleu->tf-models-official==2.13.*) (4.9.3)\n",
            "Requirement already satisfied: scikit-learn>=0.21.3 in /usr/local/lib/python3.10/dist-packages (from seqeval->tf-models-official==2.13.*) (1.2.2)\n",
            "Requirement already satisfied: array-record in /usr/local/lib/python3.10/dist-packages (from tensorflow-datasets->tf-models-official==2.13.*) (0.5.0)\n",
            "Requirement already satisfied: click in /usr/local/lib/python3.10/dist-packages (from tensorflow-datasets->tf-models-official==2.13.*) (8.1.7)\n",
            "Requirement already satisfied: etils[enp,epath,etree]>=0.9.0 in /usr/local/lib/python3.10/dist-packages (from tensorflow-datasets->tf-models-official==2.13.*) (1.5.2)\n",
            "Requirement already satisfied: promise in /usr/local/lib/python3.10/dist-packages (from tensorflow-datasets->tf-models-official==2.13.*) (2.3)\n",
            "Requirement already satisfied: tensorflow-metadata in /usr/local/lib/python3.10/dist-packages (from tensorflow-datasets->tf-models-official==2.13.*) (1.14.0)\n",
            "Requirement already satisfied: toml in /usr/local/lib/python3.10/dist-packages (from tensorflow-datasets->tf-models-official==2.13.*) (0.10.2)\n",
            "Requirement already satisfied: wheel<1.0,>=0.23.0 in /usr/local/lib/python3.10/dist-packages (from astunparse>=1.6.0->tensorflow~=2.13.0->tf-models-official==2.13.*) (0.42.0)\n",
            "Requirement already satisfied: fsspec in /usr/local/lib/python3.10/dist-packages (from etils[enp,epath,etree]>=0.9.0->tensorflow-datasets->tf-models-official==2.13.*) (2023.6.0)\n",
            "Requirement already satisfied: importlib_resources in /usr/local/lib/python3.10/dist-packages (from etils[enp,epath,etree]>=0.9.0->tensorflow-datasets->tf-models-official==2.13.*) (6.1.1)\n",
            "Requirement already satisfied: zipp in /usr/local/lib/python3.10/dist-packages (from etils[enp,epath,etree]>=0.9.0->tensorflow-datasets->tf-models-official==2.13.*) (3.17.0)\n",
            "Requirement already satisfied: googleapis-common-protos<2.0.dev0,>=1.56.2 in /usr/local/lib/python3.10/dist-packages (from google-api-core!=2.0.*,!=2.1.*,!=2.2.*,!=2.3.0,<3.0.0dev,>=1.31.5->google-api-python-client>=1.6.7->tf-models-official==2.13.*) (1.61.0)\n",
            "Requirement already satisfied: cachetools<6.0,>=2.0.0 in /usr/local/lib/python3.10/dist-packages (from google-auth<3.0.0dev,>=1.19.0->google-api-python-client>=1.6.7->tf-models-official==2.13.*) (5.3.2)\n",
            "Requirement already satisfied: charset-normalizer<4,>=2 in /usr/local/lib/python3.10/dist-packages (from requests->kaggle>=1.3.9->tf-models-official==2.13.*) (3.3.2)\n",
            "Requirement already satisfied: idna<4,>=2.5 in /usr/local/lib/python3.10/dist-packages (from requests->kaggle>=1.3.9->tf-models-official==2.13.*) (3.6)\n",
            "Requirement already satisfied: joblib>=1.1.1 in /usr/local/lib/python3.10/dist-packages (from scikit-learn>=0.21.3->seqeval->tf-models-official==2.13.*) (1.3.2)\n",
            "Requirement already satisfied: threadpoolctl>=2.0.0 in /usr/local/lib/python3.10/dist-packages (from scikit-learn>=0.21.3->seqeval->tf-models-official==2.13.*) (3.2.0)\n",
            "Requirement already satisfied: google-auth-oauthlib<1.1,>=0.5 in /usr/local/lib/python3.10/dist-packages (from tensorboard<2.14,>=2.13->tensorflow~=2.13.0->tf-models-official==2.13.*) (1.0.0)\n",
            "Requirement already satisfied: markdown>=2.6.8 in /usr/local/lib/python3.10/dist-packages (from tensorboard<2.14,>=2.13->tensorflow~=2.13.0->tf-models-official==2.13.*) (3.5.1)\n",
            "Requirement already satisfied: tensorboard-data-server<0.8.0,>=0.7.0 in /usr/local/lib/python3.10/dist-packages (from tensorboard<2.14,>=2.13->tensorflow~=2.13.0->tf-models-official==2.13.*) (0.7.2)\n",
            "Requirement already satisfied: werkzeug>=1.0.1 in /usr/local/lib/python3.10/dist-packages (from tensorboard<2.14,>=2.13->tensorflow~=2.13.0->tf-models-official==2.13.*) (3.0.1)\n",
            "Requirement already satisfied: webencodings in /usr/local/lib/python3.10/dist-packages (from bleach->kaggle>=1.3.9->tf-models-official==2.13.*) (0.5.1)\n",
            "Requirement already satisfied: text-unidecode>=1.3 in /usr/local/lib/python3.10/dist-packages (from python-slugify->kaggle>=1.3.9->tf-models-official==2.13.*) (1.3)\n",
            "Requirement already satisfied: requests-oauthlib>=0.7.0 in /usr/local/lib/python3.10/dist-packages (from google-auth-oauthlib<1.1,>=0.5->tensorboard<2.14,>=2.13->tensorflow~=2.13.0->tf-models-official==2.13.*) (1.3.1)\n",
            "Requirement already satisfied: MarkupSafe>=2.1.1 in /usr/local/lib/python3.10/dist-packages (from werkzeug>=1.0.1->tensorboard<2.14,>=2.13->tensorflow~=2.13.0->tf-models-official==2.13.*) (2.1.3)\n",
            "Requirement already satisfied: oauthlib>=3.0.0 in /usr/local/lib/python3.10/dist-packages (from requests-oauthlib>=0.7.0->google-auth-oauthlib<1.1,>=0.5->tensorboard<2.14,>=2.13->tensorflow~=2.13.0->tf-models-official==2.13.*) (3.2.2)\n"
          ]
        }
      ]
    },
    {
      "cell_type": "code",
      "source": [
        "import tensorflow_hub as hub\n",
        "import tensorflow_text as text\n",
        "import tensorflow as tf\n",
        "from official.nlp import optimization\n",
        "import os\n",
        "import pandas as pd"
      ],
      "metadata": {
        "id": "r3NYUQhXpW-a",
        "execution": {
          "iopub.status.busy": "2023-12-02T00:40:36.062388Z",
          "iopub.execute_input": "2023-12-02T00:40:36.062718Z",
          "iopub.status.idle": "2023-12-02T00:40:47.801389Z",
          "shell.execute_reply.started": "2023-12-02T00:40:36.062692Z",
          "shell.execute_reply": "2023-12-02T00:40:47.800404Z"
        },
        "trusted": true
      },
      "execution_count": 7,
      "outputs": []
    },
    {
      "cell_type": "code",
      "source": [
        "dataset = pd.read_csv(\"/content/dataset_jp.csv\")\n",
        "dataset = dataset.drop('type', axis=1)\n",
        "# Cetak dataset pelatihan\n",
        "print(\"List Dataset:\")\n",
        "print(dataset)"
      ],
      "metadata": {
        "id": "w_PZsO08Ih56",
        "outputId": "66acc0f9-0e66-492f-f36d-73ceeec094ca",
        "execution": {
          "iopub.status.busy": "2023-12-02T00:41:22.219708Z",
          "iopub.execute_input": "2023-12-02T00:41:22.220132Z",
          "iopub.status.idle": "2023-12-02T00:41:22.236438Z",
          "shell.execute_reply.started": "2023-12-02T00:41:22.220101Z",
          "shell.execute_reply": "2023-12-02T00:41:22.235543Z"
        },
        "trusted": true,
        "colab": {
          "base_uri": "https://localhost:8080/"
        }
      },
      "execution_count": 8,
      "outputs": [
        {
          "output_type": "stream",
          "name": "stdout",
          "text": [
            "List Dataset:\n",
            "    label                                                 JP\n",
            "0       J  Saya suka merencanakan segala sesuatu dengan t...\n",
            "1       J  Saya suka membuat rencana dan mengikuti jadwal...\n",
            "2       J  Saya suka merencanakan dan mengatur segala hal...\n",
            "3       J  Saya lebih nyaman ketika memiliki jadwal yang ...\n",
            "4       J  Saya suka membuat rencana dan menjalankannya d...\n",
            "..    ...                                                ...\n",
            "315     J  Saya termasuk dalam kategori judger yang cende...\n",
            "316     J  Saya tidak pernah bekerja santai untuk mencapa...\n",
            "317     J  Dalam bergaul, tidak jarang terlihat keras tap...\n",
            "318     J  Sangat memperhatikan perkembangan orang-orang ...\n",
            "319     J  Tidak hanya diam dengan perkembangan orang lai...\n",
            "\n",
            "[320 rows x 2 columns]\n"
          ]
        }
      ]
    },
    {
      "cell_type": "code",
      "source": [
        "df = pd.DataFrame(dataset)\n",
        "df['JP'] = df['JP'].str.strip()\n",
        "\n",
        "# Membagi dataset berdasarkan kelompok\n",
        "grouped = df.groupby('label')\n",
        "\n",
        "# Inisialisasi DataFrame train dan valid\n",
        "df_train = pd.DataFrame()\n",
        "df_valid = pd.DataFrame()\n",
        "\n",
        "# Memproses setiap kelompok\n",
        "for name, group in grouped:\n",
        "    # Menentukan jumlah data untuk validasi\n",
        "    valid_size = int(len(group) * 0.2)\n",
        "\n",
        "    # Memilih data untuk validasi\n",
        "    valid_data = group.sample(n=valid_size, random_state=42)\n",
        "\n",
        "    # Memilih data untuk train\n",
        "    train_data = group.drop(valid_data.index)\n",
        "\n",
        "    # Menggabungkan hasil pemisahan ke dalam DataFrame train dan valid\n",
        "    df_train = pd.concat([df_train, train_data])\n",
        "    df_valid = pd.concat([df_valid, valid_data])\n",
        "\n",
        "#acak\n",
        "df_train = df_train.sample(frac=1, random_state=42)\n",
        "df_valid= df_valid.sample(frac=1, random_state=42)\n",
        "\n",
        "# Cetak hasil\n",
        "print(\"Data Train:\")\n",
        "print(df_train)\n",
        "print(\"\\nData Valid:\")\n",
        "print(df_valid)"
      ],
      "metadata": {
        "id": "gWKDzwo0-l3K",
        "outputId": "6326b02b-ec2c-4341-c215-cc4f658cb1f0",
        "execution": {
          "iopub.status.busy": "2023-12-02T00:42:02.130058Z",
          "iopub.execute_input": "2023-12-02T00:42:02.130468Z",
          "iopub.status.idle": "2023-12-02T00:42:02.164864Z",
          "shell.execute_reply.started": "2023-12-02T00:42:02.130443Z",
          "shell.execute_reply": "2023-12-02T00:42:02.163705Z"
        },
        "trusted": true,
        "colab": {
          "base_uri": "https://localhost:8080/"
        }
      },
      "execution_count": 9,
      "outputs": [
        {
          "output_type": "stream",
          "name": "stdout",
          "text": [
            "Data Train:\n",
            "    label                                                 JP\n",
            "245     P  Fleksibel juga sih, gak suka aturan yang ketat...\n",
            "6       J  Menurutku, kejujuran dan konsistensi itu penti...\n",
            "179     J  Ketika ada masalah, tidak pernah tidak punya k...\n",
            "216     P  Ngga suka dibatasi aturan ketat, lebih suka ng...\n",
            "308     J  Saya tidak suka jika tidak merancang jadwal un...\n",
            "..    ...                                                ...\n",
            "293     J  Walau tenggelam dalam kesenangan taman, saya t...\n",
            "20      J  Merencanakan kegiatan atau proyek menjadi sala...\n",
            "197     J  Sering juga suka mikirin masa depan, jadi gua ...\n",
            "104     P  Terkadang lebih enjoy kalo bisa ngikutin alur ...\n",
            "287     J  Saya menemukan kepuasan dalam perencanaan dan ...\n",
            "\n",
            "[256 rows x 2 columns]\n",
            "\n",
            "Data Valid:\n",
            "    label                                                 JP\n",
            "115     P  Fleksibel dalam menyikapi perubahan, gak terla...\n",
            "217     P  Intinya, hidup itu harus santai, ngikutin arus...\n",
            "185     J  Aku tidak suka jika tidak memiliki tujuan yang...\n",
            "55      P  Fleksibilitas dan adaptabilitas menjadi kunci ...\n",
            "29      J  Saya cenderung memiliki rencana yang teratur d...\n",
            "..    ...                                                ...\n",
            "59      P  Gue sering ngikutin perasaan dan intuisi dalam...\n",
            "24      J  Dalam hidup sehari-hari, saya sering membuat r...\n",
            "291     J  Walau terlibat dalam kesenangan malam, gua tet...\n",
            "56      P  Saya suka menjelajahi dunia dengan cara yang s...\n",
            "221     P  Saya tertarik pada kebebasan dan lebih suka me...\n",
            "\n",
            "[64 rows x 2 columns]\n"
          ]
        }
      ]
    },
    {
      "cell_type": "code",
      "source": [
        "train_data = df_train\n",
        "valid_data = df_valid\n",
        "target_label = 'P' #label 1 Perceiving\n",
        "label_train = (train_data['label'].str[0] == target_label).astype(int).to_numpy()\n",
        "label_valid = (valid_data['label'].str[0] == target_label).astype(int).to_numpy()"
      ],
      "metadata": {
        "id": "7t3QgeEnXEV9",
        "execution": {
          "iopub.status.busy": "2023-12-02T00:44:14.399509Z",
          "iopub.execute_input": "2023-12-02T00:44:14.399990Z",
          "iopub.status.idle": "2023-12-02T00:44:14.407944Z",
          "shell.execute_reply.started": "2023-12-02T00:44:14.399952Z",
          "shell.execute_reply": "2023-12-02T00:44:14.406394Z"
        },
        "trusted": true
      },
      "execution_count": 10,
      "outputs": []
    },
    {
      "cell_type": "code",
      "source": [
        "x_train = train_data['JP'].to_numpy() #isi sesuai kolom dataset\n",
        "x_valid = valid_data['JP'].to_numpy()\n",
        "print(x_train.shape,x_valid.shape)\n",
        "print(label_train)\n",
        "print(x_train)"
      ],
      "metadata": {
        "id": "diK2gNqhbPAH",
        "outputId": "9778a385-edfd-414e-d57e-b1f28a668c52",
        "execution": {
          "iopub.status.busy": "2023-12-02T00:44:16.544694Z",
          "iopub.execute_input": "2023-12-02T00:44:16.545302Z",
          "iopub.status.idle": "2023-12-02T00:44:16.553967Z",
          "shell.execute_reply.started": "2023-12-02T00:44:16.545270Z",
          "shell.execute_reply": "2023-12-02T00:44:16.552705Z"
        },
        "trusted": true,
        "colab": {
          "base_uri": "https://localhost:8080/"
        }
      },
      "execution_count": 11,
      "outputs": [
        {
          "output_type": "stream",
          "name": "stdout",
          "text": [
            "(256,) (64,)\n",
            "[1 0 0 1 0 1 1 1 0 0 1 1 1 1 1 0 1 0 0 0 1 0 0 1 0 0 1 1 0 1 1 0 1 1 1 0 0\n",
            " 0 0 1 1 1 1 1 0 0 0 0 1 1 1 0 1 0 0 1 0 1 0 0 0 1 1 0 1 1 0 1 0 0 1 0 1 0\n",
            " 0 1 0 1 0 0 1 0 0 0 0 1 1 1 0 1 0 1 1 0 0 0 0 0 0 0 0 0 1 1 0 1 0 1 1 0 0\n",
            " 0 1 0 1 0 1 1 0 1 1 0 0 0 0 0 1 1 1 1 0 0 0 1 1 0 1 1 0 1 0 0 0 1 1 1 0 1\n",
            " 1 1 1 0 1 0 0 1 1 0 0 1 0 1 1 0 0 1 0 0 1 1 0 1 1 0 0 0 1 1 1 1 0 1 0 0 1\n",
            " 0 1 1 0 0 0 1 1 0 0 0 0 1 1 0 1 0 1 1 1 1 0 0 0 0 1 1 1 1 1 1 1 1 0 1 0 0\n",
            " 0 0 1 1 1 1 1 1 0 1 1 0 0 1 1 1 0 0 0 0 1 0 1 1 0 1 0 1 0 0 0 0 1 0]\n",
            "['Fleksibel juga sih, gak suka aturan yang ketat-ketat. Gue suka ambil keputusan spontan, dan ya, hidup gue nggak terlalu terencana banget, tapi seru aja gitu.'\n",
            " 'Menurutku, kejujuran dan konsistensi itu penting dalam segala hal yang kulakukan'\n",
            " 'Ketika ada masalah, tidak pernah tidak punya kecakapan untuk menemukan solusi yang sederhana dan praktis'\n",
            " 'Ngga suka dibatasi aturan ketat, lebih suka ngikutin alur kehidupan yang santai dan fleksibel. Sering juga impulsif, kayak tiba-tiba pengen jalan-jalan atau nyobain hal baru. Gue cenderung cuek sama waktu dan lebih suka ikutin perasaan.'\n",
            " 'Saya tidak suka jika tidak merancang jadwal untuk meningkatkan produksi hasil tani'\n",
            " 'Gue ini orangnya suka cari cara buat menghadapi kehidupan dengan caranya sendiri.'\n",
            " 'Tidak dapat menikmati momen jika terlalu repot-repot banget mikirin masa depan.'\n",
            " 'Fleksibel dan mudah beradaptasi dengan perubahan, seringkali bersifat spontan dan tidak suka terikat pada rencana yang ketat.'\n",
            " 'aku suka membuat rencana yang terperinci untuk acara-acara spesial agar semuanya berjalan lancar'\n",
            " 'Dengan penekanan pada perencanaan yang matang, aku menetapkan standar tinggi untuk dirinya sendiri dan orang-orang di sekitarnya. Tidak hanya berorientasi pada hasil, tetapi dia juga menghargai efisiensi dan ketertiban, menciptakan lingkungan yang terstruktur dan produktif di sekelilingnya.'\n",
            " 'Terkadang lebih menyenangkan untuk mengikuti jalan tanpa memiliki rencana yang terlalu ketat.'\n",
            " 'Gue suka spontanitas dan benci dikekang aturan yang rumit, tapi kadang malah jadi ga jelas kapan gue selesaiin sesuatu. Yang pasti, gue selalu excited kalo ada hal-hal baru yang bisa gue explore!\"'\n",
            " 'Fleksibel dan adaptif, saya sering mengubah rencana sesuai dengan keadaan dan menyukai tantangan baru yang membuat saya tetap aktif dan terlibat'\n",
            " 'Padahal, di balik kekakuanku, sebenernya gue ini orangnya fleksibel, suka ngikutin arus, nggak suka dipaksa aturan. Jadinya, ya hidup ini kayak gim yang harus di-mainin tanpa harus selalu tahu endingnya'\n",
            " 'Lebih suka berada dalam situasi yang fleksibel dan terbuka untuk perubahan, sering kali menyesuaikan diri dengan cepat terhadap keadaan yang berubah'\n",
            " 'Saya juga cenderung tidak suka jika tidak mempertimbangkan fakta dan data sebelum membuat keputusan.'\n",
            " 'Tidak suka jika berada dalam situasi yang tidak fleksibel dan tidak terbuka untuk perubahan, tidak jarang mampu menyesuaikan diri dengan cepat terhadap keadaan yang berubah.'\n",
            " 'Sifat saya yang berpikir kritis sering membuat saya sadar akan kebutuhan untuk melakukan perencanaan dan mengikuti rencana yang telah saya buat'\n",
            " 'Meskipun berada di tengah kegembiraan malam, saya tidak kehilangan inti kepemimpinannya. saya dengan hati-hati merencanakan rute pulang, memastikan setiap teman tiba di rumah dengan aman. Sebagai seorang yang pandai menilai situasi, dia tidak hanya memimpin dalam kesenangan, tetapi juga bertanggung jawab dalam setiap langkah yang diambilnya.'\n",
            " 'Aku selalu mencari cara untuk meningkatkan diri dan terbuka terhadap pembelajaran serta pengetahuan baru'\n",
            " 'Gak terlalu mikirin detail atau analisis, lebih prefer langsung action dan rasain aja.'\n",
            " 'Saya menikmati merencanakan kegiatan atau proyek, melihat bagaimana hal-hal tersebut berkembang dan berubah untuk menjadi lebih baik'\n",
            " 'Saya tidak suka keputusan yang terlalu berdasarkan perasaan, tetapi lebih suka mempertimbangkan fakta dan data sebelum membuat keputusan'\n",
            " 'Cenderung santai dan fleksibel, sering menunda keputusan sampai mendapat cukup data untuk membentuk pandangan yang solid.'\n",
            " 'Meskipun berada di tengah kegembiraan malam, saya tidak kehilangan inti kepemimpinannya. saya dengan hati-hati merencanakan rute pulang, memastikan setiap teman tiba di rumah dengan aman. Sebagai seorang yang pandai menilai situasi, dia tidak hanya memimpin dalam kesenangan, tetapi juga bertanggung jawab dalam setiap langkah yang diambilnya.'\n",
            " 'Saya tidak pernah bekerja santai untuk mencapai tujuan yang telah ditetapkan.'\n",
            " 'Bukan berarti saya kekurangan perencanaan atau struktur dalam pekerjaan sebagai insinyur, melainkan saya menemukan kepuasan dalam fleksibilitas dan kemampuan untuk beradaptasi dengan perubahan kebutuhan proyek. Suka menyesuaikan pendekatan teknis berdasarkan dinamika proyek dan perkembangan teknologi terbaru.'\n",
            " 'Tapi ya gitu, kadang susah juga buat putusin keputusan, suka bimbang dan lebih suka menyesuaikan diri dengan situasi yang ada. Makanya, life is like a rollercoaster, unpredictable, dan aku coba menikmati setiap momennya'\n",
            " 'Kalau ada acara, aku senang merencanakannya hingga detil terkecil, agar semuanya berjalan sesuai rencana'\n",
            " 'Fleksibel dalam menghadapi perubahan dan cenderung bersifat spontan, suka mengambil tantangan tanpa terlalu banyak merencanakannya'\n",
            " 'Terkadang, keputusan dibuat berdasarkan intuisi dan perasaan terhadap suasana hati, dan lebih suka mengeksplorasi opsi daripada membuat keputusan yang terlalu terencana. Fleksibel dan cenderung mengikuti arus kehidupan tanpa terlalu kaku dalam rencana.'\n",
            " 'Ketika melakukan kesukaan saya, saya selalu mengontrol diri dengan kebijaksanaan dan pertimbangan. Saya tidak pernah mengatur rencana perjalanan pulang apabila tidak dilakukan secara cermat, memastikan bahwa setiap orang tiba di rumah mereka dengan selamat.'\n",
            " 'Tapi saya tetap fleksibel dan suka mengikuti alur kehidupan tanpa terlalu banyak rencana yang kaku'\n",
            " 'Pendekatan aku terhadap hidup cenderung mengutamakan pengalaman dan eksplorasi. aku suka mencoba hal-hal baru tanpa takut ambil risiko, menganggap bahwa setiap kesempatan adalah potensi pembelajaran yang berharga.'\n",
            " 'Jadi, ketika ada peluang atau tantangan baru, saya langsung masuk ke dalamnya dengan semangat, mengandalkan insting saya untuk mengatasi berbagai situasi.'\n",
            " 'Saya itu tipe yang suka merencanakan segala sesuatu, dari rutinitas harian sampai proyek besar'\n",
            " 'Saya tidak senang jika tidak menyisihkan waktu untuk belajar tentang topik-topik yang menarik minat saya.'\n",
            " 'Aku memiliki tujuan yang jelas, selalu mencari cara untuk mencapai tujuan tersebut'\n",
            " 'Saya sangat detail-oriented dan tidak suka jika tidak membuat rencana yang terstruktur untuk menjaga segala sesuatunya tetap teratur.'\n",
            " 'Dalam hal perencanaan dan pengambilan keputusan, saya lebih condong pada sisi perceiving (P), cenderung fleksibel, terbuka terhadap perubahan, dan menghargai spontanitas dalam menjalani kehidupan'\n",
            " 'Gue kurang suka kalo ga melakukan aksi daripada duduk-duduk di satu tempat. Saking doyannya eksperimen, ga suka kalo ga nyoba-nyoba hal baru.'\n",
            " 'Gak suka mikirin aturan yang kaku-kaku, lebih senang jalanin hidup apa adanya, gak terlalu mikirin rencana panjang, lebih suka fleksibel, dan ikutin alur aja. Makanya, hidup tuh mesti seru dan spontan.'\n",
            " 'Kadang suka spontan nyobain hal-hal baru tanpa rencana matang, karena menurutku hidup itu harus seru dan penuh petualangan'\n",
            " 'Nikmati setiap saat tanpa perlu mempertimbangkan masa depan.'\n",
            " 'saya tetap berkomitmen pada prestasi akademis meskipun terlibat dalam banyak aktivitas. Saya mengatur jadwal studinya dengan terstruktur, menetapkan prioritas pada tugas-tugas kelas yang penting, dan memastikan bahwa proyek kelompok selesai sesuai deadline. Sikap saya yang terorganisir memberikan dasar kuat untuk kesuksesan di sekolah, menunjukkan bahwa saya tidak hanya aktif sosial tetapi juga serius dalam mencapai prestasi akademis.'\n",
            " 'Saya tidak suka jika tidak merencanakan dan tidak mengatur segala hal dengan sistematis, saya juga tidak suka jika tidak berusaha untuk menyelesaikan tugas dengan tepat waktu dan dengan kualitas yang baik.'\n",
            " 'Aku ingin membuat dunia menjadi tempat yang lebih baik'\n",
            " 'Saya tidak nyaman ketika tidak memiliki jadwal yang terstruktur dan tidak melakukan tugas-tugas dengan cara yang terorganisir.'\n",
            " 'Fleksibilitas dan spontanitas dalam menjalani hidup menjadi kunci kebahagiaan bagi saya, menghargai kebebasan dan kesempatan untuk mengeksplorasi hal baru.'\n",
            " 'Gak suka buru-buru, lebih suka ngalirin aja kehidupan dengan santai, ga suka terlalu kaku sama aturan. Lebih enjoy ngikutin perasaan daripada rencana yang kaku, seringnya asal dulu aja dan liat kemana arahnya.'\n",
            " 'Gak terlalu mikirin aturan, lebih seneng hidup santai dan ikutin aja alurnya. Yang pasti, hidup harus seru dan penuh fleksibilitas'\n",
            " 'Meskipun atmosfer hangat acara amal, saya tetap fokus pada tujuan. Saya mengawasi setiap detail, memastikan bahwa dana yang terkumpul dipergunakan secara efisien. Kepeduliannya yang terorganisir membuatnya menjadi kekuatan penggerak di balik kesuksesan acara tersebut.'\n",
            " 'Saya cenderung fleksibel, menyukai kebebasan, dan menghindari aturan yang terlalu kaku. Saya merasa hidup lebih baik dinikmati tanpa terlalu banyak rencana, lebih suka mengikuti alur daripada merencanakan semuanya dengan detail.'\n",
            " 'Saya cenderung tidak memiliki rencana yang tidak teratur dan tidak suka tidak membuat keputusan yang berdasarkan nilai-nilai pribadi saya'\n",
            " 'Meskipun dalam pertarungan hukum yang penuh dinamika, gua tetap memiliki pandangan yang terfokus. Gua merencanakan strategi hukum dengan matang, memastikan bahwa setiap langkah yang diambil memiliki tujuan yang jelas. Pendekatannya yang terorganisir membantu mencapai hasil yang diinginkan dengan efisien.'\n",
            " 'Suka merencanakan kegiatan secara fleksibel dan tidak terlalu terikat pada jadwal yang kaku.'\n",
            " 'Walau tenggelam dalam kesenangan kafe, gua tidak kehilangan fokus pada tanggung jawabnya. Gua mengelola acara pembukaan seni lokal dengan pengaturan yang terencana, memastikan bahwa setiap detail, mulai dari dekorasi hingga hiburan, berjalan sesuai rencana. Sikap penilaiannya yang terorganisir dan proaktif membantu menciptakan acara yang sukses dan berkesan.'\n",
            " 'Fleksibilitas dan ketidakpastian hidup di dalam dunia saya, di mana rencana seringkali memberikan ruang untuk petualangan yang tak terduga dan pelajaran berharga. Saya menemukan kebebasan dalam mengikuti arus kehidupan dan mengejar impian dengan intensitas yang dipenuhi kegembiraan'\n",
            " 'Tidak hanya diam dengan perkembangan orang lain dan ingin melihat orang-orang di sekitar tumbuh dan berkembang.'\n",
            " 'Efektif dalam mengelola sumber daya dan menciptakan lingkungan kerja yang produktif.'\n",
            " 'Saya menemukan kepuasan dalam perencanaan yang terstruktur dan menjalankan jadwal dengan disiplin. Suka memiliki rencana yang jelas untuk mengembangkan karya seni saya dan mencapai tujuan artistik yang telah ditetapkan.'\n",
            " 'Makanya, gue suka banget ngikutin tren dan selalu update sama hal-hal yang lagi happening. Gue suka banget ngikutin tren dan selalu update sama hal-hal yang lagi happening.'\n",
            " 'Meski sering terlibat dalam proyek yang membutuhkan rencana dan jadwal, saya menemukan kebebasan dalam fleksibilitas dan responsivitas terhadap perubahan. Suka mengejar minat baru dalam dunia teknologi dan selalu terbuka terhadap ide-ide yang dapat memperkaya pengalaman pengguna.'\n",
            " 'Sangat memperhatikan perkembangan orang-orang di sekitar saya.'\n",
            " 'Ngikutin aja deh, santai-santai aja, toh yang penting enjoy!'\n",
            " 'Jadi, ya, begitulah kira-kira gambaran tentang saya!'\n",
            " 'Suka memiliki rencana yang terperinci untuk memberikan penampilan yang koheren dan memukau audiens.'\n",
            " 'Saya memiliki kecenderungan untuk menjadi agak tidak teratur pada waktu-waktu tertentu, tetapi selalu bersemangat untuk belajar dan meningkatkan keterampilan saya.'\n",
            " 'Aku tidak suka jika tidak membuat rencana yang terperinci untuk acara-acara spesial agar semuanya berjalan lancar.'\n",
            " 'Di dunia pengetahuan yang penuh dinamika, saya tidak lupa memiliki rencana yang teratur. Saya menetapkan target akademis yang realistis, merancang jadwal studi yang efisien, dan memastikan bahwa setiap langkah dalam pembelajaran membawa mereka lebih dekat ke tujuan akhir. Pendekatan saya yang berurutan membuktikan bahwa keberhasilan akademis tidak hanya tentang pengetahuan, tetapi juga perencanaan dan pengelolaan waktu yang baik.'\n",
            " 'Gue fleksibel banget, santai aja, dan selalu ngikutin alur kehidupan yang asik. Nggak suka dibatasi aturan, gue lebih enjoy kalau bebas dan bisa ngambil keputusan spontan.'\n",
            " 'Menurutku, kejujuran dan konsistensi itu penting dalam segala hal yang kulakukan'\n",
            " 'Kayaknya lebih enjoy hidup kalau ngikutin feel dan intuisi daripada rencana yang ketat'\n",
            " 'Dalam menghadapi situasi-situasi yang memerlukan pengambilan keputusan cepat, saya percaya pada keputusan berdasarkan nilai-nilai moral dan menciptakan keseimbangan dalam dinamika tim.'\n",
            " 'Gua senang melibatkan rekan-rekan tim dalam pengambilan keputusan dan meyakinkan mereka untuk mencapai tujuan bersama.'\n",
            " 'Saya menemukan kepuasan dalam fleksibilitas dan kemampuan untuk menanggapi perubahan cuaca atau kondisi tanah yang tidak terduga. Suka menyesuaikan metode pertanian berdasarkan pengalaman langsung dan perkembangan terkini di bidang pertanian.'\n",
            " 'Walaupun proyek penuh dengan dinamika, saya selalu memiliki peta jalan yang jelas. Saya menetapkan tujuan yang terukur, memecahnya menjadi tugas-tugas yang terkelola, dan memastikan bahwa semua anggota tim berada pada jalur yang sama. Pendekatan saya yang terstruktur dan terorganisir membantu tim menghadapi setiap tahap proyek dengan percaya diri.'\n",
            " 'Meski terkadang tampak tidak terstruktur atau kurang fokus, saya menikmati fleksibilitas dan kebebasan untuk mengejar berbagai minat dan proyek.'\n",
            " 'Saya itu tipe yang tidak suka jika tidak merencanakan segala sesuatu, dari rutinitas harian sampai proyek besar'\n",
            " 'Akhirnya, hasilnya lebih baik dari yang diharapkan, dan liat anak-anak senyum bahagia jadi pembuktian yang paling mantep'\n",
            " 'Gue gak suka dibatasi aturan yang kaku, lebih seneng ngikutin arah aliran dan ngatur semuanya seiring waktu'\n",
            " 'Saya tidak pernah tidak menikmati merencanakan kegiatan atau proyek, melihat bagaimana hal-hal tersebut berkembang dan berubah untuk menjadi lebih baik'\n",
            " 'Saya memiliki kecenderungan untuk merencanakan dan menilai setiap detail dalam lukisan saya, menginginkan hasil akhir yang tidak hanya estetis tetapi juga dapat menyentuh perasaan orang yang melihatnya.'\n",
            " 'Saya juga cenderung mempertimbangkan fakta dan data sebelum membuat keputusan'\n",
            " 'Meskipun saya tegas dalam membuat keputusan, saya juga fleksibel dan bisa beradaptasi dengan cepat tergantung pada kebutuhan situasi. Sebuah rencana yang terorganisir dengan baik memberi saya kepuasan dan memotivasi saya untuk terus bergerak maju'\n",
            " 'Baginya, tantangan teknologi adalah energi untuk hidup yang seru dan menarik'\n",
            " 'Dalam menjalani kehidupan, saya cenderung bersikap fleksibel dan terbuka terhadap perubahan, merasa lebih nyaman dengan kebebasan dan spontanitas.'\n",
            " 'Suka banget seru-seruan, hidup itu harus seru dan nggak boleh bosen-bosenan!'\n",
            " 'Saya tidak suka jika tidak membuat rencana dan tidak mengikuti jadwal yang telah ditetapkan.'\n",
            " 'Gue suka eksplorasi, mencoba hal-hal baru, dan nggak takut ambil risiko. Kalau gue tuh lebih suka ngikutin alur kehidupan yang nggak terlalu terbatas.'\n",
            " 'Saya tidak suka jika tidak mendiskusikan ide-ide dengan orang-orang yang memiliki pandangan yang berbeda, hal ini membantu saya memperluas sudut pandang'\n",
            " 'Dalam menghadapi masalah, lebih suka mencari solusi logis daripada bersikap impulsif. Gak suka terburu-buru, lebih suka menikmati setiap momen tanpa tekanan waktu yang berlebihan.'\n",
            " 'Kadang-kadang, saya juga bisa agak spontan dan menyesuaikan diri dengan situasi.'\n",
            " 'Di tengah petualangan, aku tidak hanya menikmati momen-momen tersebut, tetapi juga memastikan bahwa semuanya berjalan sesuai rencana. Dia menjadi penentu waktu dan penanggung jawab utama, memastikan setiap aktivitas dijalankan sesuai jadwal yang telah ditetapkan.'\n",
            " 'Detail-detail kecil dan perencanaan yang teratur adalah kunci dalam menjaga segalanya berjalan dengan baik'\n",
            " 'Meskipun terbuai oleh penawaran belanja yang menggoda, gue tidak kehilangan kendali. Dengan rencana belanja yang telah dipersiapkan sebelumnya, gue memastikan untuk mematuhi anggaran yang telah ditetapkan dan tetap pada jadwal waktu. Sikap penilaiannya yang tegas membimbingnya melalui pusat perbelanjaan dengan efisiensi dan kebijaksanaan yang memukau.'\n",
            " 'Hasilnya, Proyek kelar lebih cepet dari yang diharapin semua orang.'\n",
            " 'Walau tenggelam dalam kesenangan taman, saya tetap memastikan segalanya berjalan sesuai rencana. Saya mengatur jadwal acara dengan ketat, memimpin permainan dengan efisiensi, dan memastikan bahwa setiap orang terlibat. Pendekatannya yang terorganisir membantu menciptakan pengalaman taman yang menyenangkan dan terkoordinasi.'\n",
            " 'Walaupun terlibat dalam berbagai kegiatan ekstrakurikuler, aku tetap fokus pada masa depan sekolah. Dengan jadwal yang teratur dan perencanaan yang baik, aku menemukan cara untuk menjaga keseimbangan antara aktivitas sosial dan kinerja akademis. Pendekatannya yang terorganisir membuktikan bahwa aku tidak hanya sosial dan berpikir besar tetapi juga memiliki komitmen yang kuat pada pencapaian pribadi dan kelompok.'\n",
            " 'Saya tengah menggarap proyek besar dengan fokus pada tujuan akhir yang jelas'\n",
            " 'Dalam bergaul, tidak jarang terlihat keras tapi sebenarnya peduli sama pengembangan orang-orang di sekitar'\n",
            " 'Hasilnya, Proyek kelar lebih cepet dari yang diharapin semua orang.'\n",
            " 'Dan terakhir, hidup gue tuh lebih ke arah yang santai aja, ga suka terlalu mikirin rencana jauh-jauh, lebih milih nikmatin aja apa yang ada sekarang'\n",
            " 'Bukan berarti saya kurang memiliki rencana atau protokol dalam menangani pasien, tetapi saya menemukan kebebasan dalam fleksibilitas dan kemampuan untuk beradaptasi dengan perubahan kondisi pasien. Suka menyesuaikan pendekatan pengobatan berdasarkan perkembangan dan respons individu pasien.'\n",
            " 'Di dunia pengetahuan yang penuh dinamika, saya tidak lupa memiliki rencana yang teratur. Saya menetapkan target akademis yang realistis, merancang jadwal studi yang efisien, dan memastikan bahwa setiap langkah dalam pembelajaran membawa mereka lebih dekat ke tujuan akhir. Pendekatan saya yang berurutan membuktikan bahwa keberhasilan akademis tidak hanya tentang pengetahuan, tetapi juga perencanaan dan pengelolaan waktu yang baik.'\n",
            " 'Tidak suka jika terlalu mikirin aturan, tidak senang dengan hidup yang sangat serius dan mengikuti alur asal pasti, hidup harus tidak membosankan dan suka menyesuaikan diri.'\n",
            " 'Aku sosok yang sangat percaya diri ketika menetapkan tujuan. Seperti seorang bos yang mengarahkan perusahaanya ke visi perusahaan, aku merancang alur proses kehidupan dengan akurat yang tidak tertandingi. Dengan sikap keputusan dan rencana yang matang, setiap langkahnya merupakan serangkaian keputusan yang terkoneksi, lebih condong pada pencapaian banyak tujuan yang berambisi.'\n",
            " 'Lebih suka menyusun rencana secara spontan dan senang mengejar peluang baru tanpa terlalu banyak peraturan. Jadi, kalau ada peluang untuk mencoba sesuatu yang baru, aku biasanya langsung melompat ke dalamnya.'\n",
            " 'Fleksibilitas dan keterbukaan terhadap pengalaman baru menjadi ciri khas, karena hidup terasa lebih berwarna ketika membiarkan diri terbawa arus perubahan.'\n",
            " 'Detail-detail kecil dan perencanaan terstruktur adalah kunci yang saya pegang untuk menjaga segala sesuatu tetap teratur'\n",
            " 'Meskipun berada dalam kreativitas yang spontan, gue memainkan peranannya sebagai pemimpin kelompok. Gue memastikan bahwa setiap langkah proses kreatif berlangsung dengan lancar, dari perencanaan hingga eksekusi. Sikap penilaiannya yang terfokus membantu menciptakan lingkungan yang mendukung bagi para seniman.'\n",
            " 'Saya selalu mencoba tidak membuang waktu dan tidak ingin melakukan sesuatu secara tidak efisien untuk mencapai target yang menjadi tujuan'\n",
            " 'Aku lebih suka beradaptasi daripada membuat rencana yang kaku, menikmati kebebasan dan fleksibilitas dalam mengejar minat dan eksplorasi baru'\n",
            " 'Pemikirannya cenderung realistis, tidak terbuka dengan orang-orang yang belum dikenal'\n",
            " 'Suka fleksibel, kadang suka ganti rencana, tapi tetep punya tujuan.'\n",
            " 'Saya sangat menghargai efisiensi dalam berbagai hal'\n",
            " 'Gue ini orangnya tidak suka cari cara buat menghadapi kehidupan dengan tanpa cara sendiri.'\n",
            " 'Dalam menjalani hidup, saya lebih suka mengikuti alur dan melihat ke mana arahnya mengarah, daripada membatasi diri dengan rencana yang ketat. Fleksibilitas adalah kunci, dan saya merasa hidup lebih berwarna saat bisa menyesuaikan diri dengan perubahan dan tantangan yang muncul.'\n",
            " 'Dalam mengatasi tantangan akademis, saya memiliki kecenderungan untuk membuat jadwal belajar yang terstruktur dan menilai kemajuan saya secara teratur untuk mencapai hasil yang memuaskan.'\n",
            " 'Sambil benerin, sambil mikirin gimana cara biar lebih efisien pas mesinnya jalan lagi, kan sayang kalau cuma selesaiin masalah kecil aja'\n",
            " 'Tidak pernah suka terikat pada rencana yang kaku, saya lebih memilih menjalani hidup dengan kebebasan dan fleksibilitas, menjelajahi setiap momen dengan kegembiraan dan spontanitas. Hidup bagaikan lukisan yang terus berkembang, dan saya merayakannya dengan penuh semangat, selalu mencari keindahan dalam kehidupan yang dinamis dan berwarna.'\n",
            " 'Saya suka merencanakan segala sesuatu dengan terstruktur dan teratur, dan kesuksesan bagi saya adalah ketika segala sesuatu berjalan sesuai rencana. Dalam berbagai situasi, saya lebih memilih kepastian dan keteraturan dibandingkan dengan kejutan atau perubahan mendadak'\n",
            " 'Saya suka merencanakan dan mengatur segala hal dengan sistematis, saya juga berusaha untuk menyelesaikan tugas dengan tepat waktu dan dengan kualitas yang baik.'\n",
            " 'Rencana yang teratur dan perhatian pada detail-detail kecil menjadi cara saya menjaga segala sesuatu agar tetap terorganisir'\n",
            " 'Gua tetap memiliki fokus yang jelas dalam hal akademis walaupun selalu terlibat dalam keceriaan. Dengan kalender yang terstruktur dan rencana pelajaran yang terorganisir, gua berhasil menjaga keseimbangan antara kehidupan sosial dan pencapaian akademis. Sikap penilaiannya yang terukur memberikan dasar stabil bagi perjalanan pendidikan sekolah gua.'\n",
            " 'Saya senang memiliki rencana yang jelas dan terukur untuk mengelola dan mengembangkan kanal YouTube saya, dan saya juga senang merencanakan dan menjalankan jadwal dengan baik.'\n",
            " 'Biasanya, gue benci aturan kaku, suka ngejalani hidup dengan lebih santai aja, yaudah, gitu deh.'\n",
            " 'Fleksibilitas dan kemampuan beradaptasi saya tinggi, sehingga saya senang menghadapi tantangan baru tanpa terlalu banyak merencanakannya. Saya cenderung bersikap terbuka terhadap berbagai kemungkinan dan memanfaatkan momen dengan spontan.'\n",
            " 'Gua selalu mencari cara untuk mempertahankan semangat hidup dan menemukan ketertarikan baru.'\n",
            " 'Gaya menemukan kebebasan dalam fleksibilitas dan kemampuan untuk beradaptasi dengan perubahan kondisi atau kebutuhan keamanan yang dapat berubah-ubah. Suka menyesuaikan pendekatan dan strategi sesuai dengan perkembangan situasi dan dinamika keamanan.'\n",
            " 'Kadang tergoda dengan penawaran kursus diskon yang besar, gue tetap memikirkan akan membeli kursus atau tidak. Dengan rencana keuangan yang telah disesuaikan, gue memastikan anggaran yang cocok untuk membeli kursus yang paling penting. Sikap penilaian saya yang tegas membuat saya dapat menentukan kursus mana yang dapat diambil.'\n",
            " 'Walau tenggelam dalam dinamika kelas tari, saya tetap menjadi penanggung jawab. Saya mengatur jadwal latihan dengan cermat, memastikan setiap detik dihabiskan dengan efisiensi. Sebagai pemimpin kelompok, sikap penilaiannya yang terstruktur membawa kelompoknya ke tingkat performa yang tinggi.'\n",
            " 'Selalu mencoba memaksimalkan waktu dan efisiensi untuk mencapai target yang telah ditetapkan'\n",
            " 'Rasanya ga asik kalo ga ngeliat langsung ke prakteknya, sih. Pokoknya, hidupku kayak puzzle yang asyik dipecahkan, gitu deh.'\n",
            " 'Jangan harap gue disiplin banget, kecuali kalau lagi mood. Sering juga mikirin arti hidup, tapi ya kadang suka bingung sendiri gitu.'\n",
            " 'Detail-detail kecil dan perencanaan terstruktur adalah kunci yang saya pegang untuk menjaga segala sesuatu tetap teratur'\n",
            " 'Tidak kaku dalam menyikapi perubahan, tidak terlalu suka merencanakan setiap rincian dalam hidup. senang mengikuti jalan kehidupan dan beradaptasi dengan perubahan keadaan.'\n",
            " 'Saya merasa hidup itu penuh dengan hal menarik yang perlu dijelajahi, dan saya suka mengambil risiko untuk mencoba hal-hal baru tanpa terlalu banyak berpikir terlebih dahulu'\n",
            " 'Sering juga suka mikirin masa depan, jadi gua suka sih ngeliat target jangka panjang dan caranya buat nyampein ke sana'\n",
            " 'Jangan harap gue bakal ngikutin aturan yang kaku, lebih seneng improvisasi dan ngikutin alur kehidupan yang nggak terduga, gue orangnya fleksibel. Jangan diatur-atur, hidup ini kan bukan akuntansi yang harus sesuai rencana'\n",
            " 'Saya suka membuat rencana dan menjalankannya dengan tepat waktu'\n",
            " 'Saya orang yang tidak suka jika tidak memiliki struktur, rencana, dan komitmen pada pencapaian tujuan.'\n",
            " 'Aku sosok yang tidak pernah ragu-ragu ketika menetapkan tujuan. Seperti seorang kapten yang mengarahkan kapalnya ke pelabuhan yang pasti, dia merancang peta jalan kehidupannya dengan presisi yang tak tertandingi. Dengan sikap penentu dan rencana yang terukur, setiap langkahnya merupakan serangkaian keputusan yang terpikirkan, mengarah pada pencapaian tujuan-tujuan yang ambisius.'\n",
            " 'Saya seringkali fleksibel dan terbuka terhadap berbagai ide dan pengalaman, merasa hidup lebih berwarna ketika ada kebebasan untuk mengeksplorasi berbagai aspek kehidupan tanpa terlalu kaku dalam rencana atau struktur yang ketat.'\n",
            " 'Gue ini orangnya suka spontanitas dan kebebasan. Selalu mencari cara buat menjaga semangat hidup dan mengejar ketertarikan baru.'\n",
            " 'Dalam menjalani kehidupan, saya merasa lebih bersemangat dan puas ketika memberikan ruang bagi kekreatifan dan spontanitas, membiarkan diri saya terbawa arus momen-momen yang tidak terduga'\n",
            " 'saya cenderung membuat keputusan berdasarkan logika dan fakta yang tersedia.'\n",
            " 'Suka juga berpetualang dalam hal-hal baru, mencoba hal-hal yang belum pernah dilakukan sebelumnya'\n",
            " 'Kalau masalah pilihan, aku cenderung nyari solusi yang bisa jalanin sendiri, yang nggak ribet dan bikin bete'\n",
            " 'Biasanya, kalo udah ngerasa mood lagi oke, suka langsung aja ngelakuin apa yang ada di pikiran, gak terlalu mikirin detail atau aturan yang kaku. Gue fleksibel orangnya'\n",
            " 'Aku sangat tidak menikmati saat-saat ketika tidak bisa bergerak bebas, tidak mengekspresikan diri dan tidak mengeksplorasi hal-hal baru dalam hidupku'\n",
            " 'Prinsip kejujuran dan konsistensi adalah fondasi dari setiap langkahku.'\n",
            " 'Nah, waktu bekerja, kurang nyaman kalau bisa kerja sama orang dan ga punya ruang buat eksperimen ide-ide baru.'\n",
            " 'Saya tidak suka jika merencanakan segala sesuatu tidak terstruktur dan tidak teratur, dan kesuksesan bagi saya adalah ketika segala sesuatu berjalan sesuai rencana. Dalam berbagai situasi, saya bukanlah orang yang suka dengan kejutan atau perubahan mendadak, saya tidak suka jika tidak ada kepastian dan tidak teratur.'\n",
            " 'Meskipun berada dalam banyak kegiatan kampus, aku tetap menjaga fokus pada tanggung jawab akademisnya. Aku memiliki jadwal yang terorganisir, memprioritaskan tugas kuliah dengan cermat, dan memastikan bahwa setiap proyek kelompok berjalan sesuai rencana. Sikap penilaiannya yang terstruktur membawanya pada jalur kesuksesan akademis sambil tetap aktif berpartisipasi dalam kehidupan sosial kampus.'\n",
            " 'Fleksibel dan mudah beradaptasi dengan perubahan, menyukai kebebasan dan tidak terlalu terikat pada aturan.'\n",
            " 'Tapi ya gitu, seringkali nggak konsisten, suka nunda-nunda tugas sampe mepet, gitu deh, pokoknya begitulah keseharian saya.'\n",
            " 'Walau tenggelam dalam kesenangan kafe, gua tidak kehilangan fokus pada tanggung jawabnya. Gua mengelola acara pembukaan seni lokal dengan pengaturan yang terencana, memastikan bahwa setiap detail, mulai dari dekorasi hingga hiburan, berjalan sesuai rencana. Sikap penilaiannya yang terorganisir dan proaktif membantu menciptakan acara yang sukses dan berkesan.'\n",
            " 'Saya termasuk dalam kategori judger yang cenderung terstruktur dan terorganisir, tidak suka jika tidak memiliki rencana dan tujuan yang jelas.'\n",
            " 'Fleksibel dan terbuka terhadap berbagai kemungkinan, suka melihat masalah dari berbagai sudut pandang sebelum membuat keputusan.'\n",
            " 'Saya cenderung memiliki kecenderungan untuk merencanakan dan mengorganisir kehidupan saya, dan saya menemukan kepuasan dalam menyelesaikan tugas sesuai jadwal yang telah direncanakan'\n",
            " 'Dalam urusan pilihan, saya lebih condong mencari solusi yang tidak bisa orang lain atasi, yang tidak merepotkan dan tidak menimbulkan frustrasi.'\n",
            " 'Sering menghindari hal yang membuat saya tidak senang dan tidak pernah lelah menghadapi tantangan baru. Tidak suka aturan yang sangat ketat, lebih suka hidup menggunakan aturan sendiri. Cenderung cepat dalam mengambil keputusan, tapi percaya bahwa hidup itu lebih seru kalau kita bisa instan dan mencoba banyak hal baru.'\n",
            " 'Merencanakan kegiatan atau proyek bersama menjadi kesempatan bagi saya untuk melihat bagaimana segala sesuatu berkembang dan menjadi lebih baik dari sebelumnya'\n",
            " 'Meskipun bergotong-royong dengan semangat kolektif, gua memastikan bahwa setiap langkah dijalankan sesuai rencana. Gua memegang jadwal kerja dengan ketat, mengawasi proyek secara keseluruhan, dan memastikan bahwa setiap anggota tim merasa terkoordinasi. Sikap penilaiannya yang terorganisir memberikan landasan yang kuat untuk proyek yang sukses.'\n",
            " 'Walau mungkin terlihat sedikit tidak terstruktur, saya menikmati fleksibilitas dalam pengajaran, selalu mencoba menggabungkan minat siswa ke dalam pembelajaran dan memberikan ruang bagi pertumbuhan dan eksplorasi pribadi.'\n",
            " 'Walaupun terlibat dalam berbagai kegiatan ekstrakurikuler, aku tetap fokus pada masa depan sekolah. Dengan jadwal yang teratur dan perencanaan yang baik, aku menemukan cara untuk menjaga keseimbangan antara aktivitas sosial dan kinerja akademis. Pendekatannya yang terorganisir membuktikan bahwa aku tidak hanya sosial dan berpikir besar tetapi juga memiliki komitmen yang kuat pada pencapaian pribadi dan kelompok.'\n",
            " 'Akhirnya, hasilnya lebih baik dari yang diharapkan, dan liat anak-anak senyum bahagia jadi pembuktian yang paling mantep'\n",
            " 'Kayaknya hidup harus seru dan penuh tantangan gitu ya!'\n",
            " 'Mungkin karena itu, ya, gue jarang banget mikirin hal-hal yang ribet-ribet, lebih suka ngelakuin aja daripada terus mikirin detilnya'\n",
            " 'Saya tetap terorganisir meskipun suasana pesta yang kacau. Saya menetapkan peraturan permainan dengan jelas, memastikan setiap bagian BBQ matang dengan sempurna, dan mengatur jadwal untuk acara lainnya. Sikap saya yang terencana memberikan struktur yang diperlukan tanpa menghilangkan kegembiraan spontan pesta BBQ yang menyenangkan.'\n",
            " 'Meskipun seringkali terlihat santai, saya menyukai kebebasan dan tidak suka dibatasi oleh aturan yang kaku.'\n",
            " 'Meskipun terkadang mungkin terlihat tidak terstruktur, saya merasa nyaman dengan ketidakpastian dan lebih suka menjalani hidup dengan cara yang terbuka dan fleksibel.'\n",
            " 'Saya lebih nyaman ketika memiliki jadwal yang terstruktur dan melakukan tugas-tugas dengan cara yang terorganisir.'\n",
            " 'Meskipun berada dalam kreativitas yang spontan, gue memainkan peranannya sebagai pemimpin kelompok. Gue memastikan bahwa setiap langkah proses kreatif berlangsung dengan lancar, dari perencanaan hingga eksekusi. Sikap penilaiannya yang terfokus membantu menciptakan lingkungan yang mendukung bagi para seniman.'\n",
            " 'Meskipun terlibat dalam kegiatan kelas yang beragam, gua tetap fokus pada hasil akademis. Gua memiliki rencana pengajaran yang terstruktur, menetapkan tujuan yang realistis, dan memastikan bahwa setiap siswa memiliki panduan yang jelas. Pendekatan gua yang terorganisir membantu memaksimalkan waktu pembelajaran dan mencapai prestasi yang diinginkan.'\n",
            " 'Gue lebih suka aksi daripada duduk-duduk di satu tempat. Saking doyannya eksperimen, suka deh nyoba-ngoba hal baru'\n",
            " 'Life is short, jadi gue pengen nikmatin setiap momennya tanpa harus mikirin aturan yang kaku atau planning yang terlalu detil.'\n",
            " 'Tidak suka berdiam diri tidak melakukan apa-apa, dan hanya diam tidak mencoba hal-hal yang belum pernah dilakukan sebelumnya.'\n",
            " 'Kadang suka impulsif sih, tapi ya namanya juga hidup, nikmatin aja tanpa banyak mikir. Gak terlalu suka dikekang aturan, lebih suka ngalir aja sama arus kehidupan. Hidup ini tidak boleh ketat, dibawa fleksibel aja'\n",
            " 'Gua selalu memiliki pandangan jelas tentang tujuan dan tanggung jawabnya meskipun berada dalam kegiatan yang dinamis. GUA menetapkan target yang terukur, merencanakan langkah-langkah untuk mencapainya, dan memastikan bahwa setiap anggota tim mendapat arahan yang jelas. Sikap gua yang terstruktur membawa ketertiban ke dalam kekreativan tim kerja.'\n",
            " 'Dan nggak jarang, gw ngerasa seneng kalo ada pilihan banyak, bisa fleksibel gitu, nggak terpaku ke satu hal aja. Yaudah, gitu deh, hidup gw yang simpel dan spontan'\n",
            " 'Aku ingin membuat dunia menjadi tempat yang lebih baik'\n",
            " 'Meskipun tengah asyik menikmati serunya pesta, saya selalu memegang kendali dengan kebijaksanaan dan pertimbangan. Saya mengatur rencana perjalanan pulang dengan cermat, memastikan bahwa setiap teman tiba di rumah mereka dengan aman. Sikap penilaiannya yang bertanggung jawab melibatkan semua orang di sekitarnya dalam kesenangan tanpa meninggalkan keamanan dan keteraturan.'\n",
            " 'Fleksibilitas saya memungkinkan saya untuk menghadapi perubahan dengan tenang, meskipun saya terkadang membiarkan hal-hal terjadi begitu saja tanpa rencana khusus.'\n",
            " 'Prinsip kejujuran dan konsistensi adalah fondasi dari setiap langkahku.'\n",
            " 'Buat gue, hidup itu soal menikmati setiap detiknya, nggak suka ribet dan pengen semua serba spontan.Gue juga agak nggak suka terlalu mikirin rencana panjang, lebih seneng ngikutin alur kehidupan aja'\n",
            " 'Fleksibilitas dalam merencanakan dan adaptasi terhadap perubahan adalah kunci, tidak menyukai aturan yang ketat, saya cenderung lebih nyaman dengan struktur yang terbuka dan memberikan ruang untuk improvisasi.'\n",
            " 'Dalam mengelola perusahaan, saya memiliki kecenderungan untuk membuat keputusan dengan cepat dan efisien untuk mencapai tujuan bisnis yang telah ditetapkan.'\n",
            " 'Saya tidak menghargai ketidakefisiensian dalam berbagai hal'\n",
            " 'Meskipun tidak terlalu terbuka secara emosional, saya selalu siap membantu dan memberi dukungan kepada orang-orang terdekat saya'\n",
            " 'Yang penting happy-happy aja, hidup itu singkat!'\n",
            " 'Tapi gak suka terikat aturan kaku, lebih milih fleksibilitas. Makanya kalo ada rencana, suka nyusunnya seadanya, yang penting asik dan bebas'\n",
            " 'Aku tidak pernah tidak mencari cara untuk meningkatkan diri dan terbuka terhadap pembelajaran serta pengetahuan baru'\n",
            " 'Buatku, penting banget kejujuran dan konsistensi dalam semua yang aku lakuin, bikin puas liat hasil dari kerja keras dan perhatian ku.'\n",
            " 'Selalu siap membantu, tak pernah ragu untuk merespons kebutuhan orang lain dengan caranya yang praktis'\n",
            " 'Terkenal sebagai tipe yang tegas dan tuntut dalam mengejar hasil yang diinginkan.'\n",
            " 'Saya cenderung fleksibel dan terbuka terhadap perubahan tidak menyukai aturan yang ketat, menyesuaikan diri dengan situasi tanpa perlu rencana yang terlalu kaku. Saya menyukai kebebasan dan tidak terlalu terikat pada struktur, lebih suka membiarkan segala sesuatunya mengalir sesuai kehendaknya.'\n",
            " 'Kayaknya hidup harus seru dan penuh tantangan gitu ya!'\n",
            " 'Merencanakan kegiatan atau proyek bersama menjadi kesempatan bagi saya untuk melihat bagaimana segala sesuatu berkembang dan menjadi lebih baik dari sebelumnya'\n",
            " 'Nggak terlalu mikirin masa depan, karena menurutku hidup ini harus dinikmati aja. Yaudah, gitu aja deh, hidup ini seru kalo dijalani dengan spontan!'\n",
            " 'Lebih tidak suka bekerja dalam lingkungan yang tidak terorganisir dan tidak teratur, dan tidak senang dengan ketidakteraturan dalam rutinitas. Saya tidak menghargai jika tidak tepat waktu dalam segala hal.'\n",
            " 'Gue suka spontan tidak suka dikekang, lebih suka ngikutin alur daripada ngeplan segalanya. Jadi, hidup ini buat dinikmati aja, tanpa harus mikirin terlalu banyak aturan atau rencana yang kaku.'\n",
            " 'Nah, waktu bekerja, lebih nyaman kalau bisa kerja sendiri dan punya ruang buat eksperimen ide-ide baru'\n",
            " 'Overall, gue tuh kayak orang yang lebih fokus ke dalam diri sendiri, punya perasaan peka, suka liat hal-hal dari berbagai sudut pandang, dan enggak terlalu suka aturan baku'\n",
            " 'Soal rencana, gue sih lebih seneng kalau santai aja, ngikutin arus, dan nggak suka terlalu diatur. Yang penting hidup happy, ya kan?'\n",
            " 'Selalu memiliki rencana dan jadwal yang teratur untuk mencapai target yang telah ditetapkan'\n",
            " 'Meskipun dalam lingkungan olahraga yang dinamis, saya tetap memiliki fokus pada tujuan kemenangan. Saya merencanakan strategi, memastikan bahwa setiap pemain memiliki peran yang jelas, dan memimpin tim dengan kepemimpinan yang terorganisir. Pendekatan saya yang terstruktur membantu tim mencapai hasil terbaik dalam setiap pertandingan.'\n",
            " 'Saya tetap terorganisir meskipun suasana pesta yang kacau. Saya menetapkan peraturan permainan dengan jelas, memastikan setiap bagian BBQ matang dengan sempurna, dan mengatur jadwal untuk acara lainnya. Sikap saya yang terencana memberikan struktur yang diperlukan tanpa menghilangkan kegembiraan spontan pesta BBQ yang menyenangkan.'\n",
            " 'Walaupun proyek penuh dengan dinamika, saya selalu memiliki peta jalan yang jelas. Saya menetapkan tujuan yang terukur, memecahnya menjadi tugas-tugas yang terkelola, dan memastikan bahwa semua anggota tim berada pada jalur yang sama. Pendekatan saya yang terstruktur dan terorganisir membantu tim menghadapi setiap tahap proyek dengan percaya diri.'\n",
            " 'Lebih suka menjalani hidup tanpa rencana yang ketat, lebih suka mengikuti aliran daripada membuat keputusan yang terlalu cepat.'\n",
            " 'Intinya, hidup itu buat dinikmati, dan gue coba ambil positifnya dari setiap momen.'\n",
            " 'Sifatnya yang fleksibel, mau nyoba hal baru tanpa perlu rencana panjang. Kadang suka santai dan cuek, tapi saat fokus, bisa tenang mikirin detailnya. Mungkin sering dibilang nggak konsisten, tapi sebenarnya hanya mencari kebebasan untuk menjalani hidup tanpa harus kekang aturan yang kaku.'\n",
            " 'Dalam menjalani kehidupan, aku memiliki kecenderungan untuk mengadopsi sikap fleksibel dan terbuka terhadap perubahan. Aku menghargai dinamika kehidupan yang tidak terikat oleh rencana yang terlalu kaku, sehingga lebih suka mengikuti arus kehidupan dan menyesuaikan diri dengan perubahan situasi.'\n",
            " 'Saya menemukan kegembiraan dalam fleksibilitas dan responsivitas terhadap perubahan kondisi pasar. Suka menyesuaikan taktik penjualan berdasarkan perubahan kebutuhan pelanggan dan dinamika ekonomi.'\n",
            " 'Cepat tergoda sama suasana yang nyaman, apalagi kalau ada makanan enak. Kalau rencananya terlalu kaku, lebih suka spontan aja, lebih asyik gitu.'\n",
            " 'Fleksibilitas adalah kunci, saya suka menghadapi tantangan tanpa perlu merencanakannya terlalu rinci. Lebih suka bergerak mengikuti aliran daripada memaksakan aturan yang ketat.'\n",
            " 'Gue fleksibel, suka ngikutin alur aja, gak terlalu mikirin planning yang ribet. Pokoknya, hidup gue tuh seru aja, penuh petualangan, dan selalu cari kebahagiaan di sekitar!'\n",
            " 'Kehidupan saya terstruktur dan terorganisir, karena saya suka memiliki rencana dan mengikuti jadwal yang telah ditetapkan.'\n",
            " 'Fleksibel dalam menghadapi perubahan, terbuka terhadap berbagai kemungkinan dan sering mengambil keputusan spontan'\n",
            " 'Saya menetapkan target pencapaian yang realistis, membuat jadwal studi yang efisien, dan selalu berusaha untuk memberikan yang terbaik. Pendekatannya yang terstruktur membuktikan bahwa sambil menjaga semangat sosial. Saya juga bersemangat untuk menggapai prestasi dan masa depan.'\n",
            " 'Saya memiliki ketidakcenderungan untuk tidak merencanakan dan tidak mengorganisir kehidupan saya, dan saya menemukan kepuasan dalam menyelesaikan tugas sesuai jadwal yang telah direncanakan'\n",
            " 'Menyusun rencana kegiatan atau proyek bersama menjadi kesenangan tersendiri bagi saya, melihat bagaimana segala hal berkembang dan membaik dari waktu ke waktu'\n",
            " 'Meskipun terkadang impulsif, tapi selalu punya target yang jelas. Gak suka waktu terbuang percuma, harus efisien. Jadi, kalo ada masalah, langsung cari solusinya, nggak usah dipikirin lama-lama'\n",
            " 'Tapi, ya udahlah, hidup ini gak perlu direncanain banget, lebih enak aja, biar bisa nikmatin aja tanpa mikirin terlalu jauh. Gue suka fleksibel, pokoknya ngikutin alur aja, daripada kebentur sama rencana yang kemungkinan besar gak bakal jadi juga.'\n",
            " 'Fleksibilitas dan keberanian mencoba hal baru adalah kunci dalam hidup gue'\n",
            " 'Aku ini tipe orang yang suka banget cari cara baru buat melihat sudut pandang dunia. Selalu penasaran dan belum puas dengan kata motivasi. aku lebih suka mikirin solusi yang tidak kompleks ketimbang terjebak dalam analisis berkepanjangan.'\n",
            " 'Aku ini tipe orang yang doyan banget cari cara baru buat ngeliat dunia. Selalu penasaran dan jarang puas dengan status quo. aku lebih suka mikirin solusi praktis ketimbang terjebak dalam analisis berkepanjangan.'\n",
            " 'Aku cenderung tidak terlalu terpaku pada rencana yang sudah dibuat dan lebih suka menghadapi situasi dengan kepala dingin, mencari cara terbaik untuk mengatasi perubahan yang muncul. Adopsi sikap perceiving membantu aku menjalani hidup dengan lebih santai, mengejar ketertarikan baru, dan menghadapi setiap momen dengan rasa keterbukaan terhadap kemungkinan-kemungkinan yang belum terungkap.'\n",
            " 'Sambil benerin, sambil mikirin gimana cara biar lebih efisien pas mesinnya jalan lagi, kan sayang kalau cuma selesaiin masalah kecil aja'\n",
            " 'Walau terlibat dalam gejolak ide-ide kreatif, gya tetap berpegang pada rencana kerja yang terstruktur. Gua memastikan bahwa setiap langkah dijalankan sesuai jadwal dan tujuan yang telah ditetapkan. Dalam atmosfer kolaboratif yang kreatif, sikap penilaiannya yang terorganisir memberikan arah yang jelas dan hasil yang optimal.'\n",
            " 'Saya senang menjelajahi dunia konsep dan ide-ide baru yang dapat memperkaya pengalaman hidup saya'\n",
            " 'Sangat suka untuk menjalani sesuatu tanpa rencana yang terlalu ketat.'\n",
            " 'Saya suka membuat rencana dan mengikuti jadwal yang telah ditetapkan.'\n",
            " 'Meskipun dalam dunia medis yang dinamis, aku tetap memiliki pandangan yang terfokus. Aku merencanakan perawatan dengan hati-hati, memastikan bahwa setiap langkah memiliki tujuan yang jelas. Pendekatan aku yang terorganisir membantu dalam mengelola waktu dan sumber daya untuk memberikan perawatan terbaik kepada setiap pasien.'\n",
            " 'Tapi ya, gue gak suka dipaksa ngelakuin sesuatu dengan aturan yang kaku, lebih enak kalo fleksibel dan bisa ngikutin alur yang kebetulan lagi gue pengen. Jadi, ya, gitu deh'\n",
            " 'Aku menikmati saat-saat ketika bisa bergerak bebas, mengekspresikan diri dan mengeksplorasi hal-hal baru dalam hidupku'\n",
            " 'Fleksibilitas dalam menghadapi perubahan adalah hal yang saya nikmati, dan terkadang saya lebih suka meninggalkan pilihan terbuka daripada membuat keputusan yang tegas.'\n",
            " 'Saya menemukan kepuasan dalam perencanaan yang terstruktur dan menjalankan rutinitas penegakan hukum dengan disiplin. Suka memiliki protokol yang jelas dan standar yang ketat untuk memastikan keamanan dan ketertiban masyarakat.'\n",
            " 'Saya tidak mengatur program kerja dengan tidak cermat, sehingga dapat diselesaikan dengan tuntas Sebagai pemimpin kelompok, penilaiannya terhadap sesuautu dapat membuat hasil dengan peforma yang sangat bagus.'\n",
            " 'Dalam menjalankan tugas sebagai pembantu, gue memiliki kecenderungan untuk membuat jadwal dan merencanakan dengan teliti untuk memastikan semua pekerjaan selesai dengan baik.'\n",
            " 'Saya tengah menggarap proyek besar dengan fokus pada tujuan akhir yang jelas'\n",
            " 'Gue juga orang yang gak bisa kalau gak fleksibel, nggak terlalu rigid sama rencana, suka menyesuaikan diri sama situasi. Pokoknya, gue gak suka menikmati hidup dengan gak santai dan penuh pengalaman kecil yang bikin bahagia.'\n",
            " 'Kalau ada acara, aku tidak senang jika tidak merencanakannya hingga detil terkecil, agar semuanya berjalan sesuai rencana.'\n",
            " 'Waktu saya bekerja, sering kali saya lebih suka fleksibel dan mengikuti alur daripada terpaku pada jadwal yang ketat. Jadi, saya ini tipe orang yang bisa asal masih ada waktu dan fleksibel, pasti bisa menyelesaikan apa yang harus dikerjakan'\n",
            " 'Saya suka mengambil keputusan dengan cara yang fleksibel, tanpa terlalu terpaku pada rencana yang kaku, lebih suka mengikuti alur kehidupan yang dinamis dan terbuka untuk berbagai kemungkinan.'\n",
            " 'Kedisiplinan dan ketertiban adalah kunci dalam hidup saya, sehingga saya selalu berusaha menjalani kehidupan yang terstruktur dan terorganisir.'\n",
            " 'Saya menemukan kepuasan dalam fleksibilitas dan kemampuan untuk beradaptasi dengan perubahan tren atau preferensi audiens. Suka menyesuaikan konten dan pendekatan sesuai dengan respons dan umpan balik yang dinamis.'\n",
            " 'Meskipun tidak terlalu terbuka secara emosional, saya selalu siap membantu dan memberi dukungan kepada orang-orang terdekat saya'\n",
            " 'Suka banget mencari kesenangan dan selalu semangat menghadapi tantangan baru. Gak suka aturan yang terlalu ketat, lebih suka menjalani hidup dengan caranya sendiri. Cenderung impulsif dalam mengambil keputusan, tapi percaya bahwa hidup itu lebih seru kalau kita bisa spontan dan mencoba hal-hal baru.'\n",
            " 'Buatku, penting banget kejujuran dan konsistensi dalam semua yang aku lakuin, bikin puas liat hasil dari kerja keras dan perhatian ku.'\n",
            " 'Walau tenggelam dalam kesenangan taman, saya tetap memastikan segalanya berjalan sesuai rencana. Saya mengatur jadwal acara dengan ketat, memimpin permainan dengan efisiensi, dan memastikan bahwa setiap orang terlibat. Pendekatannya yang terorganisir membantu menciptakan pengalaman taman yang menyenangkan dan terkoordinasi.'\n",
            " 'Merencanakan kegiatan atau proyek menjadi salah satu kegiatan yang saya nikmati, karena saya suka melihat bagaimana rencana tersebut bisa berkembang dan menghasilkan sesuatu yang bermanfaat'\n",
            " 'Sering juga suka mikirin masa depan, jadi gua suka sih ngeliat target jangka panjang dan caranya buat nyampein ke sana'\n",
            " 'Terkadang lebih enjoy kalo bisa ngikutin alur tanpa rencana yang ketat.'\n",
            " 'Saya menemukan kepuasan dalam perencanaan dan menjalankan misi penerbangan dengan disiplin, itu bukan berarti saya kurang fleksibel atau terbuka terhadap perubahan. Suka memiliki rencana dan protokol yang jelas untuk memastikan keberhasilan dan keselamatan penerbangan.']\n"
          ]
        }
      ]
    },
    {
      "cell_type": "code",
      "source": [
        "encoder_url = 'https://www.kaggle.com/models/tensorflow/bert/frameworks/TensorFlow2/variations/multi-cased-l-12-h-768-a-12/versions/4'\n",
        "preprocess_url = \"https://www.kaggle.com/models/tensorflow/bert/frameworks/TensorFlow2/variations/multi-cased-preprocess/versions/3\"\n",
        "embedding_model1 = hub.KerasLayer(encoder_url, trainable=True)\n",
        "# embedding_model2 = hub.KerasLayer(encoder_url, trainable=True)\n",
        "# embedding_model3 = hub.KerasLayer(encoder_url, trainable=True)\n",
        "# embedding_model4 = hub.KerasLayer(encoder_url, trainable=True)\n",
        "preprocess_model1 = hub.KerasLayer(preprocess_url)\n",
        "# preprocess_model2 = hub.KerasLayer(preprocess_url)\n",
        "# preprocess_model3 = hub.KerasLayer(preprocess_url)\n",
        "# preprocess_model4 = hub.KerasLayer(preprocess_url)"
      ],
      "metadata": {
        "id": "myuT0XKfqIT1",
        "execution": {
          "iopub.status.busy": "2023-12-02T00:44:27.765072Z",
          "iopub.execute_input": "2023-12-02T00:44:27.765535Z",
          "iopub.status.idle": "2023-12-02T00:44:44.589972Z",
          "shell.execute_reply.started": "2023-12-02T00:44:27.765502Z",
          "shell.execute_reply": "2023-12-02T00:44:44.588987Z"
        },
        "trusted": true
      },
      "execution_count": 12,
      "outputs": []
    },
    {
      "cell_type": "code",
      "source": [
        "def build_classifier_model():\n",
        "    text_input1 = tf.keras.layers.Input(shape=(), dtype=tf.string, name='text1')\n",
        "#     text_input2 = tf.keras.layers.Input(shape=(), dtype=tf.string, name='text2')\n",
        "#     text_input3 = tf.keras.layers.Input(shape=(), dtype=tf.string, name='text3')\n",
        "#     text_input4 = tf.keras.layers.Input(shape=(), dtype=tf.string, name='text4')\n",
        "\n",
        "    # Gunakan lapisan pre-processing terpisah untuk setiap input\n",
        "    preprocessing_layer1 = hub.KerasLayer(preprocess_model1, name='preprocessing1')\n",
        "#     preprocessing_layer2 = hub.KerasLayer(preprocess_model1, name='preprocessing2')\n",
        "#     preprocessing_layer3 = hub.KerasLayer(preprocess_model1, name='preprocessing3')\n",
        "#     preprocessing_layer4 = hub.KerasLayer(preprocess_model1, name='preprocessing4')\n",
        "\n",
        "    encoder_inputs1 = preprocessing_layer1(text_input1)\n",
        "#     encoder_inputs2 = preprocessing_layer2(text_input2)\n",
        "#     encoder_inputs3 = preprocessing_layer3(text_input3)\n",
        "#     encoder_inputs4 = preprocessing_layer4(text_input4)\n",
        "\n",
        "    encoder1 = hub.KerasLayer(embedding_model1, name='BERT_encoder_1', trainable=True)\n",
        "#     encoder2 = hub.KerasLayer(embedding_model1, name='BERT_encoder_2', trainable=True)\n",
        "#     encoder3 = hub.KerasLayer(embedding_model1, name='BERT_encoder_3', trainable=True)\n",
        "#     encoder4 = hub.KerasLayer(embedding_model1, name='BERT_encoder_4', trainable=True)\n",
        "\n",
        "    outputs1 = encoder1(encoder_inputs1)['pooled_output']\n",
        "#     outputs2 = encoder2(encoder_inputs2)['pooled_output']\n",
        "#     outputs3 = encoder3(encoder_inputs3)['pooled_output']\n",
        "#     outputs4 = encoder4(encoder_inputs4)['pooled_output']\n",
        "\n",
        "    # Add a Flatten layer to handle varying input lengths\n",
        "#     outputs1 = tf.keras.layers.Flatten()(outputs1)\n",
        "#     outputs2 = tf.keras.layers.Flatten()(outputs2)\n",
        "#     outputs3 = tf.keras.layers.Flatten()(outputs3)\n",
        "#     outputs4 = tf.keras.layers.Flatten()(outputs4)\n",
        "    outputs1 = tf.keras.layers.Dropout(0.5 , name=\"dropout\")(outputs1)\n",
        "\n",
        "    label1 = tf.keras.layers.Dense(1, activation='sigmoid', name='classifier1')(outputs1)\n",
        "#     label2 = tf.keras.layers.Dense(1, activation='sigmoid', name='classifier2')(outputs2)\n",
        "#     label3 = tf.keras.layers.Dense(1, activation='sigmoid', name='classifier3')(outputs3)\n",
        "#     label4 = tf.keras.layers.Dense(1, activation='sigmoid', name='classifier4')(outputs4)\n",
        "\n",
        "#     concatenated_outputs = tf.keras.layers.concatenate([label1, label2, label3, label4], name='output')\n",
        "\n",
        "    return tf.keras.Model(inputs=[text_input1], outputs=[label1])\n"
      ],
      "metadata": {
        "id": "nVp2ZiKWJApS",
        "execution": {
          "iopub.status.busy": "2023-12-02T00:44:44.591634Z",
          "iopub.execute_input": "2023-12-02T00:44:44.591913Z",
          "iopub.status.idle": "2023-12-02T00:44:44.599292Z",
          "shell.execute_reply.started": "2023-12-02T00:44:44.591890Z",
          "shell.execute_reply": "2023-12-02T00:44:44.598512Z"
        },
        "trusted": true
      },
      "execution_count": 13,
      "outputs": []
    },
    {
      "cell_type": "code",
      "source": [
        "model = build_classifier_model()\n",
        "model.summary()"
      ],
      "metadata": {
        "id": "kAUGnHx7NfbL",
        "outputId": "1c1d7231-68c7-413d-cb1f-19d57143949b",
        "execution": {
          "iopub.status.busy": "2023-12-02T00:44:44.600097Z",
          "iopub.execute_input": "2023-12-02T00:44:44.600341Z",
          "iopub.status.idle": "2023-12-02T00:44:45.384036Z",
          "shell.execute_reply.started": "2023-12-02T00:44:44.600321Z",
          "shell.execute_reply": "2023-12-02T00:44:45.383240Z"
        },
        "trusted": true,
        "colab": {
          "base_uri": "https://localhost:8080/"
        }
      },
      "execution_count": 14,
      "outputs": [
        {
          "output_type": "stream",
          "name": "stdout",
          "text": [
            "Model: \"model\"\n",
            "__________________________________________________________________________________________________\n",
            " Layer (type)                Output Shape                 Param #   Connected to                  \n",
            "==================================================================================================\n",
            " text1 (InputLayer)          [(None,)]                    0         []                            \n",
            "                                                                                                  \n",
            " preprocessing1 (KerasLayer  {'input_word_ids': (None,    0         ['text1[0][0]']               \n",
            " )                           128),                                                                \n",
            "                              'input_mask': (None, 128)                                           \n",
            "                             , 'input_type_ids': (None,                                           \n",
            "                              128)}                                                               \n",
            "                                                                                                  \n",
            " BERT_encoder_1 (KerasLayer  {'pooled_output': (None, 7   1778534   ['preprocessing1[0][0]',      \n",
            " )                           68),                         41         'preprocessing1[0][1]',      \n",
            "                              'sequence_output': (None,              'preprocessing1[0][2]']      \n",
            "                              128, 768),                                                          \n",
            "                              'encoder_outputs': [(None                                           \n",
            "                             , 128, 768),                                                         \n",
            "                              (None, 128, 768),                                                   \n",
            "                              (None, 128, 768),                                                   \n",
            "                              (None, 128, 768),                                                   \n",
            "                              (None, 128, 768),                                                   \n",
            "                              (None, 128, 768),                                                   \n",
            "                              (None, 128, 768),                                                   \n",
            "                              (None, 128, 768),                                                   \n",
            "                              (None, 128, 768),                                                   \n",
            "                              (None, 128, 768),                                                   \n",
            "                              (None, 128, 768),                                                   \n",
            "                              (None, 128, 768)],                                                  \n",
            "                              'default': (None, 768)}                                             \n",
            "                                                                                                  \n",
            " dropout (Dropout)           (None, 768)                  0         ['BERT_encoder_1[0][13]']     \n",
            "                                                                                                  \n",
            " classifier1 (Dense)         (None, 1)                    769       ['dropout[0][0]']             \n",
            "                                                                                                  \n",
            "==================================================================================================\n",
            "Total params: 177854210 (678.46 MB)\n",
            "Trainable params: 177854209 (678.46 MB)\n",
            "Non-trainable params: 1 (1.00 Byte)\n",
            "__________________________________________________________________________________________________\n"
          ]
        }
      ]
    },
    {
      "cell_type": "code",
      "source": [
        "tf.keras.utils.plot_model(model)"
      ],
      "metadata": {
        "id": "hFnSiPVIQ2yS",
        "outputId": "cf585a3f-1ade-48d0-fb97-7dd89237727f",
        "execution": {
          "iopub.status.busy": "2023-12-02T00:45:05.030441Z",
          "iopub.execute_input": "2023-12-02T00:45:05.031543Z",
          "iopub.status.idle": "2023-12-02T00:45:05.283842Z",
          "shell.execute_reply.started": "2023-12-02T00:45:05.031475Z",
          "shell.execute_reply": "2023-12-02T00:45:05.282611Z"
        },
        "trusted": true,
        "colab": {
          "base_uri": "https://localhost:8080/",
          "height": 466
        }
      },
      "execution_count": 15,
      "outputs": [
        {
          "output_type": "execute_result",
          "data": {
            "image/png": "[encoded data removed]",
            "text/plain": [
              "<IPython.core.display.Image object>"
            ]
          },
          "metadata": {},
          "execution_count": 15
        }
      ]
    },
    {
      "cell_type": "code",
      "source": [
        "epochs = 5\n",
        "steps_per_epoch = 16\n",
        "batch_size = 2\n",
        "optimizer = tf.keras.optimizers.Adam(learning_rate=0.000001)"
      ],
      "metadata": {
        "id": "_6mdEf0wR51q",
        "execution": {
          "iopub.status.busy": "2023-12-02T00:44:57.674695Z",
          "iopub.execute_input": "2023-12-02T00:44:57.675170Z",
          "iopub.status.idle": "2023-12-02T00:44:57.684950Z",
          "shell.execute_reply.started": "2023-12-02T00:44:57.675135Z",
          "shell.execute_reply": "2023-12-02T00:44:57.684239Z"
        },
        "trusted": true
      },
      "execution_count": 16,
      "outputs": []
    },
    {
      "cell_type": "code",
      "source": [
        "!pip install -q tf-models-official"
      ],
      "metadata": {
        "execution": {
          "iopub.status.busy": "2023-12-02T00:45:09.194683Z",
          "iopub.execute_input": "2023-12-02T00:45:09.195123Z",
          "iopub.status.idle": "2023-12-02T00:45:20.087986Z",
          "shell.execute_reply.started": "2023-12-02T00:45:09.195093Z",
          "shell.execute_reply": "2023-12-02T00:45:20.086695Z"
        },
        "trusted": true,
        "id": "85CavfzyOdqt"
      },
      "execution_count": 17,
      "outputs": []
    },
    {
      "cell_type": "code",
      "source": [
        "# model.compile(optimizer=optimizer,\n",
        "#                          loss=loss,\n",
        "#                          metrics=metrics)\n",
        "# model.load_weights(\"/content/drive/MyDrive/model_checkpoint_best.h5\")\n",
        "model.compile(optimizer=tf.keras.optimizers.Adam(learning_rate=0.000001),\n",
        "              loss=tf.keras.losses.BinaryCrossentropy(),  # Fungsi kerugian untuk klasifikasi biner\n",
        "              metrics=['accuracy'])"
      ],
      "metadata": {
        "id": "UjIESrHJSGVh",
        "execution": {
          "iopub.status.busy": "2023-12-02T00:45:20.090000Z",
          "iopub.execute_input": "2023-12-02T00:45:20.090330Z",
          "iopub.status.idle": "2023-12-02T00:45:20.109722Z",
          "shell.execute_reply.started": "2023-12-02T00:45:20.090301Z",
          "shell.execute_reply": "2023-12-02T00:45:20.108696Z"
        },
        "trusted": true
      },
      "execution_count": 18,
      "outputs": []
    },
    {
      "cell_type": "code",
      "source": [
        "from tensorflow.keras.callbacks import ModelCheckpoint\n",
        "\n",
        "# Path untuk menyimpan checkpoint pada setiap epoch\n",
        "checkpoint_path_epoch = \"/content/drive/MyDrive/model_checkpoint_epoch.h5\"\n",
        "\n",
        "# Path untuk menyimpan checkpoint model terbaik\n",
        "checkpoint_path_best = \"/content/drive/MyDrive/model_checkpoint_best.h5\"\n",
        "\n",
        "# Callback untuk menyimpan checkpoint pada setiap epoch\n",
        "checkpoint_callback_epoch = ModelCheckpoint(\n",
        "    filepath=checkpoint_path_epoch,\n",
        "    save_weights_only=True,\n",
        "    save_best_only=False,  # Set ke False agar menyimpan pada setiap epoch\n",
        "    verbose=1\n",
        ")\n",
        "\n",
        "# Callback untuk menyimpan checkpoint model terbaik\n",
        "checkpoint_callback_best = ModelCheckpoint(\n",
        "    filepath=checkpoint_path_best,\n",
        "    save_weights_only=True,\n",
        "    save_best_only=True,  # Set ke True agar hanya menyimpan model terbaik\n",
        "    monitor='val_loss',\n",
        "    mode='min',\n",
        "    verbose=1\n",
        ")"
      ],
      "metadata": {
        "id": "JXgAHcGsBAF1",
        "execution": {
          "iopub.status.busy": "2023-12-02T00:45:25.865472Z",
          "iopub.execute_input": "2023-12-02T00:45:25.865944Z",
          "iopub.status.idle": "2023-12-02T00:45:25.872914Z",
          "shell.execute_reply.started": "2023-12-02T00:45:25.865911Z",
          "shell.execute_reply": "2023-12-02T00:45:25.871979Z"
        },
        "trusted": true
      },
      "execution_count": 19,
      "outputs": []
    },
    {
      "cell_type": "code",
      "source": [
        "# untuk lanjut\n",
        "model.fit(\n",
        "    x=x_train, y=label_train,\n",
        "    epochs=20,\n",
        "    validation_data=(x_valid, label_valid),batch_size=batch_size,\n",
        ")"
      ],
      "metadata": {
        "id": "czR2DhK1nuDl",
        "outputId": "69d174c8-3bec-43b2-e284-8fff42873774",
        "execution": {
          "iopub.status.busy": "2023-12-02T00:45:54.785280Z",
          "iopub.execute_input": "2023-12-02T00:45:54.785758Z"
        },
        "trusted": true,
        "colab": {
          "base_uri": "https://localhost:8080/"
        }
      },
      "execution_count": 20,
      "outputs": [
        {
          "output_type": "stream",
          "name": "stdout",
          "text": [
            "Epoch 1/20\n",
            "128/128 [==============================] - 70s 200ms/step - loss: 0.7120 - accuracy: 0.4844 - val_loss: 0.6697 - val_accuracy: 0.5625\n",
            "Epoch 2/20\n",
            "128/128 [==============================] - 17s 131ms/step - loss: 0.6790 - accuracy: 0.5547 - val_loss: 0.6295 - val_accuracy: 0.7656\n",
            "Epoch 3/20\n",
            "128/128 [==============================] - 14s 107ms/step - loss: 0.5829 - accuracy: 0.7500 - val_loss: 0.5331 - val_accuracy: 0.7812\n",
            "Epoch 4/20\n",
            "128/128 [==============================] - 14s 108ms/step - loss: 0.4612 - accuracy: 0.8164 - val_loss: 0.3860 - val_accuracy: 0.8594\n",
            "Epoch 5/20\n",
            "128/128 [==============================] - 14s 106ms/step - loss: 0.3255 - accuracy: 0.9023 - val_loss: 0.2823 - val_accuracy: 0.8750\n",
            "Epoch 6/20\n",
            "128/128 [==============================] - 14s 109ms/step - loss: 0.2216 - accuracy: 0.9492 - val_loss: 0.2306 - val_accuracy: 0.9219\n",
            "Epoch 7/20\n",
            "128/128 [==============================] - 14s 113ms/step - loss: 0.1369 - accuracy: 0.9570 - val_loss: 0.1990 - val_accuracy: 0.9219\n",
            "Epoch 8/20\n",
            "128/128 [==============================] - 14s 108ms/step - loss: 0.0791 - accuracy: 0.9883 - val_loss: 0.1887 - val_accuracy: 0.9219\n",
            "Epoch 9/20\n",
            "128/128 [==============================] - 13s 103ms/step - loss: 0.0674 - accuracy: 0.9844 - val_loss: 0.1826 - val_accuracy: 0.9219\n",
            "Epoch 10/20\n",
            "128/128 [==============================] - 14s 108ms/step - loss: 0.0522 - accuracy: 0.9961 - val_loss: 0.1711 - val_accuracy: 0.9531\n",
            "Epoch 11/20\n",
            "128/128 [==============================] - 13s 104ms/step - loss: 0.0508 - accuracy: 0.9883 - val_loss: 0.1777 - val_accuracy: 0.9375\n",
            "Epoch 12/20\n",
            "128/128 [==============================] - 14s 109ms/step - loss: 0.0353 - accuracy: 0.9961 - val_loss: 0.1929 - val_accuracy: 0.9375\n",
            "Epoch 13/20\n",
            "128/128 [==============================] - 13s 102ms/step - loss: 0.0345 - accuracy: 0.9961 - val_loss: 0.1953 - val_accuracy: 0.9375\n",
            "Epoch 14/20\n",
            "128/128 [==============================] - 13s 104ms/step - loss: 0.0280 - accuracy: 0.9961 - val_loss: 0.1998 - val_accuracy: 0.9375\n",
            "Epoch 15/20\n",
            "128/128 [==============================] - 13s 105ms/step - loss: 0.0278 - accuracy: 0.9961 - val_loss: 0.1840 - val_accuracy: 0.9375\n",
            "Epoch 16/20\n",
            "128/128 [==============================] - 14s 108ms/step - loss: 0.0192 - accuracy: 0.9961 - val_loss: 0.1870 - val_accuracy: 0.9375\n",
            "Epoch 17/20\n",
            "128/128 [==============================] - 13s 103ms/step - loss: 0.0223 - accuracy: 0.9961 - val_loss: 0.1815 - val_accuracy: 0.9375\n",
            "Epoch 18/20\n",
            "128/128 [==============================] - 13s 103ms/step - loss: 0.0155 - accuracy: 0.9961 - val_loss: 0.1749 - val_accuracy: 0.9375\n",
            "Epoch 19/20\n",
            "128/128 [==============================] - 13s 103ms/step - loss: 0.0170 - accuracy: 0.9961 - val_loss: 0.1438 - val_accuracy: 0.9375\n",
            "Epoch 20/20\n",
            "128/128 [==============================] - 13s 103ms/step - loss: 0.0097 - accuracy: 0.9961 - val_loss: 0.1621 - val_accuracy: 0.9531\n"
          ]
        },
        {
          "output_type": "execute_result",
          "data": {
            "text/plain": [
              "<keras.src.callbacks.History at 0x7930eb3d6500>"
            ]
          },
          "metadata": {},
          "execution_count": 20
        }
      ]
    },
    {
      "cell_type": "code",
      "source": [
        "model.predict([\"saya suka berpikir kreatif dan liar\"])"
      ],
      "metadata": {
        "execution": {
          "iopub.status.busy": "2023-11-28T15:32:22.441094Z",
          "iopub.execute_input": "2023-11-28T15:32:22.441860Z",
          "iopub.status.idle": "2023-11-28T15:32:23.306655Z",
          "shell.execute_reply.started": "2023-11-28T15:32:22.441828Z",
          "shell.execute_reply": "2023-11-28T15:32:23.305609Z"
        },
        "trusted": true,
        "id": "FFA7g3QfOdqu"
      },
      "execution_count": null,
      "outputs": []
    },
    {
      "cell_type": "code",
      "source": [
        "# Mendapatkan daftar perangkat yang tersedia (CPU dan GPU)\n",
        "devices = tf.config.list_physical_devices()\n",
        "\n",
        "if len(devices) == 0:\n",
        "    print(\"Tidak ada perangkat fisik yang ditemukan.\")\n",
        "else:\n",
        "    print(\"Perangkat yang tersedia:\")\n",
        "    for device in devices:\n",
        "        print(f\"- {device.name} ({device.device_type})\")"
      ],
      "metadata": {
        "trusted": true,
        "id": "LcF0N9LXOdqv",
        "colab": {
          "base_uri": "https://localhost:8080/"
        },
        "outputId": "24d6de12-641a-454d-a757-3cac3e38f8fc"
      },
      "execution_count": 21,
      "outputs": [
        {
          "output_type": "stream",
          "name": "stdout",
          "text": [
            "Perangkat yang tersedia:\n",
            "- /physical_device:CPU:0 (CPU)\n",
            "- /physical_device:GPU:0 (GPU)\n"
          ]
        }
      ]
    },
    {
      "cell_type": "code",
      "source": [
        "print(model.predict([\"Cenderung fleksibel dan terbuka terhadap perubahan yang terjadi di sekitarnya.\"])) #Perceiving"
      ],
      "metadata": {
        "id": "qtk4dkOptsxD",
        "colab": {
          "base_uri": "https://localhost:8080/"
        },
        "outputId": "f2fbb9e6-7304-4094-96db-7f9254e4536e"
      },
      "execution_count": 22,
      "outputs": [
        {
          "output_type": "stream",
          "name": "stdout",
          "text": [
            "1/1 [==============================] - 1s 751ms/step\n",
            "[[0.99106467]]\n"
          ]
        }
      ]
    },
    {
      "cell_type": "code",
      "source": [
        "print(model.predict([\"cenderung terorganisir dan suka membuat keputusan yang terstruktur dalam kehidupan mereka.\"])) #Judging"
      ],
      "metadata": {
        "colab": {
          "base_uri": "https://localhost:8080/"
        },
        "id": "3nsQoljqcI7Z",
        "outputId": "0777c08a-cdbf-4ef4-8c44-29279e25dab7"
      },
      "execution_count": 23,
      "outputs": [
        {
          "output_type": "stream",
          "name": "stdout",
          "text": [
            "1/1 [==============================] - 0s 166ms/step\n",
            "[[0.00164611]]\n"
          ]
        }
      ]
    }
  ]
}