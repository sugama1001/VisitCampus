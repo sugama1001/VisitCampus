{
  "metadata": {
    "accelerator": "GPU",
    "colab": {
      "provenance": [],
      "gpuType": "T4"
    },
    "kernelspec": {
      "name": "python3",
      "display_name": "Python 3",
      "language": "python"
    },
    "language_info": {
      "name": "python",
      "version": "3.10.12",
      "mimetype": "text/x-python",
      "codemirror_mode": {
        "name": "ipython",
        "version": 3
      },
      "pygments_lexer": "ipython3",
      "nbconvert_exporter": "python",
      "file_extension": ".py"
    },
    "kaggle": {
      "accelerator": "none",
      "dataSources": [
        {
          "sourceId": 7101861,
          "sourceType": "datasetVersion",
          "datasetId": 4093957
        },
        {
          "sourceId": 2568,
          "sourceType": "modelInstanceVersion",
          "modelInstanceId": 1879
        },
        {
          "sourceId": 2588,
          "sourceType": "modelInstanceVersion",
          "modelInstanceId": 1884
        },
        {
          "sourceId": 3123,
          "sourceType": "modelInstanceVersion",
          "modelInstanceId": 2334
        }
      ],
      "dockerImageVersionId": 30588,
      "isInternetEnabled": true,
      "language": "python",
      "sourceType": "notebook",
      "isGpuEnabled": false
    }
  },
  "nbformat_minor": 0,
  "nbformat": 4,
  "cells": [
    {
      "cell_type": "code",
      "source": [
        "!pip install tensorflow\n",
        "!pip install tensorflow_hub\n",
        "!pip install -q -U \"tensorflow-text==2.13.*\"\n",
        "!pip install \"tf-models-official==2.13.*\""
      ],
      "metadata": {
        "id": "zZNQCvgpnIg_",
        "outputId": "1303df95-0733-451c-83c5-bdded403c5d9",
        "execution": {
          "iopub.status.busy": "2023-12-02T00:39:47.894922Z",
          "iopub.execute_input": "2023-12-02T00:39:47.895402Z",
          "iopub.status.idle": "2023-12-02T00:40:36.059880Z",
          "shell.execute_reply.started": "2023-12-02T00:39:47.895368Z",
          "shell.execute_reply": "2023-12-02T00:40:36.058445Z"
        },
        "trusted": true,
        "colab": {
          "base_uri": "https://localhost:8080/"
        }
      },
      "execution_count": 1,
      "outputs": [
        {
          "output_type": "stream",
          "name": "stdout",
          "text": [
            "Requirement already satisfied: tensorflow in /usr/local/lib/python3.10/dist-packages (2.14.0)\n",
            "Requirement already satisfied: absl-py>=1.0.0 in /usr/local/lib/python3.10/dist-packages (from tensorflow) (1.4.0)\n",
            "Requirement already satisfied: astunparse>=1.6.0 in /usr/local/lib/python3.10/dist-packages (from tensorflow) (1.6.3)\n",
            "Requirement already satisfied: flatbuffers>=23.5.26 in /usr/local/lib/python3.10/dist-packages (from tensorflow) (23.5.26)\n",
            "Requirement already satisfied: gast!=0.5.0,!=0.5.1,!=0.5.2,>=0.2.1 in /usr/local/lib/python3.10/dist-packages (from tensorflow) (0.5.4)\n",
            "Requirement already satisfied: google-pasta>=0.1.1 in /usr/local/lib/python3.10/dist-packages (from tensorflow) (0.2.0)\n",
            "Requirement already satisfied: h5py>=2.9.0 in /usr/local/lib/python3.10/dist-packages (from tensorflow) (3.9.0)\n",
            "Requirement already satisfied: libclang>=13.0.0 in /usr/local/lib/python3.10/dist-packages (from tensorflow) (16.0.6)\n",
            "Requirement already satisfied: ml-dtypes==0.2.0 in /usr/local/lib/python3.10/dist-packages (from tensorflow) (0.2.0)\n",
            "Requirement already satisfied: numpy>=1.23.5 in /usr/local/lib/python3.10/dist-packages (from tensorflow) (1.23.5)\n",
            "Requirement already satisfied: opt-einsum>=2.3.2 in /usr/local/lib/python3.10/dist-packages (from tensorflow) (3.3.0)\n",
            "Requirement already satisfied: packaging in /usr/local/lib/python3.10/dist-packages (from tensorflow) (23.2)\n",
            "Requirement already satisfied: protobuf!=4.21.0,!=4.21.1,!=4.21.2,!=4.21.3,!=4.21.4,!=4.21.5,<5.0.0dev,>=3.20.3 in /usr/local/lib/python3.10/dist-packages (from tensorflow) (3.20.3)\n",
            "Requirement already satisfied: setuptools in /usr/local/lib/python3.10/dist-packages (from tensorflow) (67.7.2)\n",
            "Requirement already satisfied: six>=1.12.0 in /usr/local/lib/python3.10/dist-packages (from tensorflow) (1.16.0)\n",
            "Requirement already satisfied: termcolor>=1.1.0 in /usr/local/lib/python3.10/dist-packages (from tensorflow) (2.3.0)\n",
            "Requirement already satisfied: typing-extensions>=3.6.6 in /usr/local/lib/python3.10/dist-packages (from tensorflow) (4.5.0)\n",
            "Requirement already satisfied: wrapt<1.15,>=1.11.0 in /usr/local/lib/python3.10/dist-packages (from tensorflow) (1.14.1)\n",
            "Requirement already satisfied: tensorflow-io-gcs-filesystem>=0.23.1 in /usr/local/lib/python3.10/dist-packages (from tensorflow) (0.34.0)\n",
            "Requirement already satisfied: grpcio<2.0,>=1.24.3 in /usr/local/lib/python3.10/dist-packages (from tensorflow) (1.59.3)\n",
            "Requirement already satisfied: tensorboard<2.15,>=2.14 in /usr/local/lib/python3.10/dist-packages (from tensorflow) (2.14.1)\n",
            "Requirement already satisfied: tensorflow-estimator<2.15,>=2.14.0 in /usr/local/lib/python3.10/dist-packages (from tensorflow) (2.14.0)\n",
            "Requirement already satisfied: keras<2.15,>=2.14.0 in /usr/local/lib/python3.10/dist-packages (from tensorflow) (2.14.0)\n",
            "Requirement already satisfied: wheel<1.0,>=0.23.0 in /usr/local/lib/python3.10/dist-packages (from astunparse>=1.6.0->tensorflow) (0.42.0)\n",
            "Requirement already satisfied: google-auth<3,>=1.6.3 in /usr/local/lib/python3.10/dist-packages (from tensorboard<2.15,>=2.14->tensorflow) (2.17.3)\n",
            "Requirement already satisfied: google-auth-oauthlib<1.1,>=0.5 in /usr/local/lib/python3.10/dist-packages (from tensorboard<2.15,>=2.14->tensorflow) (1.0.0)\n",
            "Requirement already satisfied: markdown>=2.6.8 in /usr/local/lib/python3.10/dist-packages (from tensorboard<2.15,>=2.14->tensorflow) (3.5.1)\n",
            "Requirement already satisfied: requests<3,>=2.21.0 in /usr/local/lib/python3.10/dist-packages (from tensorboard<2.15,>=2.14->tensorflow) (2.31.0)\n",
            "Requirement already satisfied: tensorboard-data-server<0.8.0,>=0.7.0 in /usr/local/lib/python3.10/dist-packages (from tensorboard<2.15,>=2.14->tensorflow) (0.7.2)\n",
            "Requirement already satisfied: werkzeug>=1.0.1 in /usr/local/lib/python3.10/dist-packages (from tensorboard<2.15,>=2.14->tensorflow) (3.0.1)\n",
            "Requirement already satisfied: cachetools<6.0,>=2.0.0 in /usr/local/lib/python3.10/dist-packages (from google-auth<3,>=1.6.3->tensorboard<2.15,>=2.14->tensorflow) (5.3.2)\n",
            "Requirement already satisfied: pyasn1-modules>=0.2.1 in /usr/local/lib/python3.10/dist-packages (from google-auth<3,>=1.6.3->tensorboard<2.15,>=2.14->tensorflow) (0.3.0)\n",
            "Requirement already satisfied: rsa<5,>=3.1.4 in /usr/local/lib/python3.10/dist-packages (from google-auth<3,>=1.6.3->tensorboard<2.15,>=2.14->tensorflow) (4.9)\n",
            "Requirement already satisfied: requests-oauthlib>=0.7.0 in /usr/local/lib/python3.10/dist-packages (from google-auth-oauthlib<1.1,>=0.5->tensorboard<2.15,>=2.14->tensorflow) (1.3.1)\n",
            "Requirement already satisfied: charset-normalizer<4,>=2 in /usr/local/lib/python3.10/dist-packages (from requests<3,>=2.21.0->tensorboard<2.15,>=2.14->tensorflow) (3.3.2)\n",
            "Requirement already satisfied: idna<4,>=2.5 in /usr/local/lib/python3.10/dist-packages (from requests<3,>=2.21.0->tensorboard<2.15,>=2.14->tensorflow) (3.6)\n",
            "Requirement already satisfied: urllib3<3,>=1.21.1 in /usr/local/lib/python3.10/dist-packages (from requests<3,>=2.21.0->tensorboard<2.15,>=2.14->tensorflow) (2.0.7)\n",
            "Requirement already satisfied: certifi>=2017.4.17 in /usr/local/lib/python3.10/dist-packages (from requests<3,>=2.21.0->tensorboard<2.15,>=2.14->tensorflow) (2023.11.17)\n",
            "Requirement already satisfied: MarkupSafe>=2.1.1 in /usr/local/lib/python3.10/dist-packages (from werkzeug>=1.0.1->tensorboard<2.15,>=2.14->tensorflow) (2.1.3)\n",
            "Requirement already satisfied: pyasn1<0.6.0,>=0.4.6 in /usr/local/lib/python3.10/dist-packages (from pyasn1-modules>=0.2.1->google-auth<3,>=1.6.3->tensorboard<2.15,>=2.14->tensorflow) (0.5.1)\n",
            "Requirement already satisfied: oauthlib>=3.0.0 in /usr/local/lib/python3.10/dist-packages (from requests-oauthlib>=0.7.0->google-auth-oauthlib<1.1,>=0.5->tensorboard<2.15,>=2.14->tensorflow) (3.2.2)\n",
            "Requirement already satisfied: tensorflow_hub in /usr/local/lib/python3.10/dist-packages (0.15.0)\n",
            "Requirement already satisfied: numpy>=1.12.0 in /usr/local/lib/python3.10/dist-packages (from tensorflow_hub) (1.23.5)\n",
            "Requirement already satisfied: protobuf>=3.19.6 in /usr/local/lib/python3.10/dist-packages (from tensorflow_hub) (3.20.3)\n",
            "\u001b[2K     \u001b[90m━━━━━━━━━━━━━━━━━━━━━━━━━━━━━━━━━━━━━━━━\u001b[0m \u001b[32m6.5/6.5 MB\u001b[0m \u001b[31m20.9 MB/s\u001b[0m eta \u001b[36m0:00:00\u001b[0m\n",
            "\u001b[2K     \u001b[90m━━━━━━━━━━━━━━━━━━━━━━━━━━━━━━━━━━━━━━━━\u001b[0m \u001b[32m479.7/479.7 MB\u001b[0m \u001b[31m2.7 MB/s\u001b[0m eta \u001b[36m0:00:00\u001b[0m\n",
            "\u001b[2K     \u001b[90m━━━━━━━━━━━━━━━━━━━━━━━━━━━━━━━━━━━━━━━━\u001b[0m \u001b[32m1.7/1.7 MB\u001b[0m \u001b[31m91.0 MB/s\u001b[0m eta \u001b[36m0:00:00\u001b[0m\n",
            "\u001b[2K     \u001b[90m━━━━━━━━━━━━━━━━━━━━━━━━━━━━━━━━━━━━━━━━\u001b[0m \u001b[32m5.6/5.6 MB\u001b[0m \u001b[31m91.1 MB/s\u001b[0m eta \u001b[36m0:00:00\u001b[0m\n",
            "\u001b[2K     \u001b[90m━━━━━━━━━━━━━━━━━━━━━━━━━━━━━━━━━━━━━━━━\u001b[0m \u001b[32m440.8/440.8 kB\u001b[0m \u001b[31m47.1 MB/s\u001b[0m eta \u001b[36m0:00:00\u001b[0m\n",
            "\u001b[?25hCollecting tf-models-official==2.13.*\n",
            "  Downloading tf_models_official-2.13.2-py2.py3-none-any.whl (2.6 MB)\n",
            "\u001b[2K     \u001b[90m━━━━━━━━━━━━━━━━━━━━━━━━━━━━━━━━━━━━━━━━\u001b[0m \u001b[32m2.6/2.6 MB\u001b[0m \u001b[31m16.3 MB/s\u001b[0m eta \u001b[36m0:00:00\u001b[0m\n",
            "\u001b[?25hRequirement already satisfied: Cython in /usr/local/lib/python3.10/dist-packages (from tf-models-official==2.13.*) (3.0.6)\n",
            "Requirement already satisfied: Pillow in /usr/local/lib/python3.10/dist-packages (from tf-models-official==2.13.*) (9.4.0)\n",
            "Requirement already satisfied: gin-config in /usr/local/lib/python3.10/dist-packages (from tf-models-official==2.13.*) (0.5.0)\n",
            "Requirement already satisfied: google-api-python-client>=1.6.7 in /usr/local/lib/python3.10/dist-packages (from tf-models-official==2.13.*) (2.84.0)\n",
            "Collecting immutabledict (from tf-models-official==2.13.*)\n",
            "  Downloading immutabledict-4.0.0-py3-none-any.whl (4.5 kB)\n",
            "Requirement already satisfied: kaggle>=1.3.9 in /usr/local/lib/python3.10/dist-packages (from tf-models-official==2.13.*) (1.5.16)\n",
            "Requirement already satisfied: matplotlib in /usr/local/lib/python3.10/dist-packages (from tf-models-official==2.13.*) (3.7.1)\n",
            "Requirement already satisfied: numpy>=1.20 in /usr/local/lib/python3.10/dist-packages (from tf-models-official==2.13.*) (1.23.5)\n",
            "Requirement already satisfied: oauth2client in /usr/local/lib/python3.10/dist-packages (from tf-models-official==2.13.*) (4.1.3)\n",
            "Requirement already satisfied: opencv-python-headless in /usr/local/lib/python3.10/dist-packages (from tf-models-official==2.13.*) (4.8.1.78)\n",
            "Requirement already satisfied: pandas>=0.22.0 in /usr/local/lib/python3.10/dist-packages (from tf-models-official==2.13.*) (1.5.3)\n",
            "Requirement already satisfied: psutil>=5.4.3 in /usr/local/lib/python3.10/dist-packages (from tf-models-official==2.13.*) (5.9.5)\n",
            "Requirement already satisfied: py-cpuinfo>=3.3.0 in /usr/local/lib/python3.10/dist-packages (from tf-models-official==2.13.*) (9.0.0)\n",
            "Requirement already satisfied: pycocotools in /usr/local/lib/python3.10/dist-packages (from tf-models-official==2.13.*) (2.0.7)\n",
            "Requirement already satisfied: pyyaml>=6.0.0 in /usr/local/lib/python3.10/dist-packages (from tf-models-official==2.13.*) (6.0.1)\n",
            "Collecting sacrebleu (from tf-models-official==2.13.*)\n",
            "  Downloading sacrebleu-2.3.3-py3-none-any.whl (106 kB)\n",
            "\u001b[2K     \u001b[90m━━━━━━━━━━━━━━━━━━━━━━━━━━━━━━━━━━━━━━━━\u001b[0m \u001b[32m106.4/106.4 kB\u001b[0m \u001b[31m15.7 MB/s\u001b[0m eta \u001b[36m0:00:00\u001b[0m\n",
            "\u001b[?25hRequirement already satisfied: scipy>=0.19.1 in /usr/local/lib/python3.10/dist-packages (from tf-models-official==2.13.*) (1.11.4)\n",
            "Collecting sentencepiece (from tf-models-official==2.13.*)\n",
            "  Downloading sentencepiece-0.1.99-cp310-cp310-manylinux_2_17_x86_64.manylinux2014_x86_64.whl (1.3 MB)\n",
            "\u001b[2K     \u001b[90m━━━━━━━━━━━━━━━━━━━━━━━━━━━━━━━━━━━━━━━━\u001b[0m \u001b[32m1.3/1.3 MB\u001b[0m \u001b[31m35.3 MB/s\u001b[0m eta \u001b[36m0:00:00\u001b[0m\n",
            "\u001b[?25hCollecting seqeval (from tf-models-official==2.13.*)\n",
            "  Downloading seqeval-1.2.2.tar.gz (43 kB)\n",
            "\u001b[2K     \u001b[90m━━━━━━━━━━━━━━━━━━━━━━━━━━━━━━━━━━━━━━━━\u001b[0m \u001b[32m43.6/43.6 kB\u001b[0m \u001b[31m6.5 MB/s\u001b[0m eta \u001b[36m0:00:00\u001b[0m\n",
            "\u001b[?25h  Preparing metadata (setup.py) ... \u001b[?25l\u001b[?25hdone\n",
            "Requirement already satisfied: six in /usr/local/lib/python3.10/dist-packages (from tf-models-official==2.13.*) (1.16.0)\n",
            "Requirement already satisfied: tensorflow-datasets in /usr/local/lib/python3.10/dist-packages (from tf-models-official==2.13.*) (4.9.3)\n",
            "Requirement already satisfied: tensorflow-hub>=0.6.0 in /usr/local/lib/python3.10/dist-packages (from tf-models-official==2.13.*) (0.15.0)\n",
            "Collecting tensorflow-model-optimization>=0.4.1 (from tf-models-official==2.13.*)\n",
            "  Downloading tensorflow_model_optimization-0.7.5-py2.py3-none-any.whl (241 kB)\n",
            "\u001b[2K     \u001b[90m━━━━━━━━━━━━━━━━━━━━━━━━━━━━━━━━━━━━━━━━\u001b[0m \u001b[32m241.2/241.2 kB\u001b[0m \u001b[31m18.9 MB/s\u001b[0m eta \u001b[36m0:00:00\u001b[0m\n",
            "\u001b[?25hRequirement already satisfied: tensorflow-text~=2.13.0 in /usr/local/lib/python3.10/dist-packages (from tf-models-official==2.13.*) (2.13.0)\n",
            "Requirement already satisfied: tensorflow~=2.13.0 in /usr/local/lib/python3.10/dist-packages (from tf-models-official==2.13.*) (2.13.1)\n",
            "Requirement already satisfied: tf-slim>=1.1.0 in /usr/local/lib/python3.10/dist-packages (from tf-models-official==2.13.*) (1.1.0)\n",
            "Requirement already satisfied: httplib2<1dev,>=0.15.0 in /usr/local/lib/python3.10/dist-packages (from google-api-python-client>=1.6.7->tf-models-official==2.13.*) (0.22.0)\n",
            "Requirement already satisfied: google-auth<3.0.0dev,>=1.19.0 in /usr/local/lib/python3.10/dist-packages (from google-api-python-client>=1.6.7->tf-models-official==2.13.*) (2.17.3)\n",
            "Requirement already satisfied: google-auth-httplib2>=0.1.0 in /usr/local/lib/python3.10/dist-packages (from google-api-python-client>=1.6.7->tf-models-official==2.13.*) (0.1.1)\n",
            "Requirement already satisfied: google-api-core!=2.0.*,!=2.1.*,!=2.2.*,!=2.3.0,<3.0.0dev,>=1.31.5 in /usr/local/lib/python3.10/dist-packages (from google-api-python-client>=1.6.7->tf-models-official==2.13.*) (2.11.1)\n",
            "Requirement already satisfied: uritemplate<5,>=3.0.1 in /usr/local/lib/python3.10/dist-packages (from google-api-python-client>=1.6.7->tf-models-official==2.13.*) (4.1.1)\n",
            "Requirement already satisfied: certifi in /usr/local/lib/python3.10/dist-packages (from kaggle>=1.3.9->tf-models-official==2.13.*) (2023.11.17)\n",
            "Requirement already satisfied: python-dateutil in /usr/local/lib/python3.10/dist-packages (from kaggle>=1.3.9->tf-models-official==2.13.*) (2.8.2)\n",
            "Requirement already satisfied: requests in /usr/local/lib/python3.10/dist-packages (from kaggle>=1.3.9->tf-models-official==2.13.*) (2.31.0)\n",
            "Requirement already satisfied: tqdm in /usr/local/lib/python3.10/dist-packages (from kaggle>=1.3.9->tf-models-official==2.13.*) (4.66.1)\n",
            "Requirement already satisfied: python-slugify in /usr/local/lib/python3.10/dist-packages (from kaggle>=1.3.9->tf-models-official==2.13.*) (8.0.1)\n",
            "Requirement already satisfied: urllib3 in /usr/local/lib/python3.10/dist-packages (from kaggle>=1.3.9->tf-models-official==2.13.*) (2.0.7)\n",
            "Requirement already satisfied: bleach in /usr/local/lib/python3.10/dist-packages (from kaggle>=1.3.9->tf-models-official==2.13.*) (6.1.0)\n",
            "Requirement already satisfied: pytz>=2020.1 in /usr/local/lib/python3.10/dist-packages (from pandas>=0.22.0->tf-models-official==2.13.*) (2023.3.post1)\n",
            "Requirement already satisfied: absl-py>=1.0.0 in /usr/local/lib/python3.10/dist-packages (from tensorflow~=2.13.0->tf-models-official==2.13.*) (1.4.0)\n",
            "Requirement already satisfied: astunparse>=1.6.0 in /usr/local/lib/python3.10/dist-packages (from tensorflow~=2.13.0->tf-models-official==2.13.*) (1.6.3)\n",
            "Requirement already satisfied: flatbuffers>=23.1.21 in /usr/local/lib/python3.10/dist-packages (from tensorflow~=2.13.0->tf-models-official==2.13.*) (23.5.26)\n",
            "Requirement already satisfied: gast<=0.4.0,>=0.2.1 in /usr/local/lib/python3.10/dist-packages (from tensorflow~=2.13.0->tf-models-official==2.13.*) (0.4.0)\n",
            "Requirement already satisfied: google-pasta>=0.1.1 in /usr/local/lib/python3.10/dist-packages (from tensorflow~=2.13.0->tf-models-official==2.13.*) (0.2.0)\n",
            "Requirement already satisfied: grpcio<2.0,>=1.24.3 in /usr/local/lib/python3.10/dist-packages (from tensorflow~=2.13.0->tf-models-official==2.13.*) (1.59.3)\n",
            "Requirement already satisfied: h5py>=2.9.0 in /usr/local/lib/python3.10/dist-packages (from tensorflow~=2.13.0->tf-models-official==2.13.*) (3.9.0)\n",
            "Requirement already satisfied: keras<2.14,>=2.13.1 in /usr/local/lib/python3.10/dist-packages (from tensorflow~=2.13.0->tf-models-official==2.13.*) (2.13.1)\n",
            "Requirement already satisfied: libclang>=13.0.0 in /usr/local/lib/python3.10/dist-packages (from tensorflow~=2.13.0->tf-models-official==2.13.*) (16.0.6)\n",
            "Requirement already satisfied: opt-einsum>=2.3.2 in /usr/local/lib/python3.10/dist-packages (from tensorflow~=2.13.0->tf-models-official==2.13.*) (3.3.0)\n",
            "Requirement already satisfied: packaging in /usr/local/lib/python3.10/dist-packages (from tensorflow~=2.13.0->tf-models-official==2.13.*) (23.2)\n",
            "Requirement already satisfied: protobuf!=4.21.0,!=4.21.1,!=4.21.2,!=4.21.3,!=4.21.4,!=4.21.5,<5.0.0dev,>=3.20.3 in /usr/local/lib/python3.10/dist-packages (from tensorflow~=2.13.0->tf-models-official==2.13.*) (3.20.3)\n",
            "Requirement already satisfied: setuptools in /usr/local/lib/python3.10/dist-packages (from tensorflow~=2.13.0->tf-models-official==2.13.*) (67.7.2)\n",
            "Requirement already satisfied: tensorboard<2.14,>=2.13 in /usr/local/lib/python3.10/dist-packages (from tensorflow~=2.13.0->tf-models-official==2.13.*) (2.13.0)\n",
            "Requirement already satisfied: tensorflow-estimator<2.14,>=2.13.0 in /usr/local/lib/python3.10/dist-packages (from tensorflow~=2.13.0->tf-models-official==2.13.*) (2.13.0)\n",
            "Requirement already satisfied: termcolor>=1.1.0 in /usr/local/lib/python3.10/dist-packages (from tensorflow~=2.13.0->tf-models-official==2.13.*) (2.3.0)\n",
            "Requirement already satisfied: typing-extensions<4.6.0,>=3.6.6 in /usr/local/lib/python3.10/dist-packages (from tensorflow~=2.13.0->tf-models-official==2.13.*) (4.5.0)\n",
            "Requirement already satisfied: wrapt>=1.11.0 in /usr/local/lib/python3.10/dist-packages (from tensorflow~=2.13.0->tf-models-official==2.13.*) (1.14.1)\n",
            "Requirement already satisfied: tensorflow-io-gcs-filesystem>=0.23.1 in /usr/local/lib/python3.10/dist-packages (from tensorflow~=2.13.0->tf-models-official==2.13.*) (0.34.0)\n",
            "Requirement already satisfied: dm-tree~=0.1.1 in /usr/local/lib/python3.10/dist-packages (from tensorflow-model-optimization>=0.4.1->tf-models-official==2.13.*) (0.1.8)\n",
            "Requirement already satisfied: contourpy>=1.0.1 in /usr/local/lib/python3.10/dist-packages (from matplotlib->tf-models-official==2.13.*) (1.2.0)\n",
            "Requirement already satisfied: cycler>=0.10 in /usr/local/lib/python3.10/dist-packages (from matplotlib->tf-models-official==2.13.*) (0.12.1)\n",
            "Requirement already satisfied: fonttools>=4.22.0 in /usr/local/lib/python3.10/dist-packages (from matplotlib->tf-models-official==2.13.*) (4.45.1)\n",
            "Requirement already satisfied: kiwisolver>=1.0.1 in /usr/local/lib/python3.10/dist-packages (from matplotlib->tf-models-official==2.13.*) (1.4.5)\n",
            "Requirement already satisfied: pyparsing>=2.3.1 in /usr/local/lib/python3.10/dist-packages (from matplotlib->tf-models-official==2.13.*) (3.1.1)\n",
            "Requirement already satisfied: pyasn1>=0.1.7 in /usr/local/lib/python3.10/dist-packages (from oauth2client->tf-models-official==2.13.*) (0.5.1)\n",
            "Requirement already satisfied: pyasn1-modules>=0.0.5 in /usr/local/lib/python3.10/dist-packages (from oauth2client->tf-models-official==2.13.*) (0.3.0)\n",
            "Requirement already satisfied: rsa>=3.1.4 in /usr/local/lib/python3.10/dist-packages (from oauth2client->tf-models-official==2.13.*) (4.9)\n",
            "Collecting portalocker (from sacrebleu->tf-models-official==2.13.*)\n",
            "  Downloading portalocker-2.8.2-py3-none-any.whl (17 kB)\n",
            "Requirement already satisfied: regex in /usr/local/lib/python3.10/dist-packages (from sacrebleu->tf-models-official==2.13.*) (2023.6.3)\n",
            "Requirement already satisfied: tabulate>=0.8.9 in /usr/local/lib/python3.10/dist-packages (from sacrebleu->tf-models-official==2.13.*) (0.9.0)\n",
            "Collecting colorama (from sacrebleu->tf-models-official==2.13.*)\n",
            "  Downloading colorama-0.4.6-py2.py3-none-any.whl (25 kB)\n",
            "Requirement already satisfied: lxml in /usr/local/lib/python3.10/dist-packages (from sacrebleu->tf-models-official==2.13.*) (4.9.3)\n",
            "Requirement already satisfied: scikit-learn>=0.21.3 in /usr/local/lib/python3.10/dist-packages (from seqeval->tf-models-official==2.13.*) (1.2.2)\n",
            "Requirement already satisfied: array-record in /usr/local/lib/python3.10/dist-packages (from tensorflow-datasets->tf-models-official==2.13.*) (0.5.0)\n",
            "Requirement already satisfied: click in /usr/local/lib/python3.10/dist-packages (from tensorflow-datasets->tf-models-official==2.13.*) (8.1.7)\n",
            "Requirement already satisfied: etils[enp,epath,etree]>=0.9.0 in /usr/local/lib/python3.10/dist-packages (from tensorflow-datasets->tf-models-official==2.13.*) (1.5.2)\n",
            "Requirement already satisfied: promise in /usr/local/lib/python3.10/dist-packages (from tensorflow-datasets->tf-models-official==2.13.*) (2.3)\n",
            "Requirement already satisfied: tensorflow-metadata in /usr/local/lib/python3.10/dist-packages (from tensorflow-datasets->tf-models-official==2.13.*) (1.14.0)\n",
            "Requirement already satisfied: toml in /usr/local/lib/python3.10/dist-packages (from tensorflow-datasets->tf-models-official==2.13.*) (0.10.2)\n",
            "Requirement already satisfied: wheel<1.0,>=0.23.0 in /usr/local/lib/python3.10/dist-packages (from astunparse>=1.6.0->tensorflow~=2.13.0->tf-models-official==2.13.*) (0.42.0)\n",
            "Requirement already satisfied: fsspec in /usr/local/lib/python3.10/dist-packages (from etils[enp,epath,etree]>=0.9.0->tensorflow-datasets->tf-models-official==2.13.*) (2023.6.0)\n",
            "Requirement already satisfied: importlib_resources in /usr/local/lib/python3.10/dist-packages (from etils[enp,epath,etree]>=0.9.0->tensorflow-datasets->tf-models-official==2.13.*) (6.1.1)\n",
            "Requirement already satisfied: zipp in /usr/local/lib/python3.10/dist-packages (from etils[enp,epath,etree]>=0.9.0->tensorflow-datasets->tf-models-official==2.13.*) (3.17.0)\n",
            "Requirement already satisfied: googleapis-common-protos<2.0.dev0,>=1.56.2 in /usr/local/lib/python3.10/dist-packages (from google-api-core!=2.0.*,!=2.1.*,!=2.2.*,!=2.3.0,<3.0.0dev,>=1.31.5->google-api-python-client>=1.6.7->tf-models-official==2.13.*) (1.61.0)\n",
            "Requirement already satisfied: cachetools<6.0,>=2.0.0 in /usr/local/lib/python3.10/dist-packages (from google-auth<3.0.0dev,>=1.19.0->google-api-python-client>=1.6.7->tf-models-official==2.13.*) (5.3.2)\n",
            "Requirement already satisfied: charset-normalizer<4,>=2 in /usr/local/lib/python3.10/dist-packages (from requests->kaggle>=1.3.9->tf-models-official==2.13.*) (3.3.2)\n",
            "Requirement already satisfied: idna<4,>=2.5 in /usr/local/lib/python3.10/dist-packages (from requests->kaggle>=1.3.9->tf-models-official==2.13.*) (3.6)\n",
            "Requirement already satisfied: joblib>=1.1.1 in /usr/local/lib/python3.10/dist-packages (from scikit-learn>=0.21.3->seqeval->tf-models-official==2.13.*) (1.3.2)\n",
            "Requirement already satisfied: threadpoolctl>=2.0.0 in /usr/local/lib/python3.10/dist-packages (from scikit-learn>=0.21.3->seqeval->tf-models-official==2.13.*) (3.2.0)\n",
            "Requirement already satisfied: google-auth-oauthlib<1.1,>=0.5 in /usr/local/lib/python3.10/dist-packages (from tensorboard<2.14,>=2.13->tensorflow~=2.13.0->tf-models-official==2.13.*) (1.0.0)\n",
            "Requirement already satisfied: markdown>=2.6.8 in /usr/local/lib/python3.10/dist-packages (from tensorboard<2.14,>=2.13->tensorflow~=2.13.0->tf-models-official==2.13.*) (3.5.1)\n",
            "Requirement already satisfied: tensorboard-data-server<0.8.0,>=0.7.0 in /usr/local/lib/python3.10/dist-packages (from tensorboard<2.14,>=2.13->tensorflow~=2.13.0->tf-models-official==2.13.*) (0.7.2)\n",
            "Requirement already satisfied: werkzeug>=1.0.1 in /usr/local/lib/python3.10/dist-packages (from tensorboard<2.14,>=2.13->tensorflow~=2.13.0->tf-models-official==2.13.*) (3.0.1)\n",
            "Requirement already satisfied: webencodings in /usr/local/lib/python3.10/dist-packages (from bleach->kaggle>=1.3.9->tf-models-official==2.13.*) (0.5.1)\n",
            "Requirement already satisfied: text-unidecode>=1.3 in /usr/local/lib/python3.10/dist-packages (from python-slugify->kaggle>=1.3.9->tf-models-official==2.13.*) (1.3)\n",
            "Requirement already satisfied: requests-oauthlib>=0.7.0 in /usr/local/lib/python3.10/dist-packages (from google-auth-oauthlib<1.1,>=0.5->tensorboard<2.14,>=2.13->tensorflow~=2.13.0->tf-models-official==2.13.*) (1.3.1)\n",
            "Requirement already satisfied: MarkupSafe>=2.1.1 in /usr/local/lib/python3.10/dist-packages (from werkzeug>=1.0.1->tensorboard<2.14,>=2.13->tensorflow~=2.13.0->tf-models-official==2.13.*) (2.1.3)\n",
            "Requirement already satisfied: oauthlib>=3.0.0 in /usr/local/lib/python3.10/dist-packages (from requests-oauthlib>=0.7.0->google-auth-oauthlib<1.1,>=0.5->tensorboard<2.14,>=2.13->tensorflow~=2.13.0->tf-models-official==2.13.*) (3.2.2)\n",
            "Building wheels for collected packages: seqeval\n",
            "  Building wheel for seqeval (setup.py) ... \u001b[?25l\u001b[?25hdone\n",
            "  Created wheel for seqeval: filename=seqeval-1.2.2-py3-none-any.whl size=16162 sha256=44f88949541989b790e6faf44cb285b8b0dc85d33d2ff3cce2e5e598b4efc38f\n",
            "  Stored in directory: /root/.cache/pip/wheels/1a/67/4a/ad4082dd7dfc30f2abfe4d80a2ed5926a506eb8a972b4767fa\n",
            "Successfully built seqeval\n",
            "Installing collected packages: sentencepiece, tensorflow-model-optimization, portalocker, immutabledict, colorama, sacrebleu, seqeval, tf-models-official\n",
            "Successfully installed colorama-0.4.6 immutabledict-4.0.0 portalocker-2.8.2 sacrebleu-2.3.3 sentencepiece-0.1.99 seqeval-1.2.2 tensorflow-model-optimization-0.7.5 tf-models-official-2.13.2\n"
          ]
        }
      ]
    },
    {
      "cell_type": "code",
      "source": [
        "import tensorflow_hub as hub\n",
        "import tensorflow_text as text\n",
        "import tensorflow as tf\n",
        "from official.nlp import optimization\n",
        "import os\n",
        "import pandas as pd"
      ],
      "metadata": {
        "id": "r3NYUQhXpW-a",
        "execution": {
          "iopub.status.busy": "2023-12-02T00:40:36.062388Z",
          "iopub.execute_input": "2023-12-02T00:40:36.062718Z",
          "iopub.status.idle": "2023-12-02T00:40:47.801389Z",
          "shell.execute_reply.started": "2023-12-02T00:40:36.062692Z",
          "shell.execute_reply": "2023-12-02T00:40:47.800404Z"
        },
        "trusted": true
      },
      "execution_count": 2,
      "outputs": []
    },
    {
      "cell_type": "code",
      "source": [
        "dataset = pd.read_csv(\"/content/dataset_tf.csv\")\n",
        "dataset = dataset.drop('type', axis=1)\n",
        "# Cetak dataset pelatihan\n",
        "print(\"List Dataset:\")\n",
        "print(dataset)"
      ],
      "metadata": {
        "id": "w_PZsO08Ih56",
        "outputId": "14425d85-3268-427d-8912-bc7f565ec613",
        "execution": {
          "iopub.status.busy": "2023-12-02T00:41:22.219708Z",
          "iopub.execute_input": "2023-12-02T00:41:22.220132Z",
          "iopub.status.idle": "2023-12-02T00:41:22.236438Z",
          "shell.execute_reply.started": "2023-12-02T00:41:22.220101Z",
          "shell.execute_reply": "2023-12-02T00:41:22.235543Z"
        },
        "trusted": true,
        "colab": {
          "base_uri": "https://localhost:8080/"
        }
      },
      "execution_count": 3,
      "outputs": [
        {
          "output_type": "stream",
          "name": "stdout",
          "text": [
            "List Dataset:\n",
            "    label                                                 TF\n",
            "0       T  Dalam menyelesaikan masalah, saya lebih suka m...\n",
            "1       T  Saya juga cenderung memperhatikan detail dan m...\n",
            "2       T  Saya cenderung berpikir secara logis dalam men...\n",
            "3       T  Saya senang mengamati dan memperhatikan detail...\n",
            "4       T  aya lebih cenderung membuat keputusan berdasar...\n",
            "..    ...                                                ...\n",
            "315     T  Dalam merancang menu dan mengelola dapur, saya...\n",
            "316     T  Saya mencari solusi yang tidak rumit untuk mas...\n",
            "317     T              Tidak suka jika tidak berpikir logis.\n",
            "318     T  Saya paling tidak suka jika tidak berpikir log...\n",
            "319     T  Tidak suka jika tidak mengambil kendali situas...\n",
            "\n",
            "[320 rows x 2 columns]\n"
          ]
        }
      ]
    },
    {
      "cell_type": "code",
      "source": [
        "df = pd.DataFrame(dataset)\n",
        "df['TF'] = df['TF'].str.strip()\n",
        "\n",
        "# Membagi dataset berdasarkan kelompok\n",
        "grouped = df.groupby('label')\n",
        "\n",
        "# Inisialisasi DataFrame train dan valid\n",
        "df_train = pd.DataFrame()\n",
        "df_valid = pd.DataFrame()\n",
        "\n",
        "# Memproses setiap kelompok\n",
        "for name, group in grouped:\n",
        "    # Menentukan jumlah data untuk validasi\n",
        "    valid_size = int(len(group) * 0.2)\n",
        "\n",
        "    # Memilih data untuk validasi\n",
        "    valid_data = group.sample(n=valid_size, random_state=42)\n",
        "\n",
        "    # Memilih data untuk train\n",
        "    train_data = group.drop(valid_data.index)\n",
        "\n",
        "    # Menggabungkan hasil pemisahan ke dalam DataFrame train dan valid\n",
        "    df_train = pd.concat([df_train, train_data])\n",
        "    df_valid = pd.concat([df_valid, valid_data])\n",
        "\n",
        "#acak\n",
        "df_train = df_train.sample(frac=1, random_state=42)\n",
        "df_valid= df_valid.sample(frac=1, random_state=42)\n",
        "\n",
        "# Cetak hasil\n",
        "print(\"Data Train:\")\n",
        "print(df_train)\n",
        "print(\"\\nData Valid:\")\n",
        "print(df_valid)"
      ],
      "metadata": {
        "id": "gWKDzwo0-l3K",
        "outputId": "ae1b44c1-5be0-4e2f-8fb5-c5e58f98159c",
        "execution": {
          "iopub.status.busy": "2023-12-02T00:42:02.130058Z",
          "iopub.execute_input": "2023-12-02T00:42:02.130468Z",
          "iopub.status.idle": "2023-12-02T00:42:02.164864Z",
          "shell.execute_reply.started": "2023-12-02T00:42:02.130443Z",
          "shell.execute_reply": "2023-12-02T00:42:02.163705Z"
        },
        "trusted": true,
        "colab": {
          "base_uri": "https://localhost:8080/"
        }
      },
      "execution_count": 4,
      "outputs": [
        {
          "output_type": "stream",
          "name": "stdout",
          "text": [
            "Data Train:\n",
            "    label                                                 TF\n",
            "245     T  Gue lebih enjoy ketika ada aksi dan hal-hal ya...\n",
            "16      F  Suka membantu orang dan ingin membuat mereka n...\n",
            "189     F  Kepekaan emosi saya membuat saya tidak kurang ...\n",
            "196     T  Dalam membuat keputusan, saya tidak bisa jika ...\n",
            "298     F  Saya cenderung peka terhadap perasaan orang-or...\n",
            "..    ...                                                ...\n",
            "263     F  Saya suka membuat keputusan berdasarkan kata h...\n",
            "50      F  Kepribadian feeling (F) saya tercermin dalam s...\n",
            "227     F  Perasaan saya terhadap orang-orang di sekitar ...\n",
            "124     T  Jika dihadapkan pada teka-teki yang kompleks d...\n",
            "257     F  Ketika ada masalah, saya lebih suka mengandalk...\n",
            "\n",
            "[256 rows x 2 columns]\n",
            "\n",
            "Data Valid:\n",
            "    label                                                 TF\n",
            "155     T  Saya berpikir dengan menggunakan fakta yang ad...\n",
            "197     T  Yang pasti sih, gua tuh cenderung lebih ga suk...\n",
            "215     F  Gue gak suka kalau gak bikin rencana spontan, ...\n",
            "35      T  Menyusun strategi dan mencari solusi efektif b...\n",
            "59      F  Tapi sering juga suka berimajinasi sendiri, mi...\n",
            "..    ...                                                ...\n",
            "39      T  Gua ngumpulin data dari berbagai sumber buat c...\n",
            "54      F  Empati dan kepekaan terhadap perasaan memberi ...\n",
            "261     F  Saya tidak pernah malas untuk terus belajar  d...\n",
            "36      T  Dalam membuat keputusan, saya lebih condong pa...\n",
            "201     T  Berusaha nangkep masalahnya pas lagi benerin s...\n",
            "\n",
            "[64 rows x 2 columns]\n"
          ]
        }
      ]
    },
    {
      "cell_type": "code",
      "source": [
        "train_data = df_train\n",
        "valid_data = df_valid\n",
        "target_label = 'F' #label 1 Feeling\n",
        "label_train = (train_data['label'].str[0] == target_label).astype(int).to_numpy()\n",
        "label_valid = (valid_data['label'].str[0] == target_label).astype(int).to_numpy()"
      ],
      "metadata": {
        "id": "7t3QgeEnXEV9",
        "execution": {
          "iopub.status.busy": "2023-12-02T00:44:14.399509Z",
          "iopub.execute_input": "2023-12-02T00:44:14.399990Z",
          "iopub.status.idle": "2023-12-02T00:44:14.407944Z",
          "shell.execute_reply.started": "2023-12-02T00:44:14.399952Z",
          "shell.execute_reply": "2023-12-02T00:44:14.406394Z"
        },
        "trusted": true
      },
      "execution_count": 25,
      "outputs": []
    },
    {
      "cell_type": "code",
      "source": [
        "x_train = train_data['TF'].to_numpy() #isi sesuai kolom dataset\n",
        "x_valid = valid_data['TF'].to_numpy()\n",
        "print(x_train.shape,x_valid.shape)\n",
        "print(label_train)\n",
        "print(x_train)"
      ],
      "metadata": {
        "id": "diK2gNqhbPAH",
        "outputId": "855f544c-6445-4c18-e8de-afb13c3b6570",
        "execution": {
          "iopub.status.busy": "2023-12-02T00:44:16.544694Z",
          "iopub.execute_input": "2023-12-02T00:44:16.545302Z",
          "iopub.status.idle": "2023-12-02T00:44:16.553967Z",
          "shell.execute_reply.started": "2023-12-02T00:44:16.545270Z",
          "shell.execute_reply": "2023-12-02T00:44:16.552705Z"
        },
        "trusted": true,
        "colab": {
          "base_uri": "https://localhost:8080/"
        }
      },
      "execution_count": 14,
      "outputs": [
        {
          "output_type": "stream",
          "name": "stdout",
          "text": [
            "(256,) (64,)\n",
            "[0 1 1 0 1 0 0 0 1 1 0 0 0 0 0 1 0 1 1 1 0 1 1 0 1 1 0 0 1 0 0 1 0 0 0 1 1\n",
            " 1 1 0 0 0 0 0 1 1 1 1 0 0 0 1 0 1 1 0 1 0 1 1 1 0 0 1 0 0 1 0 1 1 0 1 0 1\n",
            " 1 0 1 0 1 1 0 1 1 1 1 0 0 0 1 0 1 0 0 1 1 1 1 1 1 1 1 1 0 0 1 0 1 0 0 1 1\n",
            " 1 0 1 0 1 0 0 1 0 0 1 1 1 1 1 0 0 0 0 1 1 1 0 0 1 0 0 1 0 1 1 1 0 0 0 1 0\n",
            " 0 0 0 1 0 1 1 0 0 1 1 0 1 0 0 1 1 0 1 1 0 0 1 0 0 1 1 1 0 0 0 0 1 0 1 1 0\n",
            " 1 0 0 1 1 1 0 0 1 1 1 1 0 0 1 0 1 0 0 0 0 1 1 1 1 0 0 0 0 0 0 0 0 1 0 1 1\n",
            " 1 1 0 0 0 0 0 0 1 0 0 1 1 0 0 0 1 1 1 1 0 1 0 0 1 0 1 0 1 1 1 1 0 1]\n",
            "['Gue lebih enjoy ketika ada aksi dan hal-hal yang bisa diliat langsung, suka main di luar, cari sensasi, dan nggak terlalu mikirin detail berlebihan. Jadi, kalau ada masalah, gue cenderung cari solusi yang efektif dan cepat tanpa banyak berpikir panjang'\n",
            " 'Suka membantu orang dan ingin membuat mereka nyaman, fokus pada nilai-nilai yang dianggap penting dalam menjaga kedamaian dan keseimbangan'\n",
            " 'Kepekaan emosi saya membuat saya tidak kurang terhubung dengan orang lain dan menghargai perasaan mereka'\n",
            " 'Dalam membuat keputusan, saya tidak bisa jika tidak condong pada data dan logika'\n",
            " 'Saya cenderung peka terhadap perasaan orang-orang di sekitar saya dan berusaha untuk membuat keputusan berdasarkan nilai-nilai sosial.'\n",
            " 'Jadinya, planning hidup itu penting banget buat saya. Suka mikirin langkah-langkah jauh ke depan, nggak suka dibiarin ngambang'\n",
            " 'Saya memasuki mode pemikiran yang analitis saat menetukan pilihan yang baik untuk program kerja osis. Saya mengevaluasi setiap langkash untuk mencapai keberhasilan menggapai visi. Pikiran saya sangat fokus saat mengambil keputusan membuat keputusan saya biasanya menjadi hal yang baik.'\n",
            " 'Ketika ada masalah, lebih suka mencari solusi praktis dan cepat daripada terjebak dalam pemikiran berlebihan.'\n",
            " 'Saya suka membantu orang dan berusaha memahami perasaan serta perspektif mereka'\n",
            " 'Emosi saya terpancar jelas, dan saya selalu berusaha membawa keceriaan ke dalam situasi apapun. Saya cenderung memutuskan berdasarkan perasaan dan nilai-nilai personal, selalu mengutamakan hubungan dan kesejahteraan bersama.'\n",
            " 'Ketika melihat penawaran diskon di departemen elektronik, gue beralih ke mode pemikiran analitis. Dengan cepat, gue membandingkan spesifikasi dan harga, membuat keputusan pembelian yang terukur dan efisien. Pikiran gue yang terfokus pada fakta membantunya membuat keputusan tanpa ragu.'\n",
            " 'Suka nyelamatin masalah yang rumit, gue selalu nyari solusi dengan cara ngebongkar detailnya satu-satu, tidak bisa kalau nggak berfikir'\n",
            " 'Saya juga punya kecenderungan untuk melihat situasi dengan cara yang realistis dan fokus pada fakta yang ada'\n",
            " 'Selalu cari-cari alasan dan makna di balik segala hal, sampai temen-temen sering bilang gue terlalu analitis.'\n",
            " 'Evaluasi dari kesalahan sebelumnya bantu aku temuin cara lebih efisien buat kerjaan.'\n",
            " 'Kebahagiaan saya tidak terpancar saat tidak bisa memberikan dukungan dan tidak menciptakan suasana yang nyaman bagi semua orang di sekitar saya.'\n",
            " 'Evaluasi dari kesalahan sebelumnya bantu aku temuin cara lebih efisien buat kerjaan.'\n",
            " 'Saya merasa terhubung dengan keindahan alam dan seni, yang memberi saya kegembiraan dan inspirasi. Dalam interaksi sosial, saya cenderung memprioritaskan hubungan yang berarti dan mendalam, menciptakan ikatan emosional yang kuat dengan orang-orang di sekitar.'\n",
            " 'Gue tipe yang lebih peka sama perasaan orang dan seneng membantu, meskipun kadang juga suka bingung sendiri dalam menentukan pilihan.'\n",
            " 'Saya senang mengeksplorasi konsep-konsep baru dan mencari makna di balik pengalaman hidup. Emosi saya terkadang bisa mengambil alih, membuat saya merasa terhubung dengan orang lain secara mendalam.'\n",
            " 'Aku dominan dengan pemikiran rasional dan analitis dalam menghadapi pilihan atau mengambil kesimpulan. Suka menyaring informasi, menghubungkan fakta-fakta, dan mendapatkan solusi yang masuk akal.'\n",
            " 'Emosi saya mewarnai setiap pengalaman, memungkinkan saya terhubung dengan orang lain secara mendalam dan membentuk hubungan yang bermakna.'\n",
            " 'Dalam berinteraksi dengan rekan kerja, gua tidak hanya melihat tanggung jawab sebagai tugas, tetapi sebagai peluang untuk membangun hubungan. Gua memiliki kemampuan untuk membaca emosi di ruang rapat dan membawa kehangatan dalam diskusi profesional. Pendekatan gua yang ramah dan perhatian menciptakan lingkungan kerja yang mendukung dan kooperatif.'\n",
            " 'Paling senang mencerna informasi dengan logika dingin dan analisis tajam, meski seringkali kesal karena terlalu banyak memikirkan segala kemungkinan'\n",
            " 'Kalo ada masalah, gue biasanya ngandelin perasaan dan insting buat ngambil keputusan'\n",
            " 'Dan gue senang memberikan dukungan emosional ketika diperlukan.'\n",
            " 'Tidak suka jika tidak berpikir logis.'\n",
            " 'Walaupun demikian, aku masih memegang tanggung jawab dan berupaya menyelesaikan tugas dengan optimal.'\n",
            " 'Kadang-kadang saya merasa terinspirasi oleh perasaan atau intuisi saya saat mencari solusi untuk masalah atau tantangan yang dihadapi'\n",
            " 'Saya cenderung berpikir logis dan mengambil pendekatan praktis dalam menyelesaikan masalah sehari-hari'\n",
            " 'Saya cenderung melihat situasi secara keseluruhan dan mencari solusi praktis tanpa terlalu banyak berkutat pada perasaan.'\n",
            " 'Nah, yang paling gue nikmatin itu pas lagi bareng temen-temen, bisa ngobrol santai, ketawa-ketawa, dan merasakan energi positif dari orang-orang di sekitar gue.'\n",
            " 'Memecahkan masalah dengan cara-cara yang kreatif. Lebih suka menyimak sebelum bertindak, biasanya mencari cara terbaik untuk menyelesaikan suatu masalah sebelum melangkah'\n",
            " 'Saya senang menyelesaikan pekerjaan tepat waktu dan mengatur jadwal dengan baik untuk mencapai hasil yang diinginkan'\n",
            " 'Ketika ada hal baru, saya langsung melibatkan diri dan mencoba pengalaman tanpa terlalu banyak berpikir panjang. Saya cenderung praktis dan lebih memilih menghadapi masalah dengan cepat daripada memikirkannya berlebihan.'\n",
            " 'Kadang-kadang agak terlalu sensitif terhadap perasaan orang lain, suka membantu teman-teman dalam masalah pribadi mereka.'\n",
            " 'Emosi saya cukup sensitif, dan saya sering terhubung dengan perasaan orang lain.'\n",
            " 'Dalam menghadapi perasaan, saya cenderung memilih jalan yang membawa kedamaian dan harmoni, memberikan nilai penting pada hubungan emosional yang mendalam'\n",
            " 'Aku juga tidak suka jika tidak peduli dengan orang lain'\n",
            " 'Saya cenderung fokus pada tujuan jangka panjang dan mencari cara-cara inovatif untuk menyelesaikan masalah'\n",
            " 'Meskipun saya tidak terlalu suka berbicara di depan umum, saya senang membantu orang lain dan dapat diandalkan ketika dibutuhkan'\n",
            " 'Ketika rombongan tiba di lokasi petualangan, Aku dengan cepat mengidentifikasi rute terbaik dan merancang rencana kegiatan yang terorganisir. Pendekatannya yang berfokus pada logika dan pemikiran rasional memastikan bahwa setiap langkah diambil dengan pertimbangan matang.'\n",
            " 'Saya cenderung membuat keputusan berdasarkan analisis logis dan pertimbangan rasional. Selalu mencari cara untuk menyajikan informasi atau hiburan dengan cara yang cerdas dan terorganisir.'\n",
            " 'Ketika tim menghadapi tantangan desain yang kompleks, gua menjadi arsitek pikiran yang terfokus. Dengan pemikiran analitis, gua menyelesaikan masalah dan menyusun strategi yang efektif. Kepemimpinan gua yang berbasis pada logika membawa kejelasan dan keberlanjutan dalam setiap tahap proses kreatif.'\n",
            " 'Dan ya, hidup gue itu lebih enjoy tanpa terlalu banyak mikirin rencana yang kaku.'\n",
            " 'Saya tidak merasa bahagia ketika tidak bisa memberikan dukungan dan tidak menciptakan suasana yang nyaman bagi orang-orang di sekitar saya'\n",
            " 'Emosi saya tercermin melalui karya seni yang saya ciptakan, yang menjadi sarana ekspresi penuh warna bagi perasaan dalam diri saya'\n",
            " 'Yang paling membuat saya tidak bahagia adalah ketika saya tidak bisa memberikan dukungan dan tidak menciptakan rasa nyaman bagi semua orang di sekitar saya.'\n",
            " 'Saya suka menyusun rencana dengan logika dan cenderung mengambil keputusan berdasarkan fakta daripada perasaan'\n",
            " 'Saya cenderung tidak fokus pada tujuan jika tidak jangka panjang dan mencari cara-cara inovatif untuk menyelesaikan masalah'\n",
            " 'Seorang arsitek keputusan yang tak tergoyahkan di dunia pikiran. Dengan akal yang tajam dan analisis yang mendalam, aku memetakan setiap langkahnya di atas papan catur kehidupan. Seperti seorang ilmuwan yang mengeksplorasi laboratorium pikirannya, dia menyelidiki ide-ide dengan logika dan rasio yang teliti.'\n",
            " 'Terus, emosi gue tuh kayak roller coaster, bisa seneng sekali, tapi juga bisa baperan. Gue suka banget ngikutin perasaan dan intuisi gue, apalagi kalo udah soal keputusan, gue lebih suka liat gimana perasaan gue waktu itu'\n",
            " 'Berusaha nangkep masalahnya sambil ngeliatin diagram wiring yang bikin pusing, tapi akhirnya nemu jalan keluarnya juga'\n",
            " 'Yang pasti, rasanya paling seneng kalau bisa bikin orang-orang di sekitar happy, ya gitu deh!'\n",
            " 'Dalam menjalin hubungan dengan teman-temannya, gua adalah sosok yang sangat terhubung secara emosional. Gua mengenali perasaan teman sekelas dengan mudah dan selalu ada untuk memberikan dukungan ketika diperlukan. Keterlibatan gua yang mendalam menciptakan jaringan persahabatan yang kokoh dan terasa lebih seperti keluarga daripada sekadar rekan sekelas.'\n",
            " 'Pemikiran lebih cenderung logis dan analitis, suka mencari solusi yang efisien dalam menanggapi berbagai situasi'\n",
            " 'Peduli dengan hubungan dan suka menjaga harmoni adalah yang paling penting.'\n",
            " 'Saya cenderung menggunakan pemikiran logis dan analitis dalam memecahkan masalah atau menghadapi situasi'\n",
            " 'Dalam mengatasi tantangan akademis, perasaan saya memegang peranan penting, dan saya berusaha menciptakan lingkungan belajar yang mendukung dan positif.'\n",
            " 'Dalam berinteraksi dengan teman-teman saya tidak hanya menggali pengetahuan, tetapi juga meresapi pengalaman emosional. Saya adalah sosok yang tidak ragu memberikan dukungan ketika teman sekelas merasa kesulitan atau stres dengan tugas. Kepekaannya terhadap perasaan membuatnya menjadi teman belajar yang tidak hanya fokus pada buku, tetapi juga pada kesejahteraan mental dan emosional.'\n",
            " 'Biasanya gue lebih percaya perasaan dan insting daripada rencana yang ketat, suka spontan gitu, ya pokoknya nikmatin aja hidupnya.'\n",
            " 'Aku cenderung mendasarkan pemikiran saya pada analisis rasional dan logika. Aku menikmati proses memecah masalah menjadi bagian-bagian yang lebih kecil, merinci setiap detail, dan menyusun suatu strategi berbasis fakta untuk mencapai solusi yang paling efektif.'\n",
            " 'Keputusan-keputusan yang gua ambil cenderung didasarkan pada analisis logis dan pertimbangan rasional. Selalu mencari cara yang efisien untuk mengelola peralatan tangkap dan merancang strategi penangkapan yang terstruktur.'\n",
            " 'Dalam mengelola peternakan, perasaan saya memegang peranan penting, dan saya berusaha menjaga keseimbangan antara keuntungan bisnis dan kesejahteraan hewan.'\n",
            " 'Mikirin masalah itu pake akal sehat., tidak bisa memutuskan sesuatu tanpa berfikir'\n",
            " 'Meski begitu, aku tetap bertanggung jawab dan berusaha menyelesaikan tugas dengan baik'\n",
            " 'Meski terkadang kesulitan membuat keputusan karena mempertimbangkan banyak faktor emosional, saya cenderung lebih mengutamakan keseimbangan dan harmoni dalam hubungan. Selalu mencoba memahami perspektif orang lain dan menjaga suasana positif.'\n",
            " 'Saat teman-temannya bingung memilih tempat makan malam, saya tampil sebagai pemikir ulung. Dengan cepat, saya mengevaluasi opsi-opsi dengan logika yang tajam, memberikan saran yang terukur dan tepat. Pikirannya yang analitis dan kecermatannya terhadap detil membuatnya menjadi penentu keputusan yang diandalkan.'\n",
            " 'Saya tidak suka jika tidak membantu orang dan berusaha memahami perasaan serta perspektif mereka'\n",
            " 'Saya merasakan kebahagiaan yang menyentuh hati melihat anak-anak kecil yang berlarian di sekitar. Saya meresapi kegembiraan mereka seperti saus BBQ yang meresap ke dalam daging. Keterlibatannya yang mendalam bukan hanya sebagai penonton tetapi sebagai bagian dari perasaan kebahagiaan yang melibatkan semua orang di sekitarnya.'\n",
            " 'Proses mikir gue penuh logika, tapi nggak suka ribet mikirin detail-detail yang nggak penting'\n",
            " 'Tidak suka jika tidak membantu orang dan ingin membuat mereka nyaman, tidak fokus pada nilai-nilai yang tidak dianggap penting dalam menjaga kedamaian dan keseimbangan'\n",
            " 'Yang pasti sih, gua tuh cenderung lebih suka berpikir logis dan analitis dalam ngambil keputusan'\n",
            " 'Bukan bahwa saya mengabaikan fakta atau logika, tapi saya cenderung mempertimbangkan dampak etis dan sosial dari penelitian saya. Selalu berusaha memahami implikasi emosional dan kemanusiaan dari temuan ilmiah.'\n",
            " 'Gua ambil cenderung didasarkan pada pertimbangan rasional dan analisis logis. Selalu berusaha menyajikan musik dengan pesan yang jelas dan struktur yang terorganisir.'\n",
            " 'Untuk menangani situasi kritis dan menegakkan hukum dengan tegas, saya sering membuat keputusan berdasarkan logika dan analisis rasional.'\n",
            " 'Ketika melihat anak-anak yang bermain dengan sukacita, saya merasakan kebahagiaan yang bersumber dari konektivitas sosial. Saya mendalaminya dengan menyinari wajah mereka, menunjukkan kepekaan emosional yang melibatkan perasaan kehangatan dan sukacita. Kecintaannya terhadap kebersamaan menciptakan hubungan yang mendalam dan berarti.'\n",
            " 'Selalu mencari cara untuk menyajikan informasi dengan cara yang terstruktur dan memiliki dasar yang kuat.'\n",
            " 'Saat bersosialisasi, aku selalu mencoba membaca ekspresi wajah dan emosi orang lain. Aku menemukan kebahagiaan dalam kesederhanaan, meresapi momen kecil, dan selalu mencari makna di balik setiap pengalaman.'\n",
            " 'Orang bilang sih, emang sensitif dan penuh empati, suka nangis-nangis nonton film drama'\n",
            " 'Meskipun terkadang aku keputusan gue lebih didasarkan pada perasaan, tapi aku selalu cari cara buat menyelaraskan logika dan emosi.'\n",
            " 'Kadang suka mikirin hal-hal yang bikin hati hangat, gitu, kayak kenangan manis sama temen-temen.'\n",
            " 'Saya cenderung memperhatikan kebutuhan emosional tanaman dan hewan ternak saya. Selalu berusaha untuk menciptakan lingkungan yang mendukung pertumbuhan yang seimbang.'\n",
            " 'Kebahagiaan saya terpancar saat bisa memberikan dukungan dan menciptakan suasana yang nyaman bagi semua orang di sekitar saya'\n",
            " 'Dalam merespon kebutuhan teman sekelas, aku meresapi emosi mereka dengan cepat. aku adalah seseorang yang bisa membaca ekspresi wajah dan bahasa tubuh dengan akurasi tinggi, memberikan dukungan yang tulus ketika dibutuhkan. Kecintaannya pada kesejahteraan orang lain menciptakan ruang yang aman dan nyaman di antara siswa-siswi sekolah.'\n",
            " 'aya lebih cenderung membuat keputusan berdasarkan fakta dan logika'\n",
            " 'Ketika dihadapkan pada masalah, naluri saya adalah merenung dengan mendalam, mencoba mencari solusi yang logis dan rasional'\n",
            " 'Waktu kerja atau ngerjain sesuatu, lebih suka yang langsung keliatan hasilnya daripada yang harus mikirin lama.'\n",
            " 'Aku sering membantu dengan tugas-tugas rumah tangga atau memberikan dukungan kepada teman-teman saat mereka butuh'\n",
            " 'Ketika ada masalah, saya cenderung menggunakan logika dan analisis untuk menemukan solusinya dengan cepat.'\n",
            " 'Waktu ngobrol, lebih suka dengerin orang cerita daripada nyeritain diri sendiri.'\n",
            " 'Meskipun terkadang kelihatan santai, sebenernya kepala selalu penuh dengan analisis dan pertimbangan mengenai berbagai hal.'\n",
            " 'Meskipun terlibat dalam proyek-proyek yang seringkali menuntut kreativitas, saya cenderung membuat keputusan berdasarkan logika dan analisis rasional. Selalu mencari solusi yang tidak hanya efisien, tetapi juga memiliki dasar yang kuat secara teknis.'\n",
            " 'Gue tuh seneng banget ngasih semangat ke orang, jadi pas liat temen yang lagi down, gue langsung ajak ngobrol dan cerita lucu buat ngilangin stress'\n",
            " 'Saya cenderung menghargai hubungan yang intim dan mampu membantu orang-orang di sekitar saya dengan memahami dan mendukung mereka'\n",
            " 'Gue juga cepet nangkep perasaan orang, suka jadi tempat curhat temen-temen, dan rasanya seneng banget kalo bisa bantu mereka ngerasa lebih baik'\n",
            " 'Gue juga lebih ke feeler, jadi suka mikirin perasaan sendiri dan orang lain.'\n",
            " 'Meskipun saya bisa sedikit tidak teratur kadang-kadang, saya selalu bersemangat untuk belajar dan meningkatkan keterampilan saya. Secara keseluruhan, saya adalah asisten yang ramah dan empatik yang bersemangat membantu orang lain untuk berhasil.'\n",
            " 'Di balik penampilan gua yang kuat dan rasional, gua juga memiliki sisi emosional yang mendalam. Saat teman-temannya menghadapi kesulitan, gua adalah sosok yang penuh empati, siap memberikan dukungan dan menunjukkan kepedulian yang tulus.'\n",
            " 'Saya juga fleksibel dan suka mengambil keputusan secara spontan tergantung pada suasana hati dan situasi yang sedang saya hadapi.'\n",
            " 'Saya cenderung menggabungkan aspek-aspek emosional dalam pendekatan profesional saya.'\n",
            " 'Gue suka beradaptasi sama situasi, nggak terlalu mikirin rencana jauh ke depan, lebih enjoy aja ngejalanin hidup sesuai keinginan hati.'\n",
            " 'Penting bagi aku untuk memahami akar penyebab suatu situasi atau permasalahan, dan itulah sebabnya aku suka menganalisis hubungan sebab-akibat. Aku mencari kejelasan dalam informasi yang saya terima, mencoba memahami pola-pola atau tren yang mungkin muncul, dan menggunakan logika sebagai alat utama untuk membimbing langkah-langkah aku.'\n",
            " 'Dalam merancang menu dan mengelola dapur, saya tidak melakukannya dengan menggunakan perasaan karena akan membuat makanan yang saya buat menjadi kurang enak.'\n",
            " 'Saya merasakan kebahagiaan yang menyentuh hati melihat anak-anak kecil yang berlarian di sekitar. Saya meresapi kegembiraan mereka seperti saus BBQ yang meresap ke dalam daging. Keterlibatannya yang mendalam bukan hanya sebagai penonton tetapi sebagai bagian dari perasaan kebahagiaan yang melibatkan semua orang di sekitarnya.'\n",
            " 'Seorang ahli penentu pemilihan untuk keadaan yang tak tergoyahkan di dunia pikiran. Dengan pikiran yang cerdas dan analisis yang detail, aku mendeskripsikan setiap langkahnya di atas aturan kehidupan. Seperti seorang ilmuwan yang menambah wawasan dengan laboratorium pikirannya, dia mengungkapkan  ide-ide yang ditafsirkan dengan logika dan rasio yang teliti.'\n",
            " 'Suka deh liat pemandangan, nyobain makanan baru, dan punya perasaan yang peka sama emosi orang di sekitar.'\n",
            " 'Seringnya, gue ngelakuin sesuatu berdasarkan pemikiran rasional, lebih ke logika daripada emosi. Ketika ada masalah, gue biasanya coba mencari solusinya sendiri'\n",
            " 'Saya cenderung tidak pernah tidak menggunakan pemikiran logis dan analitis dalam memecahkan masalah atau menghadapi situasi'\n",
            " 'Meluangkan waktu untuk mendengarkan cerita orang-orang di sekitar saya merupakan kebiasaan yang saya nikmati, dan saya tidak pernah tidak berusaha memberikan dukungan yang diperlukan'\n",
            " 'Paling penting, peduli sama hubungan dan suka jagain harmoni.'\n",
            " 'Dalam merespon kebutuhan teman sekelas, aku meresapi emosi mereka dengan cepat. aku adalah seseorang yang bisa membaca ekspresi wajah dan bahasa tubuh dengan akurasi tinggi, memberikan dukungan yang tulus ketika dibutuhkan. Kecintaannya pada kesejahteraan orang lain menciptakan ruang yang aman dan nyaman di antara siswa-siswi sekolah.'\n",
            " 'Gue suka memecahkan teka-teki dan mengeksplorasi ide-ide yang tidak terduga. Meskipun terkadang kelihatannya santai dan fleksibel, di balik itu, ada pola pikir yang kritis dan analitis, mencari makna dan logika di setiap situasi'\n",
            " 'Tidak menyediakan waktu untuk mendengarkan pengalaman dan cerita orang lain adalah hal yang tidak saya sukai, dan memberikan dukungan serta pemahaman adalah cara saya menunjukkan perhatian'\n",
            " 'Kalo udah fokus sama sesuatu, bisa lupa sama waktu, bisa juga malah keasikan sama hal lain.'\n",
            " 'Ketika menghadapi situasi sulit, saya cenderung mendekati masalah dengan mempertimbangkan nilai-nilai dan emosi yang terlibat, mencari pemahaman mendalam tentang perspektif orang.'\n",
            " 'Pemikiran saya yang perfeksionis dapat membantu dalam pengambilan keputusan kerja proyek.'\n",
            " 'Kemampuan membaca situasi dan menyesuaikan diri dengan berbagai tipe orang menjadi kekuatan utama.'\n",
            " 'Dalam proses kreatif, saya sering mempertimbangkan aspek-aspek emosional dan menyukai ketika lukisan saya dapat membangkitkan perasaan positif atau membuat orang merenung.'\n",
            " 'Saya juga tidak suka jika tidak memperhatikan detail dan tidak suka jika tidak memiliki keinginan untuk menyelesaikan tugas tepat waktu.'\n",
            " 'Aku suka menyusun rencana yang terperinci untuk mencapai tujuan-tujuan yang telah kubuat'\n",
            " 'Mungkin terkadang aku agak keras pada diri sendiri karena standar yang tinggi, tapi aku tahu bahwa memberi perhatian pada detail-detail kecil bisa membuat perbedaan yang besar dalam kehidupan sehari-hari'\n",
            " 'Saya merasa bahagia ketika bisa memberikan dukungan dan menciptakan suasana yang nyaman bagi orang-orang di sekitar saya'\n",
            " 'Aku tidak suka jika tidak peduli dengan orang lain dan aku selalu mencari cara untuk membantu orang lain'\n",
            " 'Selain itu, memang, hidup saya lebih menyenangkan ketika saya tidak memikirkan rencana yang ketat.'\n",
            " 'Rasanya kayak dapet energi positif gitu,Kalau mikirin perasaan orang lain, tau gitu gue udah lama nyari-nyari.'\n",
            " 'Menyusun strategi dan mencari solusi efektif bagi masalah adalah keahlian saya'\n",
            " 'Dalam membuat keputusan, saya lebih memilih melihat fakta-fakta konkret dan menyusun rencana yang jelas untuk mencapai tujuan.'\n",
            " 'Ketika mendekati masalah taman kota yang kompleks, gua mengadopsi pendekatan pemikiran analitis. Dengan penilaian yang cermat, gua merancang solusi yang efektif, memastikan bahwa setiap tindakan yang diambil memiliki dampak positif yang signifikan. Kepemimpinan gua yang berfokus pada hasil membawa transformasi nyata.'\n",
            " 'Saya paling tidak suka jika tidak berpikir logis dalam menyusun rencana untuk mencapainya.'\n",
            " 'Waktu kerja, lebih suka yang banyak interaksi sama orang, gak terlalu suka yang kerjaannya monoton. Kalo ngadepin masalah suka ngandelin perasaan dan intuisi, soalnya ngerasa bisa lebih nyambung.'\n",
            " 'Kadang-kadang gue suka nekat ngambil keputusan spontan, misalnya tiba-tiba nyaranin temen buat coba makanan baru di warung pinggir jalan.'\n",
            " 'Ketika menghadapi tantangan dalam pengembangan perangkat lunak, saya tidak hanya fokus pada logika kode, tetapi juga pada pengaruhnya terhadap pengguna. Saya memikirkan cara membuat produknya memberikan nilai tambah emosional, menciptakan solusi yang tidak hanya fungsional, tetapi juga menyentuh hati para pengguna.'\n",
            " 'Saya tidak biasanya tidak menyelesaikan pekerjaan dengan hati-hati.'\n",
            " 'Ya, jadi aku tuh suka dengan hal-hal praktis, suka eksplorasi teknologi, mungkin lebih seneng ngelakuin sesuatu yang bisa aku terapkan langsung, gitu'\n",
            " 'Meluangkan waktu untuk mendengarkan cerita orang-orang di sekitar saya merupakan kebiasaan yang saya nikmati, dan saya selalu berusaha memberikan dukungan yang diperlukan'\n",
            " 'Dalam pengambilan keputusan, saya lebih condong pada pemikiran logis dan analisis rasional daripada membiarkan perasaaan mempengaruhi.'\n",
            " 'Saya cenderung lebih fleksibel dan suka menjalani kehidupan dengan santai, mengikuti alur tanpa perlu terlalu banyak perencanaan'\n",
            " 'Rasanya agak sulit untuk membuat keputusan karena saya cenderung mempertimbangkan perasaan dan nilai-nilai saya.'\n",
            " 'Yaudah deh, gue punya mata yang cukup tajam buat baca situasi, tapi kadang malah sering nekat tanpa mikirin konsekuensinya.'\n",
            " 'Saya merasa paling senang ketika dapat memberikan bantuan dan membuat semua orang merasa nyaman dan terdukung dalam lingkungan kita'\n",
            " 'Dalam berinteraksi dengan teman-teman saya tidak hanya menggali pengetahuan, tetapi juga meresapi pengalaman emosional. Saya adalah sosok yang tidak ragu memberikan dukungan ketika teman sekelas merasa kesulitan atau stres dengan tugas. Kepekaannya terhadap perasaan membuatnya menjadi teman belajar yang tidak hanya fokus pada buku, tetapi juga pada kesejahteraan mental dan emosional.'\n",
            " 'Rasanya enak banget gitu, kayak dapet energi positif. Ngomongin perasaan, gue suka banget peka sama perasaan orang, apalagi kalo lagi ada masalah, pasti gue siap dengerin curhatannya'\n",
            " 'Suka juga sama hal-hal praktis, kayak ngoprek barang-barang biar bisa lebih efisien, meskipun terkadang itu bikin orang sekitar bingung'\n",
            " 'Saat merancang strategi penggalangan dana, saya membawa pemikiran analitisnya ke meja perencanaan. Dengan jeli, saya mengevaluasi metode yang paling efektif dan mengorganisir acara dengan logika yang tajam. Kepemimpinannya yang berbasis pada hasil membawa dampak positif yang konkret.'\n",
            " 'Saya orang yang suka berpikir dan merencanakan terlebih dahulu sebelum melakukan sesuatu'\n",
            " 'Ketika berurusan dengan siswa, gua bukan hanya guru, melainkan juga mentor yang peduli. Gua tidak hanya memikirkan peningkatan akademis, tetapi juga perkembangan emosional dan sosial setiap siswa. Kepekaan gua terhadap perasaan dan kebutuhan individu membantu menciptakan iklim kelas yang mendukung dan inklusif.'\n",
            " 'Melalui evaluasi dari kesalahan masa lalu, aku menemukan cara yang lebih baik untuk menyelesaikan tugas dengan efisiensi'\n",
            " 'Dalam menyelesaikan masalah, saya lebih suka mengandalkan fakta dan data daripada intuisi atau perasaan.'\n",
            " 'Keputusan gue tidak bisa didasarkan perasaan tetepi didasarkan pada logika dan analisis rasional ketimbang hati.'\n",
            " 'Saya cenderung tidak suka jika tidak berpikir secara logis dalam menghadapi masalah dan mempertimbangkan fakta-fakta yang ada sebelum mengambil keputusan.'\n",
            " 'Tak pernah ragu untuk merespons kebutuhan orang lain dengan caranya yang praktis, selalu siap membantu'\n",
            " 'Aku tidak senang jika tidak belajar dari pengalaman masa lalu untuk mengambil keputusan yang lebih baik di masa depan.'\n",
            " 'Mungkin terkadang aku agak keras pada diri sendiri karena standar yang tinggi, tapi aku tahu bahwa memberi perhatian pada detail-detail kecil bisa membuat perbedaan yang besar dalam kehidupan sehari-hari'\n",
            " 'Selain itu, saya lebih suka hidup sederhana tanpa memikirkan rencana yang rumit.'\n",
            " 'Dalam mengambil keputusan, lebih suka mengandalkan insting dan pengalaman daripada terlalu berkutat dengan detail'\n",
            " 'Kadang suka mikir ke depan atau mikirin solusi buat masalah.'\n",
            " 'Dalam menghadapi situasi atau keputusan, saya sering mengandalkan intuisi dan perasaan saya untuk menentukan langkah yang akan diambil. Saya peduli dengan nilai-nilai, hubungan, dan dampak emosional dari keputusan yang diambil, lebih suka menjaga harmoni dan kebaikan bersama.'\n",
            " 'Dalam menghadapi situasi sulit, perasaan gua memegang peranan penting, dan gua berusaha menciptakan iklim positif di tim.'\n",
            " 'Lebih suka berpikir logis dan objektif daripada terlalu terpengaruh oleh perasaan.'\n",
            " 'Keputusan saya didasarkan pada intuisi dan perasaan, sehingga terkadang saya bisa terlihat agak impulsif.'\n",
            " 'Dalam menyelesaikan masalah, saya bukanlah orang yang mendandalkan intuisi atau perasaan, saya tidak suka jika tidak mengandalkan fakta dan data.'\n",
            " 'Dalam menghadapi situasi, saya lebih memilih untuk mengandalkan insting dan intuisi saya untuk melihat potensi jauh ke depan, memastikan bahwa setiap langkah yang diambil sesuai dengan visi panjang saya.'\n",
            " 'Respons emosional saya terhadap lingkungan seringkali menggambarkan perasaan yang mendalam, terutama ketika bersosialisasi dengan orang-orang yang dekat.'\n",
            " 'Rasanya seneng aja kalo bisa ngasih dukungan ke temen-temen, kayak nyemangatin mereka kalo lagi down. Gue juga gak suka terlalu mikirin rencana jauh-jauh hari, suka fleksibel aja, kadang mau jalan kemana gitu aja, tergantung mood dan kesempatan'\n",
            " 'Saya cenderung membuat keputusan seni berdasarkan analisis yang matang. Selalu mencari cara untuk menyajikan karya dengan makna yang jelas dan terstruktur.'\n",
            " 'Di balik penampilan gua yang kuat dan rasional, gua juga memiliki sisi emosional yang mendalam. Saat teman-temannya menghadapi kesulitan, gua adalah sosok yang penuh empati, siap memberikan dukungan dan menunjukkan kepedulian yang tulus.'\n",
            " 'Tidak bisa kalau tidak memberikan perhatian pada perasaan orang lain, sering kali lebih memilih mendengarkan daripada berbicara.'\n",
            " 'Saya senang mengamati dan memperhatikan detail-detail kecil dalam lingkungan sekitar'\n",
            " 'Tapi, ya, hidup gue emang lebih ke arah go with the flow, nggak terlalu suka rencana yang terlalu kaku'\n",
            " 'Suka aja lihat kehidupan dari sisi positifnya dan terkadang lebih enjoy kalo bisa ngikutin alur tanpa rencana yang ketat.'\n",
            " 'Suka menyelami teknologi dan pemecahan masalah, terbiasa menghadapi tantangan dengan pendekatan praktis'\n",
            " 'Pada saat menghadapi masalah, Aku dapat diandalkan untuk membuat keputusan yang logis dan rasional. Analisisnya yang tajam dan pendekatannya yang terorganisir membantunya menyelesaikan masalah dengan efisien.'\n",
            " 'Yang paling membuat saya bahagia adalah ketika saya bisa memberikan dukungan dan menciptakan rasa nyaman bagi semua orang di sekitar saya'\n",
            " 'saya tidak suka melihat kehidupan dari sisi negatif dan terkadang lebih nyaman kalau bisa ngikutin alur dengan rencana yang tidak ketat.'\n",
            " 'Ketika berinteraksi dengan sesama mahasiswa, aku menunjukkan empati yang tulus terhadap perjuangan dan pencarian identitas mereka. Aku bukan hanya pendengar yang baik tetapi juga pemberi dukungan emosional yang mengakui perasaan dan aspirasi rekan-rekannya. Kepekaannya terhadap perasaan membuatnya menjadi teman yang mendukung di tengah dinamika kompleksitas kehidupan universitas.'\n",
            " 'Meskipun saya tidak terlalu suka berbicara di depan umum, saya senang membantu orang lain dan dapat diandalkan ketika dibutuhkan'\n",
            " 'Meskipun terkadang aku keputusan gue lebih didasarkan pada perasaan, tapi aku selalu menyelaraskan logika dan emosi dan pada akhirnya memakai logika juga.'\n",
            " 'Melalui evaluasi dari kesalahan masa lalu, aku menemukan cara yang lebih baik untuk menyelesaikan tugas dengan efisiensi'\n",
            " 'Gua cenderung membuat keputusan berdasarkan analisis logis dan pertimbangan rasional. Selalu mencari solusi yang tidak hanya efektif tetapi juga memiliki dasar yang kuat dalam menjaga keamanan.'\n",
            " 'Ketika melihat hasil karya bersama, gue merasakan kebanggaan dan kebahagiaan yang mendalam. Gue meresapi setiap emosi yang terpancar dari karya tersebut, menunjukkan kepekaan emosional yang menguatkan ikatan di antara para seniman. Kecintaannya terhadap ekspresi artistik menciptakan ruang di mana setiap orang merasa dihargai dan terinspirasi.'\n",
            " 'cenderung ngehadepinnya pragmatis gitu deh, ya langsung cari solusi aja daripada mikirin terus.'\n",
            " 'Gue juga tipe orang yang sering gak bisa kalau gak bawa perasaan, meskipun kadang suka bingung sendiri kenapa tiba-tiba ngerasa gitu.'\n",
            " 'Seringnya sih, gue cuma pengen yang asik-asik aja, yang bikin hati gue adem.'\n",
            " 'Memecahkan masalah dengan cara-cara yang kreatif. Tidak suka jika bertindak sebelum menyimak, biasanya mencari cara terbaik untuk menyelesaikan suatu masalah sebelum melangkah'\n",
            " 'Tak pernah ragu untuk merespons kebutuhan orang lain dengan caranya yang praktis, selalu siap membantu'\n",
            " 'Tidak takut ambil risiko dan cenderung optimis, karena menurut gue, hidup ini seperti petualangan yang selalu menawarkan kesempatan baru.'\n",
            " 'Kadang-kadang sulit bagi saya untuk memutuskan, karena lebih suka menjelajahi berbagai opsi dan memahami semua kemungkinan sebelum membuat keputusan.'\n",
            " 'Saya cenderung memikirkan dampak manusiawi dari teknologi. Selalu berusaha untuk menciptakan solusi yang tidak hanya efisien secara teknis, tetapi juga memperhatikan pengalaman pengguna dan dampak sosialnya.'\n",
            " 'Emosi saya terkadang bisa berubah-ubah, tergantung pada situasi dan perasaan orang di sekitar saya.'\n",
            " 'Tiap kali ada masalah, gue biasanya dengerin perasaan sendiri dan orang sekitar, baru deh mulai pikirin solusinya.'\n",
            " 'Kalo ada masalah, ya langsung mikirin solusinya aja, nggak suka terlalu banyak mikirin yang nggak jelas.'\n",
            " 'Sangat percaya diri dalam mengambil risiko dan tidak cenderung tidak percaya diri, karena pandangan gue, hidup ini seperti petualangan yang tidak berhenti tetapi selalu menawarkan kesempatan baru.'\n",
            " 'Saya tidak bisa kalau tidak ber empati terhadap perasaan orang lain, suka membantu teman-teman dalam kesulitan'\n",
            " 'Sosok yang selalu ada untuk orang lain, siap memberikan bantuan tanpa ragu ketika diperlukan'\n",
            " 'Saya memiliki kecenderungan untuk merencanakan dan mengatur segala sesuatu dengan cermat'\n",
            " 'Saat bekerja bersama tim proyek, saya membawa lebih dari sekadar kemampuan organisasi. Saya memperhatikan kebutuhan dan aspirasi anggota tim, menciptakan iklim yang memungkinkan kreativitas berkembang. Kepekaannya terhadap perasaan dan kebutuhan individu membuat setiap orang merasa diperhatikan dan bernilai dalam kontribusinya.'\n",
            " 'Rasanya akrab dengan analisis logis dan senang menyelesaikan masalah dengan pendekatan yang rasional.'\n",
            " 'Saya senang mengamati dan memperhatikan detail-detail kecil dalam lingkungan sekitar'\n",
            " 'Saya merasakan kebahagiaan dalam menyelami perasaan, terhubung dengan dunia emosi yang kaya, dan sering kali mengekspresikan diri melalui seni.'\n",
            " 'Nggak suka ribet, yang penting asyik dan enjoyable. Selalu stay positive, suka bercanda, dan punya energi berlebih'\n",
            " 'Orang yang tidak pernah tidak mendukung orang lain, siap membantu kapan pun dibutuhkan.'\n",
            " 'Kalo ada masalah, langsung cari solusinya aja, nggak suka berlama-lama mikirin hal-hal yang ribet'\n",
            " 'Aku juga senang belajar dari pengalaman masa lalu untuk mengambil keputusan yang lebih baik di masa depan.'\n",
            " 'Ga suka kalo ga menyelami teknologi dan pemecahan masalah, terbiasa menghadapi tantangan dengan pendekatan praktis'\n",
            " 'Terkadang sulit bagi saya untuk mengungkapkan perasaan dengan jelas, cenderung menyimpan emosi dalam-dalam dan tidak menunjukkannya secara terbuka.Saya selalu mencari solusi yang efektif dan berpikir kritis untuk menangani masalah kesehatan pasien.'\n",
            " 'Saat dengan klien, gua tidak hanya berbicara tentang hukum, melainkan juga tentang kehidupan. Gua peka terhadap kebutuhan emosional dan kekhawatiran klien, menciptakan hubungan yang lebih dari sekadar hubungan klien dan pengacara. Keempatian saya membantu klien merasa didengar dan didukung dalam proses hukum.'\n",
            " 'Saat teman sekelas menghadapi tantangan atau kesulitan, saya meresapi perasaan mereka dengan penuh empati. Ia bukan hanya mendengarkan, tetapi juga memberikan dukungan dan solusi yang dapat membantu mereka melewati momen sulit. Kecintaannya terhadap kesejahteraan teman-temannya menciptakan atmosfer keakraban dan kepedulian di antara siswa-siswi sekolah.'\n",
            " 'Dan, gue tuh lebih suka mengikuti arus kehidupan aja tanpa perlu banyak mikirin rencana yang tidak sederhana.'\n",
            " 'Ketika melihat anak-anak yang bermain dengan sukacita, saya merasakan kebahagiaan yang bersumber dari konektivitas sosial. Saya mendalaminya dengan menyinari wajah mereka, menunjukkan kepekaan emosional yang melibatkan perasaan kehangatan dan sukacita. Kecintaannya terhadap kebersamaan menciptakan hubungan yang mendalam dan berarti.'\n",
            " 'Seringnya sih, kalau ada masalah, tidak suka hanya berbicara mengenai teorinya, lebih baik langsung cari solusinya.'\n",
            " 'Dalam dunia pemikiran aku, pertimbangan rasional dan analisis mendalam adalah kunci untuk mencapai solusi yang tepat dan bermanfaat bagi situasi yang dihadapi.'\n",
            " \"Ngeliat sesuatu, nggak bisa nggak mikir, 'Ini bisa diimprove atau diotak-atik gimana ya?\"\n",
            " 'Pemikiran logis dan analitis membantu dalam pengambilan keputusan sehari-hari, terutama saat menyelesaikan masalah kompleks'\n",
            " 'Saya mencari solusi yang tidak rumit untuk masalah sehari-hari, tidak suka jika tidak merencanakan ke depan, dan berusaha untuk memastikan semuanya berjalan sesuai rencana.'\n",
            " 'Gua ga pernah ga ngumpulin data dari berbagai sumber buat cari solusi terbaik'\n",
            " 'Saya cenderung mengambil keputusan berdasarkan logika dan fakta, tanpa banyak berlama-lama dalam pemikiran.'\n",
            " 'Keputusan gue sering kali dipengaruhi oleh perasaan, dan gue merasa nyaman saat bisa berhubungan emosional dengan orang lain. Gue suka membawa kehangatan dan mendukung orang-orang di sekitar gue secara emosional.'\n",
            " 'Dalam berinteraksi dengan rekan kerja, gua tidak hanya melihat tanggung jawab sebagai tugas, tetapi sebagai peluang untuk membangun hubungan. Gua memiliki kemampuan untuk membaca emosi di ruang rapat dan membawa kehangatan dalam diskusi profesional. Pendekatan gua yang ramah dan perhatian menciptakan lingkungan kerja yang mendukung dan kooperatif.'\n",
            " 'Lebih suka memikirkan hal-hal secara logis dan analitis, kadang terjebak dalam kerumitan analisis tanpa batas'\n",
            " 'Ketika berinteraksi dengan anggota klub, gua menampilkan kepekaan emosional yang luar biasa. Gua tidak hanya mendengarkan dengan penuh perhatian, tetapi juga meresapi perasaan dan aspirasi setiap orang. Kecintaannya terhadap kesejahteraan anggota klub menciptakan ikatan emosional yang kuat di antara mereka.'\n",
            " 'Gue cenderung fleksibel dan suka ngikutin arus, meskipun kadang-kalo udah lewat deadline juga suka dadakan stress'\n",
            " 'Dalam membuat keputusan, aku lebih mengandalkan intuisi dan perasaan, sering kali mengikuti hati daripada logika dingin'\n",
            " 'Untuk dukungan pada teman sekelas yang sedang mengalami kesulitan, saya membawa kehangatan dan perhatian. Saya selalu terlihat siap mendengarkan, memberikan nasihat yang tulus, dan memberikan dorongan moral ketika diperlukan. Kepekaan saya terhadap perasaan orang lain membuatnya menjadi teman yang diandalkan dalam setiap perjalanan akademis.'\n",
            " 'Saya tidak pernah tidak mencari solusi inovatif untuk tantangan yang muncul di sepanjang jalan'\n",
            " 'Dalam menghadapi masalah, gue lebih suka berpikir cepat dan pragmatis, mencari solusi yang efektif dan langsung diterapkan'\n",
            " 'Pikiran saya rasional dan logis, saya tidak bisa  memecahkan masalah tanpa pendekatan yang terstruktur dan efisien'\n",
            " 'Selalu mencari cara untuk mencapai tujuan dengan efisiensi dan efektivitas. Dalam pengambilan keputusan, lebih suka berdasarkan fakta dan logika ketimbang emosi'\n",
            " 'Cenderung praktis dan suka mempertimbangkan logika serta fakta sebelum membuat keputusan'\n",
            " 'Saya juga cenderung memperhatikan detail dan memiliki keinginan untuk menyelesaikan tugas tepat waktu.'\n",
            " 'Ketika ada masalah, gue lebih suka ngandelin perasaan dan insting buat nyari solusinya daripada mikirin panjang'\n",
            " 'Saya suka mempertanyakan segalanya, dari cara kerja mesin kopi hingga filosofi hidup. Jika ada rencana atau jadwal yang terlalu kaku, saya merasa lebih baik dengan improvisasi dan fleksibilitas. Keputusan saya lebih didasarkan pada analisis rasional daripada perasaan'\n",
            " 'Ketika menentukan kualitas barang, gue beralih ke mode pemikiran analitis yang kritis. Dengan cepat, gue membandingkan keunggulan dan kelebihan, saya juga menentukan harga mana yang sesuai dengan keuangan saya, membuat keputusan pembelian yang paling menguntungkan. Pikiran gue mengambil keputusan berdasarkan perhitungan dan faktar sehingga sangat percaya diri dalam menentukan pilihan.'\n",
            " 'Aku sering membantu dengan tugas-tugas rumah tangga atau memberikan dukungan kepada teman-teman saat mereka butuh'\n",
            " 'Melihat sekelompok remaja yang duduk di bawah pohon, ESFJ merasakan gelombang keinginan untuk berbagi cerita hidup mereka. Ia menunjukkan kepekaan terhadap perasaan mereka, seperti rasanya marshmallow yang leleh di lidah. Kesediaannya mendengarkan dan terhubung menciptakan momen kebersamaan yang tulus dan menghangatkan suasana piknik.'\n",
            " 'Suka hal-hal praktis dan penuh tantangan. Senang memecahkan masalah dengan pendekatan yang logis dan lebih suka bertindak daripada hanya berbicara'\n",
            " 'Saya cenderung berpikir secara logis dalam menghadapi masalah dan mempertimbangkan fakta-fakta yang ada sebelum mengambil keputusan.'\n",
            " 'Logika dan analisis adalah kekuatan saya; saya suka mencari solusi efisien dan rasional untuk setiap masalah yang dihadapi.'\n",
            " 'Dan yang paling penting, buat aku, hubungan sama orang itu lebih berarti daripada segalanya. So, yaudah deh, mari kita nikmati setiap momen tanpa harus mikirin detail-detail yang bikin ribet!'\n",
            " 'Bisa dibilang, saya tuh kayaknya lebih ke enjoy aja hidup, dan suka kasih perhatian ke orang-orang di sekitar.'\n",
            " 'Dalam pengambilan keputusan, perasaan saya memegang peranan penting, dan saya berusaha untuk menciptakan harmoni dalam lingkungan kerja.'\n",
            " 'Gue emang paling kerasa perasaannya, sering banget meresapi emosi sendiri dan orang-orang di sekitar.'\n",
            " 'Saya orang yang tidak suka jika tidak berpikir dan merencanakan terlebih dahulu sebelum melakukan sesuatu'\n",
            " 'Kadang-kadang saya merasa terinspirasi oleh perasaan atau intuisi saya saat mencari solusi untuk masalah atau tantangan yang dihadapi'\n",
            " 'Tidak bisa kalau tidak menyusun rencana secara logis dan menganalisis segala sesuatu dengan kepala dingin'\n",
            " 'Ga suka juga sama hal-hal yang ribet, kayak ngoprek barang-barang biar bisa lebih efisien, meskipun terkadang itu bikin orang sekitar bingung'\n",
            " 'Saat bekerja bersama tim proyek, saya membawa lebih dari sekadar kemampuan organisasi. Saya memperhatikan kebutuhan dan aspirasi anggota tim, menciptakan iklim yang memungkinkan kreativitas berkembang. Kepekaannya terhadap perasaan dan kebutuhan individu membuat setiap orang merasa diperhatikan dan bernilai dalam kontribusinya.'\n",
            " 'Tidak suka jika tidak mengambil kendali situasi dan menetapkan jalur yang jelas, lebih suka berpikir logis.'\n",
            " 'Yang pasti, gue fleksibel, bisa adaptasi sama perubahan, dan selalu open-minded'\n",
            " 'Suka mengembangkan strategi yang matang dan tidak ragu-ragu dalam mengambil keputusan yang berpotensi membawa kesuksesan jangka panjang.'\n",
            " 'Sosok yang selalu ada untuk orang lain, siap memberikan bantuan tanpa ragu ketika diperlukan'\n",
            " 'Saya suka membuat keputusan berdasarkan kata hati dan mendengarkan hati biasanya lebih tenang.'\n",
            " 'Kepribadian feeling (F) saya tercermin dalam sikap empati dan kepekaan terhadap perasaan orang lain, selalu berusaha menciptakan harmoni dan memahami berbagai perspektif.'\n",
            " 'Perasaan saya terhadap orang-orang di sekitar saya terkadang lebih penting daripada logika, dan saya cenderung menyesuaikan diri dengan perasaan mereka.'\n",
            " 'Jika dihadapkan pada teka-teki yang kompleks di pertandingan papan, saya adalah pemikir strategis yang ulung. Dengan berbagai langkah yang diperhitungkan, saya menganalisis setiap kemungkinan dengan logika yang tajam. Keputusan yang saya ambil cerdas dan terukur tidak hanya memenangkan permainan tetapi juga memukau teman-teman saya.'\n",
            " 'Ketika ada masalah, saya lebih suka mengandalkan perasaan dan mendengarkan hati nurani daripada terlalu berpikir panjang.Jadi, lebih suka mengejar kebahagiaan daripada mengikuti aturan yang ketat.']\n"
          ]
        }
      ]
    },
    {
      "cell_type": "code",
      "source": [
        "encoder_url = 'https://www.kaggle.com/models/tensorflow/bert/frameworks/TensorFlow2/variations/multi-cased-l-12-h-768-a-12/versions/4'\n",
        "preprocess_url = \"https://www.kaggle.com/models/tensorflow/bert/frameworks/TensorFlow2/variations/multi-cased-preprocess/versions/3\"\n",
        "embedding_model1 = hub.KerasLayer(encoder_url, trainable=True)\n",
        "# embedding_model2 = hub.KerasLayer(encoder_url, trainable=True)\n",
        "# embedding_model3 = hub.KerasLayer(encoder_url, trainable=True)\n",
        "# embedding_model4 = hub.KerasLayer(encoder_url, trainable=True)\n",
        "preprocess_model1 = hub.KerasLayer(preprocess_url)\n",
        "# preprocess_model2 = hub.KerasLayer(preprocess_url)\n",
        "# preprocess_model3 = hub.KerasLayer(preprocess_url)\n",
        "# preprocess_model4 = hub.KerasLayer(preprocess_url)"
      ],
      "metadata": {
        "id": "myuT0XKfqIT1",
        "execution": {
          "iopub.status.busy": "2023-12-02T00:44:27.765072Z",
          "iopub.execute_input": "2023-12-02T00:44:27.765535Z",
          "iopub.status.idle": "2023-12-02T00:44:44.589972Z",
          "shell.execute_reply.started": "2023-12-02T00:44:27.765502Z",
          "shell.execute_reply": "2023-12-02T00:44:44.588987Z"
        },
        "trusted": true
      },
      "execution_count": 15,
      "outputs": []
    },
    {
      "cell_type": "code",
      "source": [
        "def build_classifier_model():\n",
        "    text_input1 = tf.keras.layers.Input(shape=(), dtype=tf.string, name='text1')\n",
        "#     text_input2 = tf.keras.layers.Input(shape=(), dtype=tf.string, name='text2')\n",
        "#     text_input3 = tf.keras.layers.Input(shape=(), dtype=tf.string, name='text3')\n",
        "#     text_input4 = tf.keras.layers.Input(shape=(), dtype=tf.string, name='text4')\n",
        "\n",
        "    # Gunakan lapisan pre-processing terpisah untuk setiap input\n",
        "    preprocessing_layer1 = hub.KerasLayer(preprocess_model1, name='preprocessing1')\n",
        "#     preprocessing_layer2 = hub.KerasLayer(preprocess_model1, name='preprocessing2')\n",
        "#     preprocessing_layer3 = hub.KerasLayer(preprocess_model1, name='preprocessing3')\n",
        "#     preprocessing_layer4 = hub.KerasLayer(preprocess_model1, name='preprocessing4')\n",
        "\n",
        "    encoder_inputs1 = preprocessing_layer1(text_input1)\n",
        "#     encoder_inputs2 = preprocessing_layer2(text_input2)\n",
        "#     encoder_inputs3 = preprocessing_layer3(text_input3)\n",
        "#     encoder_inputs4 = preprocessing_layer4(text_input4)\n",
        "\n",
        "    encoder1 = hub.KerasLayer(embedding_model1, name='BERT_encoder_1', trainable=True)\n",
        "#     encoder2 = hub.KerasLayer(embedding_model1, name='BERT_encoder_2', trainable=True)\n",
        "#     encoder3 = hub.KerasLayer(embedding_model1, name='BERT_encoder_3', trainable=True)\n",
        "#     encoder4 = hub.KerasLayer(embedding_model1, name='BERT_encoder_4', trainable=True)\n",
        "\n",
        "    outputs1 = encoder1(encoder_inputs1)['pooled_output']\n",
        "#     outputs2 = encoder2(encoder_inputs2)['pooled_output']\n",
        "#     outputs3 = encoder3(encoder_inputs3)['pooled_output']\n",
        "#     outputs4 = encoder4(encoder_inputs4)['pooled_output']\n",
        "\n",
        "    # Add a Flatten layer to handle varying input lengths\n",
        "#     outputs1 = tf.keras.layers.Flatten()(outputs1)\n",
        "#     outputs2 = tf.keras.layers.Flatten()(outputs2)\n",
        "#     outputs3 = tf.keras.layers.Flatten()(outputs3)\n",
        "#     outputs4 = tf.keras.layers.Flatten()(outputs4)\n",
        "    outputs1 = tf.keras.layers.Dropout(0.5 , name=\"dropout\")(outputs1)\n",
        "\n",
        "    label1 = tf.keras.layers.Dense(1, activation='sigmoid', name='classifier1')(outputs1)\n",
        "#     label2 = tf.keras.layers.Dense(1, activation='sigmoid', name='classifier2')(outputs2)\n",
        "#     label3 = tf.keras.layers.Dense(1, activation='sigmoid', name='classifier3')(outputs3)\n",
        "#     label4 = tf.keras.layers.Dense(1, activation='sigmoid', name='classifier4')(outputs4)\n",
        "\n",
        "#     concatenated_outputs = tf.keras.layers.concatenate([label1, label2, label3, label4], name='output')\n",
        "\n",
        "    return tf.keras.Model(inputs=[text_input1], outputs=[label1])\n"
      ],
      "metadata": {
        "id": "nVp2ZiKWJApS",
        "execution": {
          "iopub.status.busy": "2023-12-02T00:44:44.591634Z",
          "iopub.execute_input": "2023-12-02T00:44:44.591913Z",
          "iopub.status.idle": "2023-12-02T00:44:44.599292Z",
          "shell.execute_reply.started": "2023-12-02T00:44:44.591890Z",
          "shell.execute_reply": "2023-12-02T00:44:44.598512Z"
        },
        "trusted": true
      },
      "execution_count": 16,
      "outputs": []
    },
    {
      "cell_type": "code",
      "source": [
        "model = build_classifier_model()\n",
        "model.summary()"
      ],
      "metadata": {
        "id": "kAUGnHx7NfbL",
        "outputId": "80efac53-558f-4416-e5ae-1643f1671333",
        "execution": {
          "iopub.status.busy": "2023-12-02T00:44:44.600097Z",
          "iopub.execute_input": "2023-12-02T00:44:44.600341Z",
          "iopub.status.idle": "2023-12-02T00:44:45.384036Z",
          "shell.execute_reply.started": "2023-12-02T00:44:44.600321Z",
          "shell.execute_reply": "2023-12-02T00:44:45.383240Z"
        },
        "trusted": true,
        "colab": {
          "base_uri": "https://localhost:8080/"
        }
      },
      "execution_count": 17,
      "outputs": [
        {
          "output_type": "stream",
          "name": "stdout",
          "text": [
            "Model: \"model_1\"\n",
            "__________________________________________________________________________________________________\n",
            " Layer (type)                Output Shape                 Param #   Connected to                  \n",
            "==================================================================================================\n",
            " text1 (InputLayer)          [(None,)]                    0         []                            \n",
            "                                                                                                  \n",
            " preprocessing1 (KerasLayer  {'input_word_ids': (None,    0         ['text1[0][0]']               \n",
            " )                           128),                                                                \n",
            "                              'input_mask': (None, 128)                                           \n",
            "                             , 'input_type_ids': (None,                                           \n",
            "                              128)}                                                               \n",
            "                                                                                                  \n",
            " BERT_encoder_1 (KerasLayer  {'default': (None, 768),     1778534   ['preprocessing1[0][0]',      \n",
            " )                            'encoder_outputs': [(None   41         'preprocessing1[0][1]',      \n",
            "                             , 128, 768),                            'preprocessing1[0][2]']      \n",
            "                              (None, 128, 768),                                                   \n",
            "                              (None, 128, 768),                                                   \n",
            "                              (None, 128, 768),                                                   \n",
            "                              (None, 128, 768),                                                   \n",
            "                              (None, 128, 768),                                                   \n",
            "                              (None, 128, 768),                                                   \n",
            "                              (None, 128, 768),                                                   \n",
            "                              (None, 128, 768),                                                   \n",
            "                              (None, 128, 768),                                                   \n",
            "                              (None, 128, 768),                                                   \n",
            "                              (None, 128, 768)],                                                  \n",
            "                              'pooled_output': (None, 7                                           \n",
            "                             68),                                                                 \n",
            "                              'sequence_output': (None,                                           \n",
            "                              128, 768)}                                                          \n",
            "                                                                                                  \n",
            " dropout (Dropout)           (None, 768)                  0         ['BERT_encoder_1[0][13]']     \n",
            "                                                                                                  \n",
            " classifier1 (Dense)         (None, 1)                    769       ['dropout[0][0]']             \n",
            "                                                                                                  \n",
            "==================================================================================================\n",
            "Total params: 177854210 (678.46 MB)\n",
            "Trainable params: 177854209 (678.46 MB)\n",
            "Non-trainable params: 1 (1.00 Byte)\n",
            "__________________________________________________________________________________________________\n"
          ]
        }
      ]
    },
    {
      "cell_type": "code",
      "source": [
        "tf.keras.utils.plot_model(model)"
      ],
      "metadata": {
        "id": "hFnSiPVIQ2yS",
        "outputId": "5ac2039e-7060-4423-b092-bf1eec4410d4",
        "execution": {
          "iopub.status.busy": "2023-12-02T00:45:05.030441Z",
          "iopub.execute_input": "2023-12-02T00:45:05.031543Z",
          "iopub.status.idle": "2023-12-02T00:45:05.283842Z",
          "shell.execute_reply.started": "2023-12-02T00:45:05.031475Z",
          "shell.execute_reply": "2023-12-02T00:45:05.282611Z"
        },
        "trusted": true,
        "colab": {
          "base_uri": "https://localhost:8080/",
          "height": 466
        }
      },
      "execution_count": 18,
      "outputs": [
        {
          "output_type": "execute_result",
          "data": {
            "image/png": "[encoded data removed]",
            "text/plain": [
              "<IPython.core.display.Image object>"
            ]
          },
          "metadata": {},
          "execution_count": 18
        }
      ]
    },
    {
      "cell_type": "code",
      "source": [
        "epochs = 5\n",
        "steps_per_epoch = 16\n",
        "batch_size = 2\n",
        "optimizer = tf.keras.optimizers.Adam(learning_rate=0.000001)"
      ],
      "metadata": {
        "id": "_6mdEf0wR51q",
        "execution": {
          "iopub.status.busy": "2023-12-02T00:44:57.674695Z",
          "iopub.execute_input": "2023-12-02T00:44:57.675170Z",
          "iopub.status.idle": "2023-12-02T00:44:57.684950Z",
          "shell.execute_reply.started": "2023-12-02T00:44:57.675135Z",
          "shell.execute_reply": "2023-12-02T00:44:57.684239Z"
        },
        "trusted": true
      },
      "execution_count": 19,
      "outputs": []
    },
    {
      "cell_type": "code",
      "source": [
        "!pip install -q tf-models-official"
      ],
      "metadata": {
        "execution": {
          "iopub.status.busy": "2023-12-02T00:45:09.194683Z",
          "iopub.execute_input": "2023-12-02T00:45:09.195123Z",
          "iopub.status.idle": "2023-12-02T00:45:20.087986Z",
          "shell.execute_reply.started": "2023-12-02T00:45:09.195093Z",
          "shell.execute_reply": "2023-12-02T00:45:20.086695Z"
        },
        "trusted": true,
        "id": "dsKbEM57j9sr"
      },
      "execution_count": 20,
      "outputs": []
    },
    {
      "cell_type": "code",
      "source": [
        "# model.compile(optimizer=optimizer,\n",
        "#                          loss=loss,\n",
        "#                          metrics=metrics)\n",
        "# model.load_weights(\"/content/drive/MyDrive/model_checkpoint_best.h5\")\n",
        "model.compile(optimizer=tf.keras.optimizers.Adam(learning_rate=0.000001),\n",
        "              loss=tf.keras.losses.BinaryCrossentropy(),  # Fungsi kerugian untuk klasifikasi biner\n",
        "              metrics=['accuracy'])"
      ],
      "metadata": {
        "id": "UjIESrHJSGVh",
        "execution": {
          "iopub.status.busy": "2023-12-02T00:45:20.090000Z",
          "iopub.execute_input": "2023-12-02T00:45:20.090330Z",
          "iopub.status.idle": "2023-12-02T00:45:20.109722Z",
          "shell.execute_reply.started": "2023-12-02T00:45:20.090301Z",
          "shell.execute_reply": "2023-12-02T00:45:20.108696Z"
        },
        "trusted": true
      },
      "execution_count": 21,
      "outputs": []
    },
    {
      "cell_type": "code",
      "source": [
        "from tensorflow.keras.callbacks import ModelCheckpoint\n",
        "\n",
        "# Path untuk menyimpan checkpoint pada setiap epoch\n",
        "checkpoint_path_epoch = \"/content/drive/MyDrive/model_checkpoint_epoch.h5\"\n",
        "\n",
        "# Path untuk menyimpan checkpoint model terbaik\n",
        "checkpoint_path_best = \"/content/drive/MyDrive/model_checkpoint_best.h5\"\n",
        "\n",
        "# Callback untuk menyimpan checkpoint pada setiap epoch\n",
        "checkpoint_callback_epoch = ModelCheckpoint(\n",
        "    filepath=checkpoint_path_epoch,\n",
        "    save_weights_only=True,\n",
        "    save_best_only=False,  # Set ke False agar menyimpan pada setiap epoch\n",
        "    verbose=1\n",
        ")\n",
        "\n",
        "# Callback untuk menyimpan checkpoint model terbaik\n",
        "checkpoint_callback_best = ModelCheckpoint(\n",
        "    filepath=checkpoint_path_best,\n",
        "    save_weights_only=True,\n",
        "    save_best_only=True,  # Set ke True agar hanya menyimpan model terbaik\n",
        "    monitor='val_loss',\n",
        "    mode='min',\n",
        "    verbose=1\n",
        ")"
      ],
      "metadata": {
        "id": "JXgAHcGsBAF1",
        "execution": {
          "iopub.status.busy": "2023-12-02T00:45:25.865472Z",
          "iopub.execute_input": "2023-12-02T00:45:25.865944Z",
          "iopub.status.idle": "2023-12-02T00:45:25.872914Z",
          "shell.execute_reply.started": "2023-12-02T00:45:25.865911Z",
          "shell.execute_reply": "2023-12-02T00:45:25.871979Z"
        },
        "trusted": true
      },
      "execution_count": 22,
      "outputs": []
    },
    {
      "cell_type": "code",
      "source": [
        "# untuk lanjut\n",
        "model.fit(\n",
        "    x=x_train, y=label_train,\n",
        "    epochs=20,\n",
        "    validation_data=(x_valid, label_valid),batch_size=batch_size,\n",
        ")"
      ],
      "metadata": {
        "id": "czR2DhK1nuDl",
        "outputId": "6886cda3-3ce9-41db-f8a8-5dfb3a426c59",
        "execution": {
          "iopub.status.busy": "2023-12-02T00:45:54.785280Z",
          "iopub.execute_input": "2023-12-02T00:45:54.785758Z"
        },
        "trusted": true,
        "colab": {
          "base_uri": "https://localhost:8080/"
        }
      },
      "execution_count": 23,
      "outputs": [
        {
          "output_type": "stream",
          "name": "stdout",
          "text": [
            "Epoch 1/20\n",
            "128/128 [==============================] - 83s 239ms/step - loss: 0.7054 - accuracy: 0.5547 - val_loss: 0.6754 - val_accuracy: 0.5781\n",
            "Epoch 2/20\n",
            "128/128 [==============================] - 17s 136ms/step - loss: 0.6874 - accuracy: 0.5664 - val_loss: 0.6542 - val_accuracy: 0.6562\n",
            "Epoch 3/20\n",
            "128/128 [==============================] - 14s 110ms/step - loss: 0.6530 - accuracy: 0.6250 - val_loss: 0.6135 - val_accuracy: 0.7344\n",
            "Epoch 4/20\n",
            "128/128 [==============================] - 15s 114ms/step - loss: 0.5780 - accuracy: 0.7617 - val_loss: 0.5113 - val_accuracy: 0.7969\n",
            "Epoch 5/20\n",
            "128/128 [==============================] - 13s 102ms/step - loss: 0.4806 - accuracy: 0.8281 - val_loss: 0.4113 - val_accuracy: 0.8438\n",
            "Epoch 6/20\n",
            "128/128 [==============================] - 14s 109ms/step - loss: 0.3585 - accuracy: 0.8711 - val_loss: 0.3360 - val_accuracy: 0.8594\n",
            "Epoch 7/20\n",
            "128/128 [==============================] - 14s 108ms/step - loss: 0.3114 - accuracy: 0.8984 - val_loss: 0.2791 - val_accuracy: 0.8906\n",
            "Epoch 8/20\n",
            "128/128 [==============================] - 14s 112ms/step - loss: 0.1915 - accuracy: 0.9492 - val_loss: 0.2953 - val_accuracy: 0.8750\n",
            "Epoch 9/20\n",
            "128/128 [==============================] - 13s 104ms/step - loss: 0.1759 - accuracy: 0.9336 - val_loss: 0.2580 - val_accuracy: 0.9219\n",
            "Epoch 10/20\n",
            "128/128 [==============================] - 14s 107ms/step - loss: 0.1190 - accuracy: 0.9727 - val_loss: 0.2523 - val_accuracy: 0.9062\n",
            "Epoch 11/20\n",
            "128/128 [==============================] - 14s 107ms/step - loss: 0.1053 - accuracy: 0.9727 - val_loss: 0.2736 - val_accuracy: 0.8906\n",
            "Epoch 12/20\n",
            "128/128 [==============================] - 13s 104ms/step - loss: 0.0804 - accuracy: 0.9883 - val_loss: 0.2169 - val_accuracy: 0.9219\n",
            "Epoch 13/20\n",
            "128/128 [==============================] - 14s 106ms/step - loss: 0.0619 - accuracy: 0.9844 - val_loss: 0.2300 - val_accuracy: 0.9375\n",
            "Epoch 14/20\n",
            "128/128 [==============================] - 13s 105ms/step - loss: 0.0514 - accuracy: 0.9922 - val_loss: 0.2514 - val_accuracy: 0.9219\n",
            "Epoch 15/20\n",
            "128/128 [==============================] - 14s 106ms/step - loss: 0.0589 - accuracy: 0.9844 - val_loss: 0.2094 - val_accuracy: 0.9375\n",
            "Epoch 16/20\n",
            "128/128 [==============================] - 14s 106ms/step - loss: 0.0330 - accuracy: 0.9922 - val_loss: 0.1899 - val_accuracy: 0.9375\n",
            "Epoch 17/20\n",
            "128/128 [==============================] - 15s 114ms/step - loss: 0.0300 - accuracy: 0.9961 - val_loss: 0.1997 - val_accuracy: 0.9219\n",
            "Epoch 18/20\n",
            "128/128 [==============================] - 13s 103ms/step - loss: 0.0260 - accuracy: 0.9961 - val_loss: 0.2209 - val_accuracy: 0.9375\n",
            "Epoch 19/20\n",
            "128/128 [==============================] - 13s 103ms/step - loss: 0.0358 - accuracy: 0.9883 - val_loss: 0.2353 - val_accuracy: 0.9375\n",
            "Epoch 20/20\n",
            "128/128 [==============================] - 13s 102ms/step - loss: 0.0200 - accuracy: 0.9961 - val_loss: 0.2295 - val_accuracy: 0.9375\n"
          ]
        },
        {
          "output_type": "execute_result",
          "data": {
            "text/plain": [
              "<keras.src.callbacks.History at 0x7a3c55396290>"
            ]
          },
          "metadata": {},
          "execution_count": 23
        }
      ]
    },
    {
      "cell_type": "code",
      "source": [
        "model.predict([\"saya suka berpikir kreatif dan liar\"])"
      ],
      "metadata": {
        "execution": {
          "iopub.status.busy": "2023-11-28T15:32:22.441094Z",
          "iopub.execute_input": "2023-11-28T15:32:22.441860Z",
          "iopub.status.idle": "2023-11-28T15:32:23.306655Z",
          "shell.execute_reply.started": "2023-11-28T15:32:22.441828Z",
          "shell.execute_reply": "2023-11-28T15:32:23.305609Z"
        },
        "trusted": true,
        "id": "VHe9agUuj9ss"
      },
      "execution_count": null,
      "outputs": []
    },
    {
      "cell_type": "code",
      "source": [
        "# Mendapatkan daftar perangkat yang tersedia (CPU dan GPU)\n",
        "devices = tf.config.list_physical_devices()\n",
        "\n",
        "if len(devices) == 0:\n",
        "    print(\"Tidak ada perangkat fisik yang ditemukan.\")\n",
        "else:\n",
        "    print(\"Perangkat yang tersedia:\")\n",
        "    for device in devices:\n",
        "        print(f\"- {device.name} ({device.device_type})\")"
      ],
      "metadata": {
        "trusted": true,
        "colab": {
          "base_uri": "https://localhost:8080/"
        },
        "id": "j_hzvAndj9ss",
        "outputId": "f6232858-3bc6-49b1-ca35-9b6dfed7e2a1"
      },
      "execution_count": 24,
      "outputs": [
        {
          "output_type": "stream",
          "name": "stdout",
          "text": [
            "Perangkat yang tersedia:\n",
            "- /physical_device:CPU:0 (CPU)\n",
            "- /physical_device:GPU:0 (GPU)\n"
          ]
        }
      ]
    },
    {
      "cell_type": "code",
      "source": [
        "print(model.predict([\"Penuh dengan kepekaan, selalu memperhatikan emosi orang lain, dan mampu merasakan suasana hati dengan sangat dalam.\"])) #Feeling"
      ],
      "metadata": {
        "id": "qtk4dkOptsxD",
        "colab": {
          "base_uri": "https://localhost:8080/"
        },
        "outputId": "f2a86362-2b8f-4c67-da6e-ddebb51bf740"
      },
      "execution_count": 26,
      "outputs": [
        {
          "output_type": "stream",
          "name": "stdout",
          "text": [
            "1/1 [==============================] - 1s 1s/step\n",
            "[[0.9980496]]\n"
          ]
        }
      ]
    },
    {
      "cell_type": "code",
      "source": [
        "print(model.predict([\"Cenderung menggunakan logika dan analisis mendalam dalam setiap keputusan yang diambil, mempertimbangkan fakta-fakta sebelum bertindak\"])) #Thinking"
      ],
      "metadata": {
        "id": "2eb5sWHqopB6",
        "outputId": "959b948e-0ed5-488c-8ab6-fc2d6fafe9f0",
        "colab": {
          "base_uri": "https://localhost:8080/"
        }
      },
      "execution_count": 27,
      "outputs": [
        {
          "output_type": "stream",
          "name": "stdout",
          "text": [
            "1/1 [==============================] - 0s 44ms/step\n",
            "[[0.00232888]]\n"
          ]
        }
      ]
    }
  ]
}